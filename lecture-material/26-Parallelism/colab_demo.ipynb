{
  "nbformat": 4,
  "nbformat_minor": 0,
  "metadata": {
    "colab": {
      "provenance": [],
      "gpuType": "T4"
    },
    "kernelspec": {
      "name": "python3",
      "display_name": "Python 3"
    },
    "language_info": {
      "name": "python"
    },
    "accelerator": "GPU"
  },
  "cells": [
    {
      "cell_type": "code",
      "execution_count": 1,
      "metadata": {
        "id": "V8Wp2EuB-GRt"
      },
      "outputs": [],
      "source": [
        "import numpy as np\n",
        "import torch\n",
        "import time"
      ]
    },
    {
      "cell_type": "code",
      "source": [
        "N = 2000\n",
        "A = np.random.normal(size=(5000, N))\n",
        "B = np.random.normal(size=(N, 4200))"
      ],
      "metadata": {
        "id": "H2bDVNZJ-T2q"
      },
      "execution_count": 2,
      "outputs": []
    },
    {
      "cell_type": "code",
      "source": [
        "print(A.shape, B.shape)"
      ],
      "metadata": {
        "colab": {
          "base_uri": "https://localhost:8080/"
        },
        "id": "rX9WohQO-dVv",
        "outputId": "f0e5f552-3e5c-4396-8f08-5209c4a362fc"
      },
      "execution_count": 3,
      "outputs": [
        {
          "output_type": "stream",
          "name": "stdout",
          "text": [
            "(5000, 2000) (2000, 4200)\n"
          ]
        }
      ]
    },
    {
      "cell_type": "code",
      "source": [
        "# convert numpy array to torch tensor\n",
        "A = torch.from_numpy(A)\n",
        "B = torch.from_numpy(B)"
      ],
      "metadata": {
        "id": "HVf2koGc-kGy"
      },
      "execution_count": 4,
      "outputs": []
    },
    {
      "cell_type": "code",
      "source": [
        "A = A.to(\"cuda\") # \"cuda\" is Nvidia's platform for programmable GPUs\n",
        "B = B.to(\"cuda\")"
      ],
      "metadata": {
        "id": "ReTSpYTN-nmG"
      },
      "execution_count": 5,
      "outputs": []
    },
    {
      "cell_type": "code",
      "source": [
        "if torch.cuda.is_available():\n",
        "  print(\"GPU\")\n",
        "  A = A.to(\"cuda\") # \"cuda\" is Nvidia's platform for programmable GPUs\n",
        "  B = B.to(\"cuda\")\n",
        "else:\n",
        "  print(\"No GPU\")"
      ],
      "metadata": {
        "colab": {
          "base_uri": "https://localhost:8080/"
        },
        "id": "0PU4TydX-532",
        "outputId": "5fa14f46-dc84-472f-c32b-0900ee4faa63"
      },
      "execution_count": 6,
      "outputs": [
        {
          "output_type": "stream",
          "name": "stdout",
          "text": [
            "GPU\n"
          ]
        }
      ]
    },
    {
      "cell_type": "code",
      "source": [
        "t0 = time.time()\n",
        "C = A @ B\n",
        "t1= time.time()\n",
        "(t1 - t0) * 1000"
      ],
      "metadata": {
        "colab": {
          "base_uri": "https://localhost:8080/"
        },
        "id": "D7p0Ttni_D1h",
        "outputId": "bf79073b-1ebf-45aa-83c7-e3259438a0d0"
      },
      "execution_count": 7,
      "outputs": [
        {
          "output_type": "execute_result",
          "data": {
            "text/plain": [
              "29.39772605895996"
            ]
          },
          "metadata": {},
          "execution_count": 7
        }
      ]
    },
    {
      "cell_type": "markdown",
      "source": [
        "If we rerun the above cell, we get the reduced time as shown below."
      ],
      "metadata": {
        "id": "2y5-Gk_XHMsi"
      }
    },
    {
      "cell_type": "code",
      "source": [
        "t0 = time.time()\n",
        "C = A @ B\n",
        "t1= time.time()\n",
        "(t1 - t0) * 1000"
      ],
      "metadata": {
        "id": "M90BptST_EWD",
        "colab": {
          "base_uri": "https://localhost:8080/"
        },
        "outputId": "9f45fd19-4150-4d2f-846f-09f5ccde139d"
      },
      "execution_count": 8,
      "outputs": [
        {
          "output_type": "execute_result",
          "data": {
            "text/plain": [
              "0.995635986328125"
            ]
          },
          "metadata": {},
          "execution_count": 8
        }
      ]
    }
  ]
}