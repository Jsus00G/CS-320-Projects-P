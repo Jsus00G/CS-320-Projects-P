{
 "cells": [
  {
   "cell_type": "markdown",
   "id": "d684d88e-e96d-4392-b4d6-92d3f1669b32",
   "metadata": {},
   "source": [
    "# Depth First Search (DFS)\n",
    "\n",
    "- BST (binary search tree) search: find a value; restrict structure of a tree for efficient search\n",
    "- DFS (depth first search): find a path from one node to another -- works on any directed graph"
   ]
  },
  {
   "cell_type": "code",
   "execution_count": null,
   "id": "66ba808a",
   "metadata": {},
   "outputs": [],
   "source": [
    "from graphviz import Graph, Digraph"
   ]
  },
  {
   "cell_type": "code",
   "execution_count": null,
   "id": "c00e99eb",
   "metadata": {},
   "outputs": [],
   "source": [
    "def example(num):\n",
    "    g = Graph()\n",
    "    if num == 1:\n",
    "        g.node(\"A\")\n",
    "        g.edge(\"B\", \"C\")\n",
    "        g.edge(\"C\", \"D\")\n",
    "        g.edge(\"D\", \"B\")\n",
    "    elif num == 2:\n",
    "        g.edge(\"A\", \"B\")\n",
    "        g.edge(\"B\", \"C\")\n",
    "        g.edge(\"C\", \"D\")\n",
    "        g.edge(\"D\", \"E\")\n",
    "        g.edge(\"A\", \"E\")\n",
    "    elif num == 3:\n",
    "        g.edge(\"A\", \"B\")\n",
    "        g.edge(\"A\", \"C\")\n",
    "        g.edge(\"B\", \"D\")\n",
    "        g.edge(\"B\", \"E\")\n",
    "        g.edge(\"C\", \"F\")\n",
    "        g.edge(\"C\", \"G\")\n",
    "    elif num == 4:\n",
    "        g.edge(\"A\", \"B\")\n",
    "        g.edge(\"A\", \"C\")\n",
    "        g.edge(\"B\", \"D\")\n",
    "        g.edge(\"B\", \"E\")\n",
    "        g.edge(\"C\", \"F\")\n",
    "        g.edge(\"C\", \"G\")\n",
    "        g.edge(\"E\", \"Z\")\n",
    "        g.edge(\"C\", \"Z\")\n",
    "        g.edge(\"B\", \"A\")\n",
    "    elif num == 5:\n",
    "        width = 8\n",
    "        height = 4\n",
    "        for L1 in range(height-1):\n",
    "            L2 = L1 + 1\n",
    "            for i in range(width-(height-L1-1)):\n",
    "                for j in range(width-(height-L2-1)):\n",
    "                    node1 = str(L1)+\"-\"+str(i)\n",
    "                    node2 = str(L2)+\"-\"+str(j)\n",
    "                    g.edge(node1, node2)\n",
    "    else:\n",
    "        raise Exception(\"no such example\")\n",
    "    return g"
   ]
  },
  {
   "cell_type": "markdown",
   "id": "6690b3be",
   "metadata": {},
   "source": [
    "### For a regular graph, you need a new class `Graph` to keep track of the whole graph.\n",
    "- Why? Remember graphs need not have a \"root\" node, which means there is no one origin point"
   ]
  },
  {
   "cell_type": "code",
   "execution_count": null,
   "id": "8f5e8b06",
   "metadata": {},
   "outputs": [],
   "source": [
    "class Graph:\n",
    "    def __init__(self):\n",
    "        # name => Node\n",
    "        self.nodes = {}\n",
    "\n",
    "    def node(self, name):\n",
    "        node = Node(name)\n",
    "        self.nodes[name] = node\n",
    "        node.graph = self\n",
    "    \n",
    "    def edge(self, src, dst):\n",
    "        \"\"\"\n",
    "        Automatically adds missing nodes.\n",
    "        \"\"\"\n",
    "        for name in [src, dst]:\n",
    "            if not name in self.nodes:\n",
    "                self.node(name)\n",
    "        self.nodes[src].children.append(self.nodes[dst])\n",
    "\n",
    "    def _repr_svg_(self):\n",
    "        \"\"\"\n",
    "        Draws the graph nodes and edges iteratively.\n",
    "        \"\"\"\n",
    "        g = Digraph()\n",
    "        for n in self.nodes:\n",
    "            g.node(n)\n",
    "            for child in self.nodes[n].children:\n",
    "                g.edge(n, child.name)\n",
    "        return g._repr_image_svg_xml()\n",
    "\n",
    "class Node:\n",
    "    def __init__(self, name):\n",
    "        self.name = name\n",
    "        self.children = []\n",
    "        self.graph = None # back reference\n",
    "        \n",
    "    def __repr__(self):\n",
    "        return self.name\n",
    "\n",
    "    \n",
    "        \n",
    "\n",
    "g = example(1)\n",
    "g"
   ]
  },
  {
   "cell_type": "markdown",
   "id": "c83e9993-765c-42a0-97f6-6277627acf95",
   "metadata": {},
   "source": [
    "### Testcases for DFS with True/False"
   ]
  },
  {
   "cell_type": "code",
   "execution_count": null,
   "id": "d2b5e4a3",
   "metadata": {},
   "outputs": [],
   "source": [
    "print(g.nodes[\"B\"].dfs_search_v1(g.nodes[\"D\"]))  # should return \n",
    "print(g.nodes[\"B\"].dfs_search_v1(g.nodes[\"A\"]))  # should return"
   ]
  },
  {
   "cell_type": "code",
   "execution_count": null,
   "id": "81eff8e1",
   "metadata": {},
   "outputs": [],
   "source": [
    "print(g.dfs_search_v1(\"B\", \"A\")) # should return \n",
    "print(g.dfs_search_v1(\"B\", \"D\")) # should return"
   ]
  },
  {
   "cell_type": "markdown",
   "id": "da658c4d",
   "metadata": {},
   "source": [
    "### Testcases for DFS with path"
   ]
  },
  {
   "cell_type": "code",
   "execution_count": null,
   "id": "bbc7eba9",
   "metadata": {},
   "outputs": [],
   "source": [
    "# DFS search\n",
    "# TODO: give the actual path, not just True/False\n",
    "# TODO: use a different algorithm to find the shortest path"
   ]
  },
  {
   "cell_type": "code",
   "execution_count": null,
   "id": "32d1fa4f",
   "metadata": {},
   "outputs": [],
   "source": [
    "g"
   ]
  },
  {
   "cell_type": "code",
   "execution_count": null,
   "id": "a9dfbc1e",
   "metadata": {},
   "outputs": [],
   "source": [
    "print(g.dfs_search(\"B\", \"A\")) # should return \n",
    "print(g.dfs_search(\"B\", \"D\")) # should return "
   ]
  },
  {
   "cell_type": "markdown",
   "id": "f521b9da",
   "metadata": {},
   "source": [
    "### `tuple` review\n",
    "\n",
    "- similar to lists, but immutable\n",
    "- `*` operator represents replication and not multiplication for lists and tuples\n",
    "- `+` operator represents concatenation and not additional for lists and tuples"
   ]
  },
  {
   "cell_type": "code",
   "execution_count": null,
   "id": "696d0755",
   "metadata": {},
   "outputs": [],
   "source": [
    "(3+2) # order precedence"
   ]
  },
  {
   "cell_type": "code",
   "execution_count": null,
   "id": "6802d98e",
   "metadata": {},
   "outputs": [],
   "source": [
    "# this is a tuple containing 5\n",
    "(3+2,)"
   ]
  },
  {
   "cell_type": "code",
   "execution_count": null,
   "id": "aed44ea1",
   "metadata": {},
   "outputs": [],
   "source": [
    "(3+2) * 3 # gives us 15"
   ]
  },
  {
   "cell_type": "code",
   "execution_count": null,
   "id": "3046fe4a",
   "metadata": {},
   "outputs": [],
   "source": [
    "# replicates item 5 three times and returns a new tuple\n",
    "(3+2,) * 3"
   ]
  },
  {
   "cell_type": "code",
   "execution_count": null,
   "id": "d8806544",
   "metadata": {},
   "outputs": [],
   "source": [
    "# returns a new tuple containing all items in the first tuple and \n",
    "# the second tuple\n",
    "(3, ) + (5, )"
   ]
  },
  {
   "cell_type": "markdown",
   "id": "9aabb4fb",
   "metadata": {},
   "source": [
    "### DFS search\n",
    "\n",
    "- return the actual path rather than just returning True / False\n",
    "- for example, path between B and D should be (B, C, D)"
   ]
  },
  {
   "cell_type": "markdown",
   "id": "eb9a6595",
   "metadata": {},
   "source": [
    "### Why is it called \"*Depth* First Search\"?\n",
    "\n",
    "- we start at the starting node and go as deep as possible because recursion always goes as deep as possible before coming back to the other children in the previous level\n",
    "- we need a `Stack` data structure:\n",
    "    - Last-In-First-Out (LIFO)\n",
    "- recursion naturally uses `Stack`, which is why we don't have to explicitly use a `Stack` data structure\n",
    "- might not give us the shortest possible path"
   ]
  },
  {
   "cell_type": "code",
   "execution_count": null,
   "id": "c934d86d",
   "metadata": {},
   "outputs": [],
   "source": [
    "g = example(2)\n",
    "g"
   ]
  },
  {
   "cell_type": "code",
   "execution_count": null,
   "id": "8c8dc14a",
   "metadata": {},
   "outputs": [],
   "source": [
    "print(g.dfs_search(\"A\", \"E\")) # should return\n",
    "print(g.dfs_search(\"E\", \"A\")) # should return "
   ]
  }
 ],
 "metadata": {
  "kernelspec": {
   "display_name": "Python 3 (ipykernel)",
   "language": "python",
   "name": "python3"
  },
  "language_info": {
   "codemirror_mode": {
    "name": "ipython",
    "version": 3
   },
   "file_extension": ".py",
   "mimetype": "text/x-python",
   "name": "python",
   "nbconvert_exporter": "python",
   "pygments_lexer": "ipython3",
   "version": "3.11.7"
  }
 },
 "nbformat": 4,
 "nbformat_minor": 5
}
