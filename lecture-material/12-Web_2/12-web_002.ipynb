{
 "cells": [
  {
   "cell_type": "markdown",
   "id": "cf313adf",
   "metadata": {},
   "source": [
    "# Web 2: Flask"
   ]
  },
  {
   "cell_type": "code",
   "execution_count": null,
   "id": "d55e4bb4-9f29-4f4f-bba6-05054718259b",
   "metadata": {},
   "outputs": [],
   "source": [
    "import requests\n",
    "import time\n"
   ]
  },
  {
   "cell_type": "markdown",
   "id": "527600aa",
   "metadata": {},
   "source": [
    "### Rate-limited webpage parsing\n",
    "\n",
    "\n",
    "- `requests` module:\n",
    "    - `resp = requests.get(<URL>)` method: enables us to send HTTP GET request\n",
    "    - `resp.status_code`: status code of the response\n",
    "    - `resp.text`: `str` text content of the response\n",
    "    - `resp.headers`: `dict` content of response headers\n",
    "    \n",
    "- `@` operator is called a \"decorator\"\n",
    "- `flask.Response`: enables us to create a response object instance\n",
    "    - Arguments: `str` representing reponse, `headers` dict representing metadata, `status` representing status code.\n",
    "    - ex: \n",
    "    ```python\n",
    "    flask.Response(\"<b>go away</b>\",\n",
    "                              status=429,\n",
    "                              headers={\"Retry-After\": \"3\"})\n",
    "    ```\n",
    "    \n",
    "    ```python\n",
    "    flask.Response(\"\"\"User-Agent: *\n",
    "    Disallow: /never\n",
    "    \"\"\", headers={\"Content-Type\": \"text/plain\"})\n",
    "    ```\n",
    "\n",
    "- `flask.request.remote_addr`: enables us to take action based on the IP address from which we receive the request\n",
    "\n",
    "- 429 Too Many Requests: https://developer.mozilla.org/en-US/docs/Web/HTTP/Status/429"
   ]
  },
  {
   "cell_type": "code",
   "execution_count": null,
   "id": "8241e51c",
   "metadata": {},
   "outputs": [],
   "source": [
    "base_url = \"http://35.226.223.87:5000/\""
   ]
  },
  {
   "cell_type": "code",
   "execution_count": null,
   "id": "6cc81b85",
   "metadata": {},
   "outputs": [],
   "source": [
    "def friendly_get(url):\n",
    "    while True:\n",
    "        resp = requests.get(url)\n",
    "        resp.raise_for_status() # raise exception if not 200\n",
    "        return resp\n",
    "    \n",
    "friendly_get(base_url + \"/slow\").text"
   ]
  },
  {
   "cell_type": "markdown",
   "id": "583b80eb-56ce-4c50-9354-bab71472b443",
   "metadata": {},
   "source": [
    "### `urllib.robotparser`\n",
    "\n",
    "- Documentation: https://docs.python.org/3/library/urllib.robotparser.html\n",
    "- A few websites with robots.txt\n",
    "    - https://en.wikipedia.org/robots.txt\n",
    "    - https://www.reddit.com/robots.txt\n",
    "    - https://cs320.cs.wisc.edu/su24/robots.txt"
   ]
  }
 ],
 "metadata": {
  "kernelspec": {
   "display_name": "Python 3 (ipykernel)",
   "language": "python",
   "name": "python3"
  },
  "language_info": {
   "codemirror_mode": {
    "name": "ipython",
    "version": 3
   },
   "file_extension": ".py",
   "mimetype": "text/x-python",
   "name": "python",
   "nbconvert_exporter": "python",
   "pygments_lexer": "ipython3",
   "version": "3.10.12"
  }
 },
 "nbformat": 4,
 "nbformat_minor": 5
}
