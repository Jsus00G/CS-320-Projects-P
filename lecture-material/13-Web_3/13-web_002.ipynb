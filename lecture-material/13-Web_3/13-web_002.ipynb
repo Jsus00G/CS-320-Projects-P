{
 "cells": [
  {
   "cell_type": "markdown",
   "id": "cf313adf",
   "metadata": {},
   "source": [
    "# Web 3: More Flask and A/B testing"
   ]
  },
  {
   "cell_type": "code",
   "execution_count": null,
   "id": "d55e4bb4-9f29-4f4f-bba6-05054718259b",
   "metadata": {},
   "outputs": [],
   "source": [
    "import requests\n",
    "import time\n",
    "\n",
    "import pandas as pd\n",
    "# new import statement: requires pip3 install scipy\n",
    "from scipy import stats"
   ]
  },
  {
   "cell_type": "markdown",
   "id": "a5f26f67-000a-4d68-8033-3e46023b8196",
   "metadata": {},
   "source": [
    "- `flask.request.args`: enables us to get the arguments passed as part of the URL\n",
    "    - How do we pass arguments?\n",
    "        - at the end of the URL, add a \"?\"\n",
    "        - then separate argument-value pair by \"=\"\n",
    "        - use \"&\" as delimiter between two argument-value pairs\n",
    "    - examples: \n",
    "        - http://35.226.223.87:5000/add?x=10&y=20\n",
    "        - http://35.226.223.87:5000/survey?major=CS\n",
    "        - http://35.226.223.87:5000/survey?major=Mechanical_Engineering"
   ]
  },
  {
   "cell_type": "code",
   "execution_count": null,
   "id": "8241e51c",
   "metadata": {},
   "outputs": [],
   "source": [
    "base_url = \"http://35.226.223.87:5000/\""
   ]
  },
  {
   "cell_type": "markdown",
   "id": "23ba100b",
   "metadata": {},
   "source": [
    "### `urllib.robotparser`\n",
    "\n",
    "- Documentation: https://docs.python.org/3/library/urllib.robotparser.html\n",
    "- A few websites with robots.txt\n",
    "    - https://en.wikipedia.org/robots.txt\n",
    "    - https://www.reddit.com/robots.txt\n",
    "    - https://cs320.cs.wisc.edu/su24/robots.txt"
   ]
  },
  {
   "cell_type": "code",
   "execution_count": null,
   "id": "379c3ae5-7344-45b1-88c3-b35f0bd8eb5b",
   "metadata": {},
   "outputs": [],
   "source": []
  },
  {
   "cell_type": "code",
   "execution_count": null,
   "id": "2e3fb01c-4281-4cbf-8828-98e04d27d09a",
   "metadata": {},
   "outputs": [],
   "source": []
  },
  {
   "cell_type": "code",
   "execution_count": null,
   "id": "0eb41e31-490e-419b-af15-db66e0dd6fd1",
   "metadata": {},
   "outputs": [],
   "source": [
    "def friendly_get(url):\n",
    "    while True:\n",
    "        resp = requests.get(url)\n",
    "        if resp.status_code == 429:\n",
    "            seconds = int(resp.headers.get(\"Retry-After\", 1))\n",
    "            print(f\"sleep {seconds}\")\n",
    "            time.sleep(seconds)\n",
    "            continue\n",
    "        resp.raise_for_status() # raise exception if not 200\n",
    "        return resp\n",
    "    \n",
    "friendly_get(base_url + \"slow\").text"
   ]
  },
  {
   "cell_type": "markdown",
   "id": "fcfa857a-10e7-4e74-adcc-9c4d384e9986",
   "metadata": {},
   "source": [
    "#  A/B testing"
   ]
  },
  {
   "cell_type": "code",
   "execution_count": null,
   "id": "d4839880-5642-49ce-b1cf-938ddf409229",
   "metadata": {},
   "outputs": [],
   "source": [
    "df = pd.DataFrame({\n",
    "    \"click\":    {\"A\": 50, \"B\": 55},\n",
    "    \"no-click\": {\"A\": 50, \"B\": 45}\n",
    "})\n",
    "df\n",
    "# Which has the higher CTR A or B?"
   ]
  },
  {
   "cell_type": "code",
   "execution_count": null,
   "id": "341e9430-d7c2-4cba-a2f1-b5fb95a1efa6",
   "metadata": {},
   "outputs": [],
   "source": [
    "_, pvalue = stats.fisher_exact(df)\n",
    "pvalue \n",
    "# no evidence that A and B are difference because pvalue is not less than 5%"
   ]
  },
  {
   "cell_type": "markdown",
   "id": "3fa3b996-ef70-4492-8221-dbe597af8541",
   "metadata": {},
   "source": [
    "### Two situations when pvalue will be lower than significance threshold\n",
    "\n",
    "1. Sample size is the same, but skew is very heavy --- unlikely to have that by chance\n",
    "2. Sample size is large, but skew is small "
   ]
  },
  {
   "cell_type": "code",
   "execution_count": null,
   "id": "245ac3cf-a7b4-4bd4-81d8-caf7fc4897fe",
   "metadata": {},
   "outputs": [],
   "source": [
    "# Scenario 1: \n",
    "# Sample size is the same, but skew is very heavy --- \n",
    "# unlikely to have that by chance\n",
    "\n",
    "df = pd.DataFrame({\n",
    "    \"click\":    {\"A\": 50, \"B\": 75},\n",
    "    \"no-click\": {\"A\": 50, \"B\": 25}\n",
    "})\n",
    "_, pvalue = stats.fisher_exact(df)\n",
    "pvalue"
   ]
  },
  {
   "cell_type": "code",
   "execution_count": null,
   "id": "e3a1b056-3315-494d-9667-3bfa5ebfa863",
   "metadata": {},
   "outputs": [],
   "source": [
    "# Scenario 2: \n",
    "# Sample size is large, but skew is small \n",
    "\n",
    "df = pd.DataFrame({\n",
    "    \"click\":    {\"A\": 500, \"B\": 550},\n",
    "    \"no-click\": {\"A\": 500, \"B\": 450}\n",
    "})\n",
    "_, pvalue = stats.fisher_exact(df)\n",
    "pvalue"
   ]
  }
 ],
 "metadata": {
  "kernelspec": {
   "display_name": "Python 3 (ipykernel)",
   "language": "python",
   "name": "python3"
  },
  "language_info": {
   "codemirror_mode": {
    "name": "ipython",
    "version": 3
   },
   "file_extension": ".py",
   "mimetype": "text/x-python",
   "name": "python",
   "nbconvert_exporter": "python",
   "pygments_lexer": "ipython3",
   "version": "3.10.12"
  }
 },
 "nbformat": 4,
 "nbformat_minor": 5
}
