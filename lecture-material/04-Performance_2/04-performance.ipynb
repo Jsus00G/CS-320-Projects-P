{
 "cells": [
  {
   "cell_type": "markdown",
   "id": "d617eefb",
   "metadata": {},
   "source": [
    "# Performance 2"
   ]
  },
  {
   "cell_type": "code",
   "execution_count": 1,
   "id": "783117c5-146f-454a-963e-ed2873b8a6d3",
   "metadata": {},
   "outputs": [],
   "source": [
    "# known import statements\n",
    "import pandas as pd\n",
    "import csv\n",
    "from subprocess import check_output\n",
    "\n",
    "# new import statements\n",
    "import zipfile\n",
    "from io import TextIOWrapper"
   ]
  },
  {
   "cell_type": "markdown",
   "id": "4e2be82d",
   "metadata": {},
   "source": [
    "### Let's take a look at the files inside the current working directory."
   ]
  },
  {
   "cell_type": "code",
   "execution_count": 2,
   "id": "4eaa8a8d",
   "metadata": {},
   "outputs": [
    {
     "data": {
      "text/plain": [
       "['total 21M',\n",
       " '-rw-rw-r-- 1 gurmail.singh gurmail.singh 2.0K Jan 30 20:49 lec2.ipynb',\n",
       " '-rw-rw-r-- 1 gurmail.singh gurmail.singh 5.2K Feb  1 13:08 lecture.ipynb',\n",
       " '-rw------- 1 gurmail.singh gurmail.singh 230K Feb  1 13:09 nohup.out',\n",
       " 'drwxrwxr-x 3 gurmail.singh gurmail.singh 4.0K Jan 30 20:42 paper',\n",
       " '-rw-rw-r-- 1 gurmail.singh gurmail.singh   39 Jan 25 18:32 paper1.txt',\n",
       " 'drwxrwxr-x 8 gurmail.singh gurmail.singh 4.0K Jan 30 14:06 s24',\n",
       " 'drwx------ 3 gurmail.singh gurmail.singh 4.0K Jan 30 12:31 snap',\n",
       " '-rw-rw-r-- 1 gurmail.singh gurmail.singh  21M Feb  1 12:44 wi.zip',\n",
       " '']"
      ]
     },
     "execution_count": 2,
     "metadata": {},
     "output_type": "execute_result"
    }
   ],
   "source": [
    "str(check_output([\"ls\", \"-lh\"]), encoding=\"utf-8\").split(\"\\n\")"
   ]
  },
  {
   "cell_type": "markdown",
   "id": "b8c7dc7f",
   "metadata": {},
   "source": [
    "### Let's `unzip` \"wi.zip\"."
   ]
  },
  {
   "cell_type": "code",
   "execution_count": 3,
   "id": "ed32cf4c",
   "metadata": {},
   "outputs": [
    {
     "data": {
      "text/plain": [
       "b'Archive:  wi.zip\\n  inflating: wi.csv                  \\n'"
      ]
     },
     "execution_count": 3,
     "metadata": {},
     "output_type": "execute_result"
    }
   ],
   "source": [
    "check_output([\"unzip\", \"wi.zip\"])"
   ]
  },
  {
   "cell_type": "markdown",
   "id": "4eac1b48",
   "metadata": {},
   "source": [
    "### Let's take a look at the files inside the current working directory."
   ]
  },
  {
   "cell_type": "code",
   "execution_count": 4,
   "id": "a6852e43",
   "metadata": {},
   "outputs": [
    {
     "data": {
      "text/plain": [
       "['total 198M',\n",
       " '-rw-rw-r-- 1 gurmail.singh gurmail.singh 2.0K Jan 30 20:49 lec2.ipynb',\n",
       " '-rw-rw-r-- 1 gurmail.singh gurmail.singh 5.2K Feb  1 13:08 lecture.ipynb',\n",
       " '-rw------- 1 gurmail.singh gurmail.singh 230K Feb  1 13:09 nohup.out',\n",
       " 'drwxrwxr-x 3 gurmail.singh gurmail.singh 4.0K Jan 30 20:42 paper',\n",
       " '-rw-rw-r-- 1 gurmail.singh gurmail.singh   39 Jan 25 18:32 paper1.txt',\n",
       " 'drwxrwxr-x 8 gurmail.singh gurmail.singh 4.0K Jan 30 14:06 s24',\n",
       " 'drwx------ 3 gurmail.singh gurmail.singh 4.0K Jan 30 12:31 snap',\n",
       " '-rw-rw-r-- 1 gurmail.singh gurmail.singh 177M Jan 14  2022 wi.csv',\n",
       " '-rw-rw-r-- 1 gurmail.singh gurmail.singh  21M Feb  1 12:44 wi.zip',\n",
       " '']"
      ]
     },
     "execution_count": 4,
     "metadata": {},
     "output_type": "execute_result"
    }
   ],
   "source": [
    "str(check_output([\"ls\", \"-lh\"]), encoding=\"utf-8\").split(\"\\n\")"
   ]
  },
  {
   "cell_type": "markdown",
   "id": "8ba94151",
   "metadata": {},
   "source": [
    "### Traditional way of reading data using pandas"
   ]
  },
  {
   "cell_type": "code",
   "execution_count": 5,
   "id": "529a4bd2",
   "metadata": {},
   "outputs": [
    {
     "name": "stderr",
     "output_type": "stream",
     "text": [
      "/tmp/ipykernel_36341/3756477020.py:1: DtypeWarning: Columns (22,23,24,26,27,28,29,30,31,32,33,38,43,44) have mixed types. Specify dtype option on import or set low_memory=False.\n",
      "  df = pd.read_csv(\"wi.csv\")\n"
     ]
    }
   ],
   "source": [
    "df = pd.read_csv(\"wi.csv\")"
   ]
  },
  {
   "cell_type": "code",
   "execution_count": 6,
   "id": "570485b8",
   "metadata": {},
   "outputs": [
    {
     "data": {
      "text/html": [
       "<div>\n",
       "<style scoped>\n",
       "    .dataframe tbody tr th:only-of-type {\n",
       "        vertical-align: middle;\n",
       "    }\n",
       "\n",
       "    .dataframe tbody tr th {\n",
       "        vertical-align: top;\n",
       "    }\n",
       "\n",
       "    .dataframe thead th {\n",
       "        text-align: right;\n",
       "    }\n",
       "</style>\n",
       "<table border=\"1\" class=\"dataframe\">\n",
       "  <thead>\n",
       "    <tr style=\"text-align: right;\">\n",
       "      <th></th>\n",
       "      <th>activity_year</th>\n",
       "      <th>lei</th>\n",
       "      <th>derived_msa-md</th>\n",
       "      <th>state_code</th>\n",
       "      <th>county_code</th>\n",
       "      <th>census_tract</th>\n",
       "      <th>conforming_loan_limit</th>\n",
       "      <th>derived_loan_product_type</th>\n",
       "      <th>derived_dwelling_category</th>\n",
       "      <th>derived_ethnicity</th>\n",
       "      <th>...</th>\n",
       "      <th>denial_reason-2</th>\n",
       "      <th>denial_reason-3</th>\n",
       "      <th>denial_reason-4</th>\n",
       "      <th>tract_population</th>\n",
       "      <th>tract_minority_population_percent</th>\n",
       "      <th>ffiec_msa_md_median_family_income</th>\n",
       "      <th>tract_to_msa_income_percentage</th>\n",
       "      <th>tract_owner_occupied_units</th>\n",
       "      <th>tract_one_to_four_family_homes</th>\n",
       "      <th>tract_median_age_of_housing_units</th>\n",
       "    </tr>\n",
       "  </thead>\n",
       "  <tbody>\n",
       "    <tr>\n",
       "      <th>0</th>\n",
       "      <td>2020</td>\n",
       "      <td>549300FX7K8PTEQUU487</td>\n",
       "      <td>31540</td>\n",
       "      <td>WI</td>\n",
       "      <td>55025.0</td>\n",
       "      <td>5.502500e+10</td>\n",
       "      <td>C</td>\n",
       "      <td>Conventional:First Lien</td>\n",
       "      <td>Single Family (1-4 Units):Site-Built</td>\n",
       "      <td>Not Hispanic or Latino</td>\n",
       "      <td>...</td>\n",
       "      <td>NaN</td>\n",
       "      <td>NaN</td>\n",
       "      <td>NaN</td>\n",
       "      <td>3572</td>\n",
       "      <td>41.15</td>\n",
       "      <td>96600</td>\n",
       "      <td>64</td>\n",
       "      <td>812</td>\n",
       "      <td>910</td>\n",
       "      <td>45</td>\n",
       "    </tr>\n",
       "    <tr>\n",
       "      <th>1</th>\n",
       "      <td>2020</td>\n",
       "      <td>549300FX7K8PTEQUU487</td>\n",
       "      <td>99999</td>\n",
       "      <td>WI</td>\n",
       "      <td>55013.0</td>\n",
       "      <td>5.501397e+10</td>\n",
       "      <td>C</td>\n",
       "      <td>Conventional:First Lien</td>\n",
       "      <td>Single Family (1-4 Units):Site-Built</td>\n",
       "      <td>Not Hispanic or Latino</td>\n",
       "      <td>...</td>\n",
       "      <td>NaN</td>\n",
       "      <td>NaN</td>\n",
       "      <td>NaN</td>\n",
       "      <td>2333</td>\n",
       "      <td>9.90</td>\n",
       "      <td>68000</td>\n",
       "      <td>87</td>\n",
       "      <td>1000</td>\n",
       "      <td>2717</td>\n",
       "      <td>34</td>\n",
       "    </tr>\n",
       "    <tr>\n",
       "      <th>2</th>\n",
       "      <td>2020</td>\n",
       "      <td>549300FX7K8PTEQUU487</td>\n",
       "      <td>99999</td>\n",
       "      <td>WI</td>\n",
       "      <td>55127.0</td>\n",
       "      <td>5.512700e+10</td>\n",
       "      <td>C</td>\n",
       "      <td>VA:First Lien</td>\n",
       "      <td>Single Family (1-4 Units):Site-Built</td>\n",
       "      <td>Not Hispanic or Latino</td>\n",
       "      <td>...</td>\n",
       "      <td>NaN</td>\n",
       "      <td>NaN</td>\n",
       "      <td>NaN</td>\n",
       "      <td>5943</td>\n",
       "      <td>13.26</td>\n",
       "      <td>68000</td>\n",
       "      <td>104</td>\n",
       "      <td>1394</td>\n",
       "      <td>1856</td>\n",
       "      <td>44</td>\n",
       "    </tr>\n",
       "    <tr>\n",
       "      <th>3</th>\n",
       "      <td>2020</td>\n",
       "      <td>549300FX7K8PTEQUU487</td>\n",
       "      <td>99999</td>\n",
       "      <td>WI</td>\n",
       "      <td>55127.0</td>\n",
       "      <td>5.512700e+10</td>\n",
       "      <td>C</td>\n",
       "      <td>Conventional:Subordinate Lien</td>\n",
       "      <td>Single Family (1-4 Units):Site-Built</td>\n",
       "      <td>Ethnicity Not Available</td>\n",
       "      <td>...</td>\n",
       "      <td>NaN</td>\n",
       "      <td>NaN</td>\n",
       "      <td>NaN</td>\n",
       "      <td>5650</td>\n",
       "      <td>7.63</td>\n",
       "      <td>68000</td>\n",
       "      <td>124</td>\n",
       "      <td>1712</td>\n",
       "      <td>2104</td>\n",
       "      <td>36</td>\n",
       "    </tr>\n",
       "    <tr>\n",
       "      <th>4</th>\n",
       "      <td>2020</td>\n",
       "      <td>549300FX7K8PTEQUU487</td>\n",
       "      <td>33460</td>\n",
       "      <td>WI</td>\n",
       "      <td>55109.0</td>\n",
       "      <td>5.510912e+10</td>\n",
       "      <td>C</td>\n",
       "      <td>VA:First Lien</td>\n",
       "      <td>Single Family (1-4 Units):Site-Built</td>\n",
       "      <td>Not Hispanic or Latino</td>\n",
       "      <td>...</td>\n",
       "      <td>NaN</td>\n",
       "      <td>NaN</td>\n",
       "      <td>NaN</td>\n",
       "      <td>7210</td>\n",
       "      <td>4.36</td>\n",
       "      <td>97300</td>\n",
       "      <td>96</td>\n",
       "      <td>2101</td>\n",
       "      <td>2566</td>\n",
       "      <td>22</td>\n",
       "    </tr>\n",
       "  </tbody>\n",
       "</table>\n",
       "<p>5 rows × 99 columns</p>\n",
       "</div>"
      ],
      "text/plain": [
       "   activity_year                   lei  derived_msa-md state_code  \\\n",
       "0           2020  549300FX7K8PTEQUU487           31540         WI   \n",
       "1           2020  549300FX7K8PTEQUU487           99999         WI   \n",
       "2           2020  549300FX7K8PTEQUU487           99999         WI   \n",
       "3           2020  549300FX7K8PTEQUU487           99999         WI   \n",
       "4           2020  549300FX7K8PTEQUU487           33460         WI   \n",
       "\n",
       "   county_code  census_tract conforming_loan_limit  \\\n",
       "0      55025.0  5.502500e+10                     C   \n",
       "1      55013.0  5.501397e+10                     C   \n",
       "2      55127.0  5.512700e+10                     C   \n",
       "3      55127.0  5.512700e+10                     C   \n",
       "4      55109.0  5.510912e+10                     C   \n",
       "\n",
       "       derived_loan_product_type             derived_dwelling_category  \\\n",
       "0        Conventional:First Lien  Single Family (1-4 Units):Site-Built   \n",
       "1        Conventional:First Lien  Single Family (1-4 Units):Site-Built   \n",
       "2                  VA:First Lien  Single Family (1-4 Units):Site-Built   \n",
       "3  Conventional:Subordinate Lien  Single Family (1-4 Units):Site-Built   \n",
       "4                  VA:First Lien  Single Family (1-4 Units):Site-Built   \n",
       "\n",
       "         derived_ethnicity  ... denial_reason-2 denial_reason-3  \\\n",
       "0   Not Hispanic or Latino  ...             NaN             NaN   \n",
       "1   Not Hispanic or Latino  ...             NaN             NaN   \n",
       "2   Not Hispanic or Latino  ...             NaN             NaN   \n",
       "3  Ethnicity Not Available  ...             NaN             NaN   \n",
       "4   Not Hispanic or Latino  ...             NaN             NaN   \n",
       "\n",
       "   denial_reason-4  tract_population  tract_minority_population_percent  \\\n",
       "0              NaN              3572                              41.15   \n",
       "1              NaN              2333                               9.90   \n",
       "2              NaN              5943                              13.26   \n",
       "3              NaN              5650                               7.63   \n",
       "4              NaN              7210                               4.36   \n",
       "\n",
       "   ffiec_msa_md_median_family_income  tract_to_msa_income_percentage  \\\n",
       "0                              96600                              64   \n",
       "1                              68000                              87   \n",
       "2                              68000                             104   \n",
       "3                              68000                             124   \n",
       "4                              97300                              96   \n",
       "\n",
       "   tract_owner_occupied_units  tract_one_to_four_family_homes  \\\n",
       "0                         812                             910   \n",
       "1                        1000                            2717   \n",
       "2                        1394                            1856   \n",
       "3                        1712                            2104   \n",
       "4                        2101                            2566   \n",
       "\n",
       "   tract_median_age_of_housing_units  \n",
       "0                                 45  \n",
       "1                                 34  \n",
       "2                                 44  \n",
       "3                                 36  \n",
       "4                                 22  \n",
       "\n",
       "[5 rows x 99 columns]"
      ]
     },
     "execution_count": 6,
     "metadata": {},
     "output_type": "execute_result"
    }
   ],
   "source": [
    "df.head(5) # Top 5 rows within the DataFrame"
   ]
  },
  {
   "cell_type": "markdown",
   "id": "bad7dce4",
   "metadata": {},
   "source": [
    "### How can we see all the column names?"
   ]
  },
  {
   "cell_type": "code",
   "execution_count": 7,
   "id": "d0a98751",
   "metadata": {},
   "outputs": [
    {
     "data": {
      "text/plain": [
       "Index(['activity_year', 'lei', 'derived_msa-md', 'state_code', 'county_code',\n",
       "       'census_tract', 'conforming_loan_limit', 'derived_loan_product_type',\n",
       "       'derived_dwelling_category', 'derived_ethnicity', 'derived_race',\n",
       "       'derived_sex', 'action_taken', 'purchaser_type', 'preapproval',\n",
       "       'loan_type', 'loan_purpose', 'lien_status', 'reverse_mortgage',\n",
       "       'open-end_line_of_credit', 'business_or_commercial_purpose',\n",
       "       'loan_amount', 'loan_to_value_ratio', 'interest_rate', 'rate_spread',\n",
       "       'hoepa_status', 'total_loan_costs', 'total_points_and_fees',\n",
       "       'origination_charges', 'discount_points', 'lender_credits', 'loan_term',\n",
       "       'prepayment_penalty_term', 'intro_rate_period', 'negative_amortization',\n",
       "       'interest_only_payment', 'balloon_payment',\n",
       "       'other_nonamortizing_features', 'property_value', 'construction_method',\n",
       "       'occupancy_type', 'manufactured_home_secured_property_type',\n",
       "       'manufactured_home_land_property_interest', 'total_units',\n",
       "       'multifamily_affordable_units', 'income', 'debt_to_income_ratio',\n",
       "       'applicant_credit_score_type', 'co-applicant_credit_score_type',\n",
       "       'applicant_ethnicity-1', 'applicant_ethnicity-2',\n",
       "       'applicant_ethnicity-3', 'applicant_ethnicity-4',\n",
       "       'applicant_ethnicity-5', 'co-applicant_ethnicity-1',\n",
       "       'co-applicant_ethnicity-2', 'co-applicant_ethnicity-3',\n",
       "       'co-applicant_ethnicity-4', 'co-applicant_ethnicity-5',\n",
       "       'applicant_ethnicity_observed', 'co-applicant_ethnicity_observed',\n",
       "       'applicant_race-1', 'applicant_race-2', 'applicant_race-3',\n",
       "       'applicant_race-4', 'applicant_race-5', 'co-applicant_race-1',\n",
       "       'co-applicant_race-2', 'co-applicant_race-3', 'co-applicant_race-4',\n",
       "       'co-applicant_race-5', 'applicant_race_observed',\n",
       "       'co-applicant_race_observed', 'applicant_sex', 'co-applicant_sex',\n",
       "       'applicant_sex_observed', 'co-applicant_sex_observed', 'applicant_age',\n",
       "       'co-applicant_age', 'applicant_age_above_62',\n",
       "       'co-applicant_age_above_62', 'submission_of_application',\n",
       "       'initially_payable_to_institution', 'aus-1', 'aus-2', 'aus-3', 'aus-4',\n",
       "       'aus-5', 'denial_reason-1', 'denial_reason-2', 'denial_reason-3',\n",
       "       'denial_reason-4', 'tract_population',\n",
       "       'tract_minority_population_percent',\n",
       "       'ffiec_msa_md_median_family_income', 'tract_to_msa_income_percentage',\n",
       "       'tract_owner_occupied_units', 'tract_one_to_four_family_homes',\n",
       "       'tract_median_age_of_housing_units'],\n",
       "      dtype='object')"
      ]
     },
     "execution_count": 7,
     "metadata": {},
     "output_type": "execute_result"
    }
   ],
   "source": [
    "df.columns"
   ]
  }
 ],
 "metadata": {
  "kernelspec": {
   "display_name": "Python 3 (ipykernel)",
   "language": "python",
   "name": "python3"
  },
  "language_info": {
   "codemirror_mode": {
    "name": "ipython",
    "version": 3
   },
   "file_extension": ".py",
   "mimetype": "text/x-python",
   "name": "python",
   "nbconvert_exporter": "python",
   "pygments_lexer": "ipython3",
   "version": "3.10.12"
  }
 },
 "nbformat": 4,
 "nbformat_minor": 5
}
