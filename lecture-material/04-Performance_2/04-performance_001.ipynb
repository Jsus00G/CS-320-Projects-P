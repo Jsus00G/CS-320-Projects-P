{
 "cells": [
  {
   "cell_type": "markdown",
   "id": "1a6cc54c",
   "metadata": {},
   "source": [
    "# Performance 2"
   ]
  },
  {
   "cell_type": "code",
   "execution_count": null,
   "id": "783117c5-146f-454a-963e-ed2873b8a6d3",
   "metadata": {},
   "outputs": [],
   "source": [
    "# known import statements\n",
    "import pandas as pd\n",
    "import csv\n",
    "from subprocess import check_output\n",
    "\n",
    "# new import statements\n",
    "import zipfile\n",
    "from io import TextIOWrapper"
   ]
  },
  {
   "cell_type": "markdown",
   "id": "66db2ad0",
   "metadata": {},
   "source": [
    "### Let's take a look at the files inside the current working directory."
   ]
  },
  {
   "cell_type": "code",
   "execution_count": null,
   "id": "6cef713e",
   "metadata": {},
   "outputs": [],
   "source": [
    "str(check_output([\"ls\", \"-lh\"]), encoding=\"utf-8\").split(\"\\n\")"
   ]
  },
  {
   "cell_type": "markdown",
   "id": "c76f819d",
   "metadata": {},
   "source": [
    "### Let's `unzip` \"wi.zip\"."
   ]
  },
  {
   "cell_type": "code",
   "execution_count": null,
   "id": "0e87ec01",
   "metadata": {},
   "outputs": [],
   "source": [
    "check_output([\"unzip\", \"wi.zip\"])"
   ]
  },
  {
   "cell_type": "markdown",
   "id": "274fa49a",
   "metadata": {},
   "source": [
    "### Let's take a look at the files inside the current working directory."
   ]
  },
  {
   "cell_type": "code",
   "execution_count": null,
   "id": "a2da3cd0",
   "metadata": {},
   "outputs": [],
   "source": [
    "str(check_output([\"ls\", \"-lh\"]), encoding=\"utf-8\").split(\"\\n\")"
   ]
  },
  {
   "cell_type": "markdown",
   "id": "90b11343",
   "metadata": {},
   "source": [
    "### Traditional way of reading data using pandas"
   ]
  },
  {
   "cell_type": "code",
   "execution_count": null,
   "id": "a3175526",
   "metadata": {},
   "outputs": [],
   "source": [
    "df = pd.read_csv(\"wi.csv\")"
   ]
  },
  {
   "cell_type": "code",
   "execution_count": null,
   "id": "13e6e034",
   "metadata": {},
   "outputs": [],
   "source": [
    "df.head(5) # Top 5 rows within the DataFrame"
   ]
  },
  {
   "cell_type": "markdown",
   "id": "5c79984c",
   "metadata": {},
   "source": [
    "### How can we see all the column names?"
   ]
  },
  {
   "cell_type": "code",
   "execution_count": null,
   "id": "08d9501d",
   "metadata": {},
   "outputs": [],
   "source": [
    "df.columns"
   ]
  }
 ],
 "metadata": {
  "kernelspec": {
   "display_name": "Python 3 (ipykernel)",
   "language": "python",
   "name": "python3"
  },
  "language_info": {
   "codemirror_mode": {
    "name": "ipython",
    "version": 3
   },
   "file_extension": ".py",
   "mimetype": "text/x-python",
   "name": "python",
   "nbconvert_exporter": "python",
   "pygments_lexer": "ipython3",
   "version": "3.11.4"
  }
 },
 "nbformat": 4,
 "nbformat_minor": 5
}
