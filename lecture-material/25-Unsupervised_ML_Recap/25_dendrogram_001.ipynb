{
 "cells": [
  {
   "cell_type": "code",
   "execution_count": null,
   "id": "44b20f6d",
   "metadata": {},
   "outputs": [],
   "source": [
    "import numpy as np\n",
    "import pandas as pd\n",
    "import geopandas as gpd\n",
    "import matplotlib.pyplot as plt\n",
    "from sklearn.cluster import KMeans, AgglomerativeClustering\n",
    "from sklearn.datasets import make_moons\n",
    "from scipy.cluster.hierarchy import dendrogram\n",
    "from IPython.core.display import Image"
   ]
  },
  {
   "cell_type": "markdown",
   "id": "98c013fd-1b6a-4635-a773-ca8e345271f7",
   "metadata": {},
   "source": [
    "### Agglomerative Clustering Types\n",
    " * Moons\n",
    "\n",
    "https://scikit-learn.org/stable/modules/clustering.html#hierarchical-clustering"
   ]
  },
  {
   "cell_type": "code",
   "execution_count": null,
   "id": "8e73d7db-3cd0-498c-bcca-3dd0b67764e1",
   "metadata": {},
   "outputs": [],
   "source": [
    "df = pd.DataFrame(make_moons(noise=0.05)[0], columns = [[\"x\",\"y\"]])\n",
    "df[\"color\"] = KMeans(n_clusters=2).fit_predict(df[[\"x\",\"y\"]])\n",
    "df.plot.scatter(x=\"x\",y=\"y\", c=df[\"color\"], vmin=-1)"
   ]
  },
  {
   "cell_type": "code",
   "execution_count": null,
   "id": "6c26f089-a258-4106-8846-7365af8999b3",
   "metadata": {},
   "outputs": [],
   "source": [
    "km = KMeans(n_clusters=2).fit(df[[\"x\",\"y\"]])\n",
    "km.cluster_centers_"
   ]
  },
  {
   "cell_type": "code",
   "execution_count": null,
   "id": "38e9282f-250c-4456-8170-f89dae3bfd54",
   "metadata": {},
   "outputs": [],
   "source": [
    "# ward linkage (default)\n",
    "df = pd.DataFrame(make_moons(noise=0.05)[0], columns = [[\"x\",\"y\"]])\n",
    "df[\"color\"] = AgglomerativeClustering(n_clusters=2, linkage = ???).fit_predict(df[[\"x\",\"y\"]])\n",
    "df.plot.scatter(x=\"x\",y=\"y\", c=df[\"color\"], vmin=-1)"
   ]
  },
  {
   "cell_type": "code",
   "execution_count": null,
   "id": "a598a3dd-5032-45c5-9363-965fc3e8ee91",
   "metadata": {},
   "outputs": [],
   "source": [
    "# single linkage\n",
    "df = pd.DataFrame(make_moons(noise=0.05)[0], columns = [[\"x\",\"y\"]])\n",
    "df[\"color\"] = AgglomerativeClustering(n_clusters=2, linkage=???).fit_predict(df[[\"x\",\"y\"]])\n",
    "df.plot.scatter(x=\"x\",y=\"y\", c=df[\"color\"], vmin=-1)"
   ]
  },
  {
   "cell_type": "code",
   "execution_count": null,
   "id": "551617cd-39f1-48cc-aa13-c7b5693fb8e9",
   "metadata": {},
   "outputs": [],
   "source": [
    "# average linkage\n",
    "df = pd.DataFrame(make_moons(noise=0.05)[0], columns = [[\"x\",\"y\"]])\n",
    "df[\"color\"] = AgglomerativeClustering(n_clusters=2, linkage=???).fit_predict(df[[\"x\",\"y\"]])\n",
    "df.plot.scatter(x=\"x\",y=\"y\", c=df[\"color\"], vmin=-1)"
   ]
  },
  {
   "cell_type": "code",
   "execution_count": null,
   "id": "387af0b4-a588-4ece-aa0c-c51b7087574a",
   "metadata": {},
   "outputs": [],
   "source": [
    "# complete linkage \n",
    "df = pd.DataFrame(make_moons(noise=0.05)[0], columns = [[\"x\",\"y\"]])\n",
    "df[\"color\"] = AgglomerativeClustering(n_clusters=2, linkage=???).fit_predict(df[[\"x\",\"y\"]])\n",
    "df.plot.scatter(x=\"x\",y=\"y\", c=df[\"color\"], vmin=-1)"
   ]
  },
  {
   "cell_type": "markdown",
   "id": "de8f3046",
   "metadata": {},
   "source": [
    "## Clustering Counties (Agglomerative)"
   ]
  },
  {
   "cell_type": "code",
   "execution_count": null,
   "id": "fc8848e3-3d5b-4a26-b523-94eb6eec3579",
   "metadata": {},
   "outputs": [],
   "source": [
    "df = gpd.read_file(\"counties.geojson\")"
   ]
  },
  {
   "cell_type": "code",
   "execution_count": null,
   "id": "8c0cfdf4-911d-431f-875e-f5735f2e5dc8",
   "metadata": {},
   "outputs": [],
   "source": [
    "df.head()"
   ]
  },
  {
   "cell_type": "code",
   "execution_count": null,
   "id": "7476c04b",
   "metadata": {
    "tags": []
   },
   "outputs": [],
   "source": [
    "c = AgglomerativeClustering(4, compute_distances=True)\n",
    "groups = c.fit_predict(df[[\"forest\", \"crops\", \"pasture\", \"developed\"]])\n",
    "df.plot(column=groups, cmap=\"tab10\")"
   ]
  },
  {
   "cell_type": "markdown",
   "id": "cefb7057",
   "metadata": {},
   "source": [
    "### Tree Recursion: Node Count"
   ]
  },
  {
   "cell_type": "code",
   "execution_count": null,
   "id": "3e7bd98d",
   "metadata": {},
   "outputs": [],
   "source": [
    "Image(\"children.png\", width=400)"
   ]
  },
  {
   "cell_type": "code",
   "execution_count": null,
   "id": "114ad856-f52a-4477-9096-948e31327ad4",
   "metadata": {},
   "outputs": [],
   "source": [
    "# c.children_"
   ]
  },
  {
   "cell_type": "code",
   "execution_count": null,
   "id": "9a66d735-f0a0-4ccf-a131-11cdb3098137",
   "metadata": {},
   "outputs": [],
   "source": [
    "# get the first child\n",
    "c.children_[0]"
   ]
  },
  {
   "cell_type": "code",
   "execution_count": null,
   "id": "b8f326d3-b2fa-43c4-8890-64c7cd1c1999",
   "metadata": {},
   "outputs": [],
   "source": [
    "df.iloc[[44,62]]"
   ]
  },
  {
   "cell_type": "code",
   "execution_count": null,
   "id": "37e39c2a-da49-4029-a012-cebe78562282",
   "metadata": {},
   "outputs": [],
   "source": [
    "print(len(df))"
   ]
  },
  {
   "cell_type": "code",
   "execution_count": null,
   "id": "0bbd3a3e-a7d1-40cd-81dc-2f5ee96c0353",
   "metadata": {},
   "outputs": [],
   "source": [
    "# print node 73\n",
    "c.children_[73-len(df)]"
   ]
  },
  {
   "cell_type": "code",
   "execution_count": null,
   "id": "35b24649-f5f4-4f35-a5cb-c72f609d1713",
   "metadata": {},
   "outputs": [],
   "source": [
    "c.children_"
   ]
  },
  {
   "cell_type": "code",
   "execution_count": null,
   "id": "23f810e6-300f-42af-ae14-a22a5ff6c5fe",
   "metadata": {},
   "outputs": [],
   "source": [
    "Image(\"children.png\", width=400)"
   ]
  },
  {
   "cell_type": "code",
   "execution_count": null,
   "id": "afaf3fb8-f613-42a9-af44-e7ea90ca889e",
   "metadata": {},
   "outputs": [],
   "source": [
    "# for the subtree rooted at node_idx, how many nodes are in the subtree?\n",
    "def node_count(node_idx):\n",
    "    # print(node_idx)\n",
    "    if node_idx < len(df):\n",
    "        return 1\n",
    "    else:\n",
    "        left, right = c.children_[node_idx - len(df)]\n",
    "        return node_count(left) + node_count(right) + 1\n",
    "\n",
    "node_count(72)"
   ]
  },
  {
   "cell_type": "code",
   "execution_count": null,
   "id": "e667afb4-b562-4cda-875f-f572662862af",
   "metadata": {},
   "outputs": [],
   "source": [
    "node_count(len(df) + len(c.children_) - 1)"
   ]
  },
  {
   "cell_type": "code",
   "execution_count": null,
   "id": "b9f71818-80e0-45dc-8abf-e3d83e0503f6",
   "metadata": {},
   "outputs": [],
   "source": [
    "# c.children_"
   ]
  },
  {
   "cell_type": "markdown",
   "id": "3406545f",
   "metadata": {},
   "source": [
    "## Linkage Matrix"
   ]
  },
  {
   "cell_type": "code",
   "execution_count": null,
   "id": "8f9b405d",
   "metadata": {},
   "outputs": [],
   "source": [
    "Image(\"linkage.png\", width=400)"
   ]
  },
  {
   "cell_type": "code",
   "execution_count": null,
   "id": "8dd1560e-b868-43fc-ba8d-fbd2890e9004",
   "metadata": {},
   "outputs": [],
   "source": [
    "distances = c.distances_.reshape(-1, 1)\n",
    "# distances "
   ]
  },
  {
   "cell_type": "code",
   "execution_count": null,
   "id": "2e385d72-db87-481c-837e-b9e28ac3f410",
   "metadata": {},
   "outputs": [],
   "source": [
    "counts = [node_count(node_idx) for node_idx in range(len(df), len(df)+len(c.children_))]\n",
    "counts = np.array(counts).reshape(-1,1)"
   ]
  },
  {
   "cell_type": "code",
   "execution_count": null,
   "id": "b2f478e2-3153-4e9d-9a83-53ebcc322da2",
   "metadata": {},
   "outputs": [],
   "source": [
    "linkage = np.concatenate([\n",
    "    c.children_, # columns 1 & 2 in the linkage matrix\n",
    "    distances, # column 3\n",
    "    counts, # column 4\n",
    "], axis=1)\n",
    "\n",
    "linkage"
   ]
  },
  {
   "cell_type": "markdown",
   "id": "166d2aad-3142-455d-991c-605054bc0895",
   "metadata": {},
   "source": [
    "## Dendrogram"
   ]
  },
  {
   "cell_type": "code",
   "execution_count": null,
   "id": "cd2adce1-7f60-47a1-80f5-2a77eeeef3b7",
   "metadata": {},
   "outputs": [],
   "source": [
    "fig, ax = plt.subplots(figsize =(12,4))\n",
    "dendrogram(linkage, labels=df[\"NAME\"].values, ax=ax)\n",
    "ax.tick_params(labelsize=13)\n",
    "None"
   ]
  },
  {
   "cell_type": "code",
   "execution_count": null,
   "id": "1a403a0e-6c6f-401e-9449-601a0dc8b5d9",
   "metadata": {},
   "outputs": [],
   "source": [
    "df"
   ]
  },
  {
   "cell_type": "code",
   "execution_count": null,
   "id": "0d12e7a4-aeb6-4ae4-a363-e374dfc981af",
   "metadata": {},
   "outputs": [],
   "source": [
    "# set NAME as index\n",
    "df1= df.set_index(\"NAME\")"
   ]
  },
  {
   "cell_type": "code",
   "execution_count": null,
   "id": "b969b8d3-cec8-4dfd-8754-fbcb78ab5832",
   "metadata": {},
   "outputs": [],
   "source": [
    "# compare the last two counties in the dendrogram to see the similarity between them\n",
    "df1.loc[[\"Wood County\", \"Marquette County\"]]"
   ]
  },
  {
   "cell_type": "code",
   "execution_count": null,
   "id": "ca625cf2-4621-4097-a55e-b86fcbafe155",
   "metadata": {},
   "outputs": [],
   "source": [
    "# compare the last two counties in the dendrogram with the first county to see their dissimilarity with the first county\n",
    "df1.loc[[\"Wood County\", \"Marquette County\", \"Bayfield County\"]]"
   ]
  },
  {
   "cell_type": "markdown",
   "id": "14a94f28-b3c7-4246-82f0-ef048d7c1c21",
   "metadata": {},
   "source": [
    "## Redraw an image more simply, using only 4 colors\n",
    "\n",
    "   - capital.jpg: https://en.wikipedia.org/wiki/Madison,_Wisconsin"
   ]
  },
  {
   "cell_type": "code",
   "execution_count": null,
   "id": "2c983beb-7848-4b27-89e4-b1b30e1966e4",
   "metadata": {},
   "outputs": [],
   "source": [
    "import matplotlib.pyplot as plt\n",
    "img = plt.imread(\"capital.jpg\")\n",
    "print(img.shape)\n",
    "plt.imshow(img)"
   ]
  },
  {
   "cell_type": "code",
   "execution_count": null,
   "id": "bd1ebfbf-1fb6-429c-82d4-19506a252f79",
   "metadata": {},
   "outputs": [],
   "source": [
    "# img"
   ]
  },
  {
   "cell_type": "code",
   "execution_count": null,
   "id": "240b11f1-2daa-4b1f-8769-150f9e8c9ac1",
   "metadata": {},
   "outputs": [],
   "source": [
    "tbl = img.reshape(-1, 3)\n",
    "tbl"
   ]
  },
  {
   "cell_type": "code",
   "execution_count": null,
   "id": "2c999039-4b60-406b-8095-efaa719ae507",
   "metadata": {},
   "outputs": [],
   "source": [
    "km = KMeans(4)\n",
    "km.fit(tbl)"
   ]
  },
  {
   "cell_type": "code",
   "execution_count": null,
   "id": "010f4e9c-d1cf-431c-b52b-51243c76305d",
   "metadata": {},
   "outputs": [],
   "source": [
    "km.cluster_centers_"
   ]
  },
  {
   "cell_type": "code",
   "execution_count": null,
   "id": "2f386fdb-25db-49d7-a0ab-2f739f6187de",
   "metadata": {},
   "outputs": [],
   "source": [
    "plt.imshow(km.cluster_centers_.reshape(1, -1, 3)/255)"
   ]
  },
  {
   "cell_type": "code",
   "execution_count": null,
   "id": "31798ce2-3262-4086-9039-e18387fa59d2",
   "metadata": {},
   "outputs": [],
   "source": [
    "groups = km.predict(tbl)\n",
    "groups"
   ]
  },
  {
   "cell_type": "code",
   "execution_count": null,
   "id": "7d319bca-f525-4f7c-b018-e6b96df3bc60",
   "metadata": {},
   "outputs": [],
   "source": [
    "km.cluster_centers_[[0,0,1,1,1]]"
   ]
  },
  {
   "cell_type": "code",
   "execution_count": null,
   "id": "0f6cb61a-23a3-4c36-93bf-8fd222a34085",
   "metadata": {},
   "outputs": [],
   "source": [
    "img2 = km.cluster_centers_[groups]\n",
    "img2"
   ]
  },
  {
   "cell_type": "code",
   "execution_count": null,
   "id": "2fd0d8ca-0d8b-4428-8bb8-ce8e149622b9",
   "metadata": {},
   "outputs": [],
   "source": [
    "plt.imshow(img2.reshape(img.shape)/255)"
   ]
  },
  {
   "cell_type": "code",
   "execution_count": null,
   "id": "eff789fb-d30a-4bb9-a522-127291b9a8f9",
   "metadata": {},
   "outputs": [],
   "source": []
  }
 ],
 "metadata": {
  "kernelspec": {
   "display_name": "Python 3 (ipykernel)",
   "language": "python",
   "name": "python3"
  },
  "language_info": {
   "codemirror_mode": {
    "name": "ipython",
    "version": 3
   },
   "file_extension": ".py",
   "mimetype": "text/x-python",
   "name": "python",
   "nbconvert_exporter": "python",
   "pygments_lexer": "ipython3",
   "version": "3.10.12"
  }
 },
 "nbformat": 4,
 "nbformat_minor": 5
}
