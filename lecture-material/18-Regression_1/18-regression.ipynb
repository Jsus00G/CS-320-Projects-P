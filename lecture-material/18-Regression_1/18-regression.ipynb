{
 "cells": [
  {
   "cell_type": "markdown",
   "id": "9e33d56e",
   "metadata": {},
   "source": [
    "# Regression 1"
   ]
  },
  {
   "cell_type": "code",
   "execution_count": 1,
   "id": "e6f50cc3",
   "metadata": {},
   "outputs": [],
   "source": [
    "import os\n",
    "import pandas as pd\n",
    "import geopandas as gpd\n",
    "\n",
    "# new import statements\n",
    "from sklearn.linear_model import LinearRegression\n",
    "import sklearn\n",
    "from sklearn.model_selection import train_test_split\n",
    "from sklearn.model_selection import cross_val_score"
   ]
  },
  {
   "cell_type": "markdown",
   "id": "570b4253",
   "metadata": {},
   "source": [
    "#### Covid deaths analysis\n",
    "\n",
    "- Source: https://github.com/cs320-wisc/s22/tree/main/lec/29%20Regression%201\n",
    "    - Specifically, let's analyze \"COVID-19 Data by Census Tract V2\"\n",
    "        - Status Flag Values: -999: Census tracts, municipalities, school districts, and zip codes with 0–4 aggregate counts for any data have been suppressed. County data with 0-4 aggregate counts by demographic factors (e.g., by age group, race, ethnicity) have been suppressed."
   ]
  },
  {
   "cell_type": "code",
   "execution_count": 2,
   "id": "696eec18",
   "metadata": {},
   "outputs": [],
   "source": [
    "# Read the \"covid.geojson\" file\n",
    "dataset_file = \"covid.geojson\"\n",
    "df = gpd.read_file(dataset_file)"
   ]
  },
  {
   "cell_type": "code",
   "execution_count": 3,
   "id": "c3e6454f",
   "metadata": {},
   "outputs": [
    {
     "data": {
      "text/html": [
       "<div>\n",
       "<style scoped>\n",
       "    .dataframe tbody tr th:only-of-type {\n",
       "        vertical-align: middle;\n",
       "    }\n",
       "\n",
       "    .dataframe tbody tr th {\n",
       "        vertical-align: top;\n",
       "    }\n",
       "\n",
       "    .dataframe thead th {\n",
       "        text-align: right;\n",
       "    }\n",
       "</style>\n",
       "<table border=\"1\" class=\"dataframe\">\n",
       "  <thead>\n",
       "    <tr style=\"text-align: right;\">\n",
       "      <th></th>\n",
       "      <th>RptDt</th>\n",
       "      <th>GEOID</th>\n",
       "      <th>GEOName</th>\n",
       "      <th>POS_CUM_CP</th>\n",
       "      <th>POS_NEW_CP</th>\n",
       "      <th>POS_7DAYAVG_CP</th>\n",
       "      <th>DTH_CUM_CP</th>\n",
       "      <th>DTH_NEW_CP</th>\n",
       "      <th>DTH_7DAYAVG_CP</th>\n",
       "      <th>DTH_OVER_30DAYS_CP</th>\n",
       "      <th>...</th>\n",
       "      <th>HOSP_NO_CP</th>\n",
       "      <th>HOSP_UNK_CP</th>\n",
       "      <th>Date</th>\n",
       "      <th>POP</th>\n",
       "      <th>POP_MOE</th>\n",
       "      <th>OBJECTID</th>\n",
       "      <th>GEO</th>\n",
       "      <th>ShapeSTArea</th>\n",
       "      <th>ShapeSTLength</th>\n",
       "      <th>geometry</th>\n",
       "    </tr>\n",
       "  </thead>\n",
       "  <tbody>\n",
       "    <tr>\n",
       "      <th>0</th>\n",
       "      <td>2022-04-07 19:00:00+00:00</td>\n",
       "      <td>55079000101</td>\n",
       "      <td>None</td>\n",
       "      <td>1158</td>\n",
       "      <td>0</td>\n",
       "      <td>0.14</td>\n",
       "      <td>24</td>\n",
       "      <td>0</td>\n",
       "      <td>0.0</td>\n",
       "      <td>0</td>\n",
       "      <td>...</td>\n",
       "      <td>511</td>\n",
       "      <td>568</td>\n",
       "      <td>2022-04-06 06:00:00+00:00</td>\n",
       "      <td>4476</td>\n",
       "      <td>437.0</td>\n",
       "      <td>260</td>\n",
       "      <td>Census tract</td>\n",
       "      <td>7.500609e+06</td>\n",
       "      <td>11159.571995</td>\n",
       "      <td>POLYGON ((-87.99418 43.19256, -87.99429 43.192...</td>\n",
       "    </tr>\n",
       "    <tr>\n",
       "      <th>1</th>\n",
       "      <td>2022-04-07 19:00:00+00:00</td>\n",
       "      <td>55079000102</td>\n",
       "      <td>None</td>\n",
       "      <td>1159</td>\n",
       "      <td>1</td>\n",
       "      <td>0.43</td>\n",
       "      <td>19</td>\n",
       "      <td>0</td>\n",
       "      <td>0.0</td>\n",
       "      <td>0</td>\n",
       "      <td>...</td>\n",
       "      <td>561</td>\n",
       "      <td>508</td>\n",
       "      <td>2022-04-06 06:00:00+00:00</td>\n",
       "      <td>3468</td>\n",
       "      <td>404.0</td>\n",
       "      <td>261</td>\n",
       "      <td>Census tract</td>\n",
       "      <td>1.224474e+07</td>\n",
       "      <td>15500.211793</td>\n",
       "      <td>POLYGON ((-87.99449 43.17769, -87.99512 43.177...</td>\n",
       "    </tr>\n",
       "    <tr>\n",
       "      <th>2</th>\n",
       "      <td>2022-04-07 19:00:00+00:00</td>\n",
       "      <td>55079000201</td>\n",
       "      <td>None</td>\n",
       "      <td>1410</td>\n",
       "      <td>0</td>\n",
       "      <td>0.29</td>\n",
       "      <td>10</td>\n",
       "      <td>0</td>\n",
       "      <td>0.0</td>\n",
       "      <td>0</td>\n",
       "      <td>...</td>\n",
       "      <td>722</td>\n",
       "      <td>609</td>\n",
       "      <td>2022-04-06 06:00:00+00:00</td>\n",
       "      <td>5561</td>\n",
       "      <td>699.0</td>\n",
       "      <td>262</td>\n",
       "      <td>Census tract</td>\n",
       "      <td>1.488298e+07</td>\n",
       "      <td>17849.912522</td>\n",
       "      <td>POLYGON ((-88.02435 43.17761, -88.02434 43.177...</td>\n",
       "    </tr>\n",
       "    <tr>\n",
       "      <th>3</th>\n",
       "      <td>2022-04-07 19:00:00+00:00</td>\n",
       "      <td>55079000202</td>\n",
       "      <td>None</td>\n",
       "      <td>1728</td>\n",
       "      <td>0</td>\n",
       "      <td>0.71</td>\n",
       "      <td>11</td>\n",
       "      <td>0</td>\n",
       "      <td>0.0</td>\n",
       "      <td>0</td>\n",
       "      <td>...</td>\n",
       "      <td>913</td>\n",
       "      <td>738</td>\n",
       "      <td>2022-04-06 06:00:00+00:00</td>\n",
       "      <td>6439</td>\n",
       "      <td>621.0</td>\n",
       "      <td>263</td>\n",
       "      <td>Census tract</td>\n",
       "      <td>1.480524e+07</td>\n",
       "      <td>17742.064041</td>\n",
       "      <td>POLYGON ((-88.02435 43.17761, -88.02518 43.177...</td>\n",
       "    </tr>\n",
       "    <tr>\n",
       "      <th>4</th>\n",
       "      <td>2022-04-07 19:00:00+00:00</td>\n",
       "      <td>55079000301</td>\n",
       "      <td>None</td>\n",
       "      <td>411</td>\n",
       "      <td>1</td>\n",
       "      <td>0.14</td>\n",
       "      <td>4</td>\n",
       "      <td>0</td>\n",
       "      <td>0.0</td>\n",
       "      <td>0</td>\n",
       "      <td>...</td>\n",
       "      <td>218</td>\n",
       "      <td>172</td>\n",
       "      <td>2022-04-06 06:00:00+00:00</td>\n",
       "      <td>1485</td>\n",
       "      <td>92.0</td>\n",
       "      <td>264</td>\n",
       "      <td>Census tract</td>\n",
       "      <td>3.733793e+06</td>\n",
       "      <td>9142.114479</td>\n",
       "      <td>POLYGON ((-88.05488 43.14699, -88.05511 43.146...</td>\n",
       "    </tr>\n",
       "  </tbody>\n",
       "</table>\n",
       "<p>5 rows × 90 columns</p>\n",
       "</div>"
      ],
      "text/plain": [
       "                      RptDt        GEOID GEOName  POS_CUM_CP  POS_NEW_CP  \\\n",
       "0 2022-04-07 19:00:00+00:00  55079000101    None        1158           0   \n",
       "1 2022-04-07 19:00:00+00:00  55079000102    None        1159           1   \n",
       "2 2022-04-07 19:00:00+00:00  55079000201    None        1410           0   \n",
       "3 2022-04-07 19:00:00+00:00  55079000202    None        1728           0   \n",
       "4 2022-04-07 19:00:00+00:00  55079000301    None         411           1   \n",
       "\n",
       "   POS_7DAYAVG_CP  DTH_CUM_CP  DTH_NEW_CP  DTH_7DAYAVG_CP  DTH_OVER_30DAYS_CP  \\\n",
       "0            0.14          24           0             0.0                   0   \n",
       "1            0.43          19           0             0.0                   0   \n",
       "2            0.29          10           0             0.0                   0   \n",
       "3            0.71          11           0             0.0                   0   \n",
       "4            0.14           4           0             0.0                   0   \n",
       "\n",
       "   ...  HOSP_NO_CP HOSP_UNK_CP                      Date   POP POP_MOE  \\\n",
       "0  ...         511         568 2022-04-06 06:00:00+00:00  4476   437.0   \n",
       "1  ...         561         508 2022-04-06 06:00:00+00:00  3468   404.0   \n",
       "2  ...         722         609 2022-04-06 06:00:00+00:00  5561   699.0   \n",
       "3  ...         913         738 2022-04-06 06:00:00+00:00  6439   621.0   \n",
       "4  ...         218         172 2022-04-06 06:00:00+00:00  1485    92.0   \n",
       "\n",
       "   OBJECTID           GEO   ShapeSTArea  ShapeSTLength  \\\n",
       "0       260  Census tract  7.500609e+06   11159.571995   \n",
       "1       261  Census tract  1.224474e+07   15500.211793   \n",
       "2       262  Census tract  1.488298e+07   17849.912522   \n",
       "3       263  Census tract  1.480524e+07   17742.064041   \n",
       "4       264  Census tract  3.733793e+06    9142.114479   \n",
       "\n",
       "                                            geometry  \n",
       "0  POLYGON ((-87.99418 43.19256, -87.99429 43.192...  \n",
       "1  POLYGON ((-87.99449 43.17769, -87.99512 43.177...  \n",
       "2  POLYGON ((-88.02435 43.17761, -88.02434 43.177...  \n",
       "3  POLYGON ((-88.02435 43.17761, -88.02518 43.177...  \n",
       "4  POLYGON ((-88.05488 43.14699, -88.05511 43.146...  \n",
       "\n",
       "[5 rows x 90 columns]"
      ]
     },
     "execution_count": 3,
     "metadata": {},
     "output_type": "execute_result"
    }
   ],
   "source": [
    "df.head()"
   ]
  },
  {
   "cell_type": "code",
   "execution_count": 4,
   "id": "905da51e",
   "metadata": {},
   "outputs": [
    {
     "data": {
      "text/plain": [
       "Index(['RptDt', 'GEOID', 'GEOName', 'POS_CUM_CP', 'POS_NEW_CP',\n",
       "       'POS_7DAYAVG_CP', 'DTH_CUM_CP', 'DTH_NEW_CP', 'DTH_7DAYAVG_CP',\n",
       "       'DTH_OVER_30DAYS_CP', 'DTH_CP_Daily', 'TESTS_POS_CONF',\n",
       "       'TESTS_POS_CONF_NEW', 'TESTS_POS_CONF_7DAYAVG', 'PercentNAATPos',\n",
       "       'TESTS_CUM', 'TESTS_NEW', 'TESTS_7DAYAVG', 'POS_CUM_CONF',\n",
       "       'POS_NEW_CONF', 'POS_7DAYAVG_CONF', 'POS_CUM_PROB', 'POS_NEW_PROB',\n",
       "       'POS_7DAYAVG_PROB', 'DTH_CUM_CONF', 'DTH_NEW_CONF', 'DTH_7DAYAVG_CONF',\n",
       "       'DTH_CONF_Daily', 'DTH_CUM_PROB', 'DTH_NEW_PROB', 'DTH_7DAYAVG_PROB',\n",
       "       'DTH_PROB_Daily', 'POS_MALE_CP', 'POS_FEM_CP', 'POS_OTH_CP',\n",
       "       'POS_0_9_CP', 'POS_10_19_CP', 'POS_20_29_CP', 'POS_30_39_CP',\n",
       "       'POS_40_49_CP', 'POS_50_59_CP', 'POS_60_69_CP', 'POS_70_79_CP',\n",
       "       'POS_80_89_CP', 'POS_90_CP', 'DTHS_FEM_CP', 'DTHS_MALE_CP',\n",
       "       'DTHS_OTH_CP', 'DTHS_0_9_CP', 'DTHS_10_19_CP', 'DTHS_20_29_CP',\n",
       "       'DTHS_30_39_CP', 'DTHS_40_49_CP', 'DTHS_50_59_CP', 'DTHS_60_69_CP',\n",
       "       'DTHS_70_79_CP', 'DTHS_80_89_CP', 'DTHS_90_CP', 'POS_AIAN_CP',\n",
       "       'POS_ASN_CP', 'POS_BLK_CP', 'POS_WHT_CP', 'POS_MLTOTH_CP', 'POS_UNK_CP',\n",
       "       'POS_E_HSP_CP', 'POS_E_NHSP_CP', 'POS_E_UNK_CP', 'DTH_AIAN_CP',\n",
       "       'DTH_ASN_CP', 'DTH_BLK_CP', 'DTH_WHT_CP', 'DTH_MLTOTH_CP', 'DTH_UNK_CP',\n",
       "       'DTH_E_HSP_CP', 'DTH_E_NHSP_CP', 'DTH_E_UNK_CP', 'POS_HC_Y_CP',\n",
       "       'POS_HC_N_CP', 'POS_HC_UNK_CP', 'HOSP_YES_CP', 'HOSP_NO_CP',\n",
       "       'HOSP_UNK_CP', 'Date', 'POP', 'POP_MOE', 'OBJECTID', 'GEO',\n",
       "       'ShapeSTArea', 'ShapeSTLength', 'geometry'],\n",
       "      dtype='object')"
      ]
     },
     "execution_count": 4,
     "metadata": {},
     "output_type": "execute_result"
    }
   ],
   "source": [
    "# Explore the columns\n",
    "df.columns"
   ]
  },
  {
   "cell_type": "code",
   "execution_count": 5,
   "id": "a3434aba",
   "metadata": {},
   "outputs": [
    {
     "data": {
      "text/plain": [
       "<Axes: >"
      ]
     },
     "execution_count": 5,
     "metadata": {},
     "output_type": "execute_result"
    },
    {
     "data": {
      "image/png": "[encoded data removed]",
      "text/plain": [
       "<Figure size 640x480 with 1 Axes>"
      ]
     },
     "metadata": {},
     "output_type": "display_data"
    }
   ],
   "source": [
    "# Create a geographic plot\n",
    "df.plot()"
   ]
  },
  {
   "cell_type": "markdown",
   "id": "e3e73632",
   "metadata": {},
   "source": [
    "### Predicting \"DTH_CUM_CP\""
   ]
  },
  {
   "cell_type": "markdown",
   "id": "43cebffa",
   "metadata": {},
   "source": [
    "### How can we get a clean dataset of COVID deaths in WI?"
   ]
  },
  {
   "cell_type": "code",
   "execution_count": 6,
   "id": "fa2f30ae",
   "metadata": {},
   "outputs": [],
   "source": [
    "# Replace -999 with 2; 2 is between 0-4; random choice instead of using 0\n",
    "df = df.replace(-999, 2) \n",
    "# we must communicate in final results what percent of values were guessed (imputed)"
   ]
  },
  {
   "cell_type": "markdown",
   "id": "4cff709d",
   "metadata": {},
   "source": [
    "How would we know if the data is now clean?"
   ]
  },
  {
   "cell_type": "code",
   "execution_count": 7,
   "id": "950c2041",
   "metadata": {},
   "outputs": [
    {
     "data": {
      "text/plain": [
       "<Axes: xlabel='POP', ylabel='DTH_CUM_CP'>"
      ]
     },
     "execution_count": 7,
     "metadata": {},
     "output_type": "execute_result"
    },
    {
     "data": {
      "image/png": "[encoded data removed]",
      "text/plain": [
       "<Figure size 640x480 with 1 Axes>"
      ]
     },
     "metadata": {},
     "output_type": "display_data"
    }
   ],
   "source": [
    "# Create a scatter plot to visualize relationship between \"POP\" and \"DTH_CUM_CP\"\n",
    "df.plot.scatter(x=\"POP\", y=\"DTH_CUM_CP\")"
   ]
  },
  {
   "cell_type": "markdown",
   "id": "4073a940",
   "metadata": {},
   "source": [
    "Which points are concerning? Let's take a closer look.\n",
    "\n",
    "#### Which rows have \"DTH_CUM_CP\" greater than 300?"
   ]
  },
  {
   "cell_type": "code",
   "execution_count": 8,
   "id": "a655c465",
   "metadata": {},
   "outputs": [
    {
     "data": {
      "text/html": [
       "<div>\n",
       "<style scoped>\n",
       "    .dataframe tbody tr th:only-of-type {\n",
       "        vertical-align: middle;\n",
       "    }\n",
       "\n",
       "    .dataframe tbody tr th {\n",
       "        vertical-align: top;\n",
       "    }\n",
       "\n",
       "    .dataframe thead th {\n",
       "        text-align: right;\n",
       "    }\n",
       "</style>\n",
       "<table border=\"1\" class=\"dataframe\">\n",
       "  <thead>\n",
       "    <tr style=\"text-align: right;\">\n",
       "      <th></th>\n",
       "      <th>RptDt</th>\n",
       "      <th>GEOID</th>\n",
       "      <th>GEOName</th>\n",
       "      <th>POS_CUM_CP</th>\n",
       "      <th>POS_NEW_CP</th>\n",
       "      <th>POS_7DAYAVG_CP</th>\n",
       "      <th>DTH_CUM_CP</th>\n",
       "      <th>DTH_NEW_CP</th>\n",
       "      <th>DTH_7DAYAVG_CP</th>\n",
       "      <th>DTH_OVER_30DAYS_CP</th>\n",
       "      <th>...</th>\n",
       "      <th>HOSP_NO_CP</th>\n",
       "      <th>HOSP_UNK_CP</th>\n",
       "      <th>Date</th>\n",
       "      <th>POP</th>\n",
       "      <th>POP_MOE</th>\n",
       "      <th>OBJECTID</th>\n",
       "      <th>GEO</th>\n",
       "      <th>ShapeSTArea</th>\n",
       "      <th>ShapeSTLength</th>\n",
       "      <th>geometry</th>\n",
       "    </tr>\n",
       "  </thead>\n",
       "  <tbody>\n",
       "    <tr>\n",
       "      <th>916</th>\n",
       "      <td>2022-04-07 19:00:00+00:00</td>\n",
       "      <td>TRACT N/A</td>\n",
       "      <td>None</td>\n",
       "      <td>39838</td>\n",
       "      <td>21</td>\n",
       "      <td>12.43</td>\n",
       "      <td>406</td>\n",
       "      <td>0</td>\n",
       "      <td>0.0</td>\n",
       "      <td>0</td>\n",
       "      <td>...</td>\n",
       "      <td>17979</td>\n",
       "      <td>20213</td>\n",
       "      <td>2022-04-06 06:00:00+00:00</td>\n",
       "      <td>0</td>\n",
       "      <td>NaN</td>\n",
       "      <td>2668</td>\n",
       "      <td>Census tract</td>\n",
       "      <td>466.191406</td>\n",
       "      <td>80.071546</td>\n",
       "      <td>POLYGON ((-87.04159 44.13490, -87.04161 44.134...</td>\n",
       "    </tr>\n",
       "  </tbody>\n",
       "</table>\n",
       "<p>1 rows × 90 columns</p>\n",
       "</div>"
      ],
      "text/plain": [
       "                        RptDt      GEOID GEOName  POS_CUM_CP  POS_NEW_CP  \\\n",
       "916 2022-04-07 19:00:00+00:00  TRACT N/A    None       39838          21   \n",
       "\n",
       "     POS_7DAYAVG_CP  DTH_CUM_CP  DTH_NEW_CP  DTH_7DAYAVG_CP  \\\n",
       "916           12.43         406           0             0.0   \n",
       "\n",
       "     DTH_OVER_30DAYS_CP  ...  HOSP_NO_CP HOSP_UNK_CP  \\\n",
       "916                   0  ...       17979       20213   \n",
       "\n",
       "                         Date POP POP_MOE  OBJECTID           GEO  \\\n",
       "916 2022-04-06 06:00:00+00:00   0     NaN      2668  Census tract   \n",
       "\n",
       "     ShapeSTArea  ShapeSTLength  \\\n",
       "916   466.191406      80.071546   \n",
       "\n",
       "                                              geometry  \n",
       "916  POLYGON ((-87.04159 44.13490, -87.04161 44.134...  \n",
       "\n",
       "[1 rows x 90 columns]"
      ]
     },
     "execution_count": 8,
     "metadata": {},
     "output_type": "execute_result"
    }
   ],
   "source": [
    "df[df[\"DTH_CUM_CP\"] > 300]"
   ]
  },
  {
   "cell_type": "markdown",
   "id": "d377143e",
   "metadata": {},
   "source": [
    "#### Valid rows have \"GEOID\" that only contains digits\n",
    "\n",
    "Using `str` methods to perform filtering: `str.fullmatch` does a full string match given a reg-ex. Because it does full string match anchor characters (`^`, `$`) won't be needed."
   ]
  },
  {
   "cell_type": "code",
   "execution_count": 9,
   "id": "529781db",
   "metadata": {},
   "outputs": [
    {
     "data": {
      "text/plain": [
       "0       55079000101\n",
       "1       55079000102\n",
       "2       55079000201\n",
       "3       55079000202\n",
       "4       55079000301\n",
       "           ...     \n",
       "1388    55073001800\n",
       "1389    55073001900\n",
       "1390    55073002000\n",
       "1391    55073002100\n",
       "1392    55073002200\n",
       "Name: GEOID, Length: 1393, dtype: object"
      ]
     },
     "execution_count": 9,
     "metadata": {},
     "output_type": "execute_result"
    }
   ],
   "source": [
    "df[\"GEOID\"]"
   ]
  },
  {
   "cell_type": "code",
   "execution_count": 10,
   "id": "af16925b",
   "metadata": {},
   "outputs": [
    {
     "data": {
      "text/plain": [
       "0       True\n",
       "1       True\n",
       "2       True\n",
       "3       True\n",
       "4       True\n",
       "        ... \n",
       "1388    True\n",
       "1389    True\n",
       "1390    True\n",
       "1391    True\n",
       "1392    True\n",
       "Name: GEOID, Length: 1393, dtype: bool"
      ]
     },
     "execution_count": 10,
     "metadata": {},
     "output_type": "execute_result"
    }
   ],
   "source": [
    "df[\"GEOID\"].str.fullmatch(r\"\\d+\")"
   ]
  },
  {
   "cell_type": "code",
   "execution_count": 11,
   "id": "1d583d06",
   "metadata": {},
   "outputs": [
    {
     "data": {
      "text/plain": [
       "<Axes: xlabel='POP', ylabel='DTH_CUM_CP'>"
      ]
     },
     "execution_count": 11,
     "metadata": {},
     "output_type": "execute_result"
    },
    {
     "data": {
      "image/png": "[encoded data removed]",
      "text/plain": [
       "<Figure size 640x480 with 1 Axes>"
      ]
     },
     "metadata": {},
     "output_type": "display_data"
    }
   ],
   "source": [
    "df = df[df[\"GEOID\"].str.fullmatch(r\"\\d+\")]\n",
    "df.plot.scatter(x=\"POP\", y=\"DTH_CUM_CP\")"
   ]
  },
  {
   "cell_type": "markdown",
   "id": "1be50600",
   "metadata": {},
   "source": [
    "### How can we train/fit models to known data to predict unknowns?\n",
    "- Feature(s) => Predictions\n",
    "    - Population => Deaths\n",
    "    - Cases => Deaths\n",
    "    - Cases by Age => Deaths\n",
    "    \n",
    "- General structure for fitting models:\n",
    "    ```python\n",
    "    model = <some model>\n",
    "    model.fit(X, y)\n",
    "    y = model.predict(X)\n",
    "    ```\n",
    "    - where `X` needs to be a matrix or a `DataFrame` and `y` needs to be an array (vector) or a `Series`\n",
    "    - after fitting, `model` object instance stores the information about relationship between features (x values) and predictions (y values)\n",
    "    - `predict` returns a `numpy` array, which can be treated like a list"
   ]
  },
  {
   "cell_type": "markdown",
   "id": "0d0e65c3",
   "metadata": {},
   "source": [
    "### Predicting \"DTH_CUM_CP\" using \"POP\" as feature."
   ]
  },
  {
   "cell_type": "code",
   "execution_count": 12,
   "id": "3dbdbba4",
   "metadata": {},
   "outputs": [
    {
     "data": {
      "text/html": [
       "<div>\n",
       "<style scoped>\n",
       "    .dataframe tbody tr th:only-of-type {\n",
       "        vertical-align: middle;\n",
       "    }\n",
       "\n",
       "    .dataframe tbody tr th {\n",
       "        vertical-align: top;\n",
       "    }\n",
       "\n",
       "    .dataframe thead th {\n",
       "        text-align: right;\n",
       "    }\n",
       "</style>\n",
       "<table border=\"1\" class=\"dataframe\">\n",
       "  <thead>\n",
       "    <tr style=\"text-align: right;\">\n",
       "      <th></th>\n",
       "      <th>POP</th>\n",
       "    </tr>\n",
       "  </thead>\n",
       "  <tbody>\n",
       "    <tr>\n",
       "      <th>0</th>\n",
       "      <td>4476</td>\n",
       "    </tr>\n",
       "    <tr>\n",
       "      <th>1</th>\n",
       "      <td>3468</td>\n",
       "    </tr>\n",
       "    <tr>\n",
       "      <th>2</th>\n",
       "      <td>5561</td>\n",
       "    </tr>\n",
       "    <tr>\n",
       "      <th>3</th>\n",
       "      <td>6439</td>\n",
       "    </tr>\n",
       "    <tr>\n",
       "      <th>4</th>\n",
       "      <td>1485</td>\n",
       "    </tr>\n",
       "  </tbody>\n",
       "</table>\n",
       "</div>"
      ],
      "text/plain": [
       "    POP\n",
       "0  4476\n",
       "1  3468\n",
       "2  5561\n",
       "3  6439\n",
       "4  1485"
      ]
     },
     "execution_count": 12,
     "metadata": {},
     "output_type": "execute_result"
    }
   ],
   "source": [
    "# We must specify a list of columns to make sure we extract a DataFrame and not a Series\n",
    "# Feature DataFrame\n",
    "df[[\"POP\"]].head()"
   ]
  },
  {
   "cell_type": "code",
   "execution_count": 13,
   "id": "22aad05e",
   "metadata": {},
   "outputs": [
    {
     "data": {
      "text/plain": [
       "0    24\n",
       "1    19\n",
       "2    10\n",
       "3    11\n",
       "4     4\n",
       "Name: DTH_CUM_CP, dtype: int64"
      ]
     },
     "execution_count": 13,
     "metadata": {},
     "output_type": "execute_result"
    }
   ],
   "source": [
    "# Label Series: \"DTH_CUM_CP\"\n",
    "df[\"DTH_CUM_CP\"].head()"
   ]
  },
  {
   "cell_type": "markdown",
   "id": "797d6831",
   "metadata": {},
   "source": [
    "### Let's use `LinearRegression` model.\n",
    "\n",
    "- `from sklearn.linear_model import LinearRegression`"
   ]
  },
  {
   "cell_type": "code",
   "execution_count": 14,
   "id": "51ad5b05",
   "metadata": {},
   "outputs": [],
   "source": [
    "xcols = [\"POP\"]\n",
    "ycol = \"DTH_CUM_CP\"\n",
    "\n",
    "model = LinearRegression()\n",
    "model.fit(df[xcols], df[ycol])\n",
    "# less interesting because we are predicting what we already know\n",
    "y = model.predict(df[xcols])"
   ]
  },
  {
   "cell_type": "markdown",
   "id": "e589d923",
   "metadata": {},
   "source": [
    "Predicting for new values of x."
   ]
  },
  {
   "cell_type": "code",
   "execution_count": 15,
   "id": "dd8f0440",
   "metadata": {},
   "outputs": [
    {
     "data": {
      "text/html": [
       "<div>\n",
       "<style scoped>\n",
       "    .dataframe tbody tr th:only-of-type {\n",
       "        vertical-align: middle;\n",
       "    }\n",
       "\n",
       "    .dataframe tbody tr th {\n",
       "        vertical-align: top;\n",
       "    }\n",
       "\n",
       "    .dataframe thead th {\n",
       "        text-align: right;\n",
       "    }\n",
       "</style>\n",
       "<table border=\"1\" class=\"dataframe\">\n",
       "  <thead>\n",
       "    <tr style=\"text-align: right;\">\n",
       "      <th></th>\n",
       "      <th>POP</th>\n",
       "    </tr>\n",
       "  </thead>\n",
       "  <tbody>\n",
       "    <tr>\n",
       "      <th>0</th>\n",
       "      <td>1000</td>\n",
       "    </tr>\n",
       "    <tr>\n",
       "      <th>1</th>\n",
       "      <td>2000</td>\n",
       "    </tr>\n",
       "    <tr>\n",
       "      <th>2</th>\n",
       "      <td>3000</td>\n",
       "    </tr>\n",
       "  </tbody>\n",
       "</table>\n",
       "</div>"
      ],
      "text/plain": [
       "    POP\n",
       "0  1000\n",
       "1  2000\n",
       "2  3000"
      ]
     },
     "execution_count": 15,
     "metadata": {},
     "output_type": "execute_result"
    }
   ],
   "source": [
    "predict_df = pd.DataFrame({\"POP\": [1000, 2000, 3000]})\n",
    "predict_df"
   ]
  },
  {
   "cell_type": "code",
   "execution_count": 16,
   "id": "5315289f",
   "metadata": {},
   "outputs": [
    {
     "data": {
      "text/plain": [
       "array([3.62798762, 5.65330528, 7.67862294])"
      ]
     },
     "execution_count": 16,
     "metadata": {},
     "output_type": "execute_result"
    }
   ],
   "source": [
    "# Predict for the new data\n",
    "model.predict(predict_df)"
   ]
  },
  {
   "cell_type": "code",
   "execution_count": 17,
   "id": "0cea4830",
   "metadata": {},
   "outputs": [
    {
     "data": {
      "text/html": [
       "<div>\n",
       "<style scoped>\n",
       "    .dataframe tbody tr th:only-of-type {\n",
       "        vertical-align: middle;\n",
       "    }\n",
       "\n",
       "    .dataframe tbody tr th {\n",
       "        vertical-align: top;\n",
       "    }\n",
       "\n",
       "    .dataframe thead th {\n",
       "        text-align: right;\n",
       "    }\n",
       "</style>\n",
       "<table border=\"1\" class=\"dataframe\">\n",
       "  <thead>\n",
       "    <tr style=\"text-align: right;\">\n",
       "      <th></th>\n",
       "      <th>POP</th>\n",
       "      <th>predicted deaths</th>\n",
       "    </tr>\n",
       "  </thead>\n",
       "  <tbody>\n",
       "    <tr>\n",
       "      <th>0</th>\n",
       "      <td>1000</td>\n",
       "      <td>3.627988</td>\n",
       "    </tr>\n",
       "    <tr>\n",
       "      <th>1</th>\n",
       "      <td>2000</td>\n",
       "      <td>5.653305</td>\n",
       "    </tr>\n",
       "    <tr>\n",
       "      <th>2</th>\n",
       "      <td>3000</td>\n",
       "      <td>7.678623</td>\n",
       "    </tr>\n",
       "  </tbody>\n",
       "</table>\n",
       "</div>"
      ],
      "text/plain": [
       "    POP  predicted deaths\n",
       "0  1000          3.627988\n",
       "1  2000          5.653305\n",
       "2  3000          7.678623"
      ]
     },
     "execution_count": 17,
     "metadata": {},
     "output_type": "execute_result"
    }
   ],
   "source": [
    "# Insert a new column called \"predicted deaths\" with the predictions\n",
    "predict_df[\"predicted deaths\"] = model.predict(predict_df)\n",
    "predict_df"
   ]
  },
  {
   "cell_type": "markdown",
   "id": "1c649201",
   "metadata": {},
   "source": [
    "### How can we visualize model predictions?\n",
    "\n",
    "- Let's predict deaths for \"POP\" ranges like 0, 1000, 2000, ..., 20000"
   ]
  },
  {
   "cell_type": "code",
   "execution_count": 18,
   "id": "496a67c9",
   "metadata": {},
   "outputs": [
    {
     "data": {
      "text/html": [
       "<div>\n",
       "<style scoped>\n",
       "    .dataframe tbody tr th:only-of-type {\n",
       "        vertical-align: middle;\n",
       "    }\n",
       "\n",
       "    .dataframe tbody tr th {\n",
       "        vertical-align: top;\n",
       "    }\n",
       "\n",
       "    .dataframe thead th {\n",
       "        text-align: right;\n",
       "    }\n",
       "</style>\n",
       "<table border=\"1\" class=\"dataframe\">\n",
       "  <thead>\n",
       "    <tr style=\"text-align: right;\">\n",
       "      <th></th>\n",
       "      <th>POP</th>\n",
       "    </tr>\n",
       "  </thead>\n",
       "  <tbody>\n",
       "    <tr>\n",
       "      <th>0</th>\n",
       "      <td>0</td>\n",
       "    </tr>\n",
       "    <tr>\n",
       "      <th>1</th>\n",
       "      <td>1000</td>\n",
       "    </tr>\n",
       "    <tr>\n",
       "      <th>2</th>\n",
       "      <td>2000</td>\n",
       "    </tr>\n",
       "    <tr>\n",
       "      <th>3</th>\n",
       "      <td>3000</td>\n",
       "    </tr>\n",
       "    <tr>\n",
       "      <th>4</th>\n",
       "      <td>4000</td>\n",
       "    </tr>\n",
       "    <tr>\n",
       "      <th>5</th>\n",
       "      <td>5000</td>\n",
       "    </tr>\n",
       "    <tr>\n",
       "      <th>6</th>\n",
       "      <td>6000</td>\n",
       "    </tr>\n",
       "    <tr>\n",
       "      <th>7</th>\n",
       "      <td>7000</td>\n",
       "    </tr>\n",
       "    <tr>\n",
       "      <th>8</th>\n",
       "      <td>8000</td>\n",
       "    </tr>\n",
       "    <tr>\n",
       "      <th>9</th>\n",
       "      <td>9000</td>\n",
       "    </tr>\n",
       "    <tr>\n",
       "      <th>10</th>\n",
       "      <td>10000</td>\n",
       "    </tr>\n",
       "    <tr>\n",
       "      <th>11</th>\n",
       "      <td>11000</td>\n",
       "    </tr>\n",
       "    <tr>\n",
       "      <th>12</th>\n",
       "      <td>12000</td>\n",
       "    </tr>\n",
       "    <tr>\n",
       "      <th>13</th>\n",
       "      <td>13000</td>\n",
       "    </tr>\n",
       "    <tr>\n",
       "      <th>14</th>\n",
       "      <td>14000</td>\n",
       "    </tr>\n",
       "    <tr>\n",
       "      <th>15</th>\n",
       "      <td>15000</td>\n",
       "    </tr>\n",
       "    <tr>\n",
       "      <th>16</th>\n",
       "      <td>16000</td>\n",
       "    </tr>\n",
       "    <tr>\n",
       "      <th>17</th>\n",
       "      <td>17000</td>\n",
       "    </tr>\n",
       "    <tr>\n",
       "      <th>18</th>\n",
       "      <td>18000</td>\n",
       "    </tr>\n",
       "    <tr>\n",
       "      <th>19</th>\n",
       "      <td>19000</td>\n",
       "    </tr>\n",
       "  </tbody>\n",
       "</table>\n",
       "</div>"
      ],
      "text/plain": [
       "      POP\n",
       "0       0\n",
       "1    1000\n",
       "2    2000\n",
       "3    3000\n",
       "4    4000\n",
       "5    5000\n",
       "6    6000\n",
       "7    7000\n",
       "8    8000\n",
       "9    9000\n",
       "10  10000\n",
       "11  11000\n",
       "12  12000\n",
       "13  13000\n",
       "14  14000\n",
       "15  15000\n",
       "16  16000\n",
       "17  17000\n",
       "18  18000\n",
       "19  19000"
      ]
     },
     "execution_count": 18,
     "metadata": {},
     "output_type": "execute_result"
    }
   ],
   "source": [
    "predict_df = pd.DataFrame({\"POP\": range(0, 20000, 1000)})\n",
    "predict_df"
   ]
  },
  {
   "cell_type": "code",
   "execution_count": 19,
   "id": "b825412a",
   "metadata": {},
   "outputs": [
    {
     "data": {
      "text/html": [
       "<div>\n",
       "<style scoped>\n",
       "    .dataframe tbody tr th:only-of-type {\n",
       "        vertical-align: middle;\n",
       "    }\n",
       "\n",
       "    .dataframe tbody tr th {\n",
       "        vertical-align: top;\n",
       "    }\n",
       "\n",
       "    .dataframe thead th {\n",
       "        text-align: right;\n",
       "    }\n",
       "</style>\n",
       "<table border=\"1\" class=\"dataframe\">\n",
       "  <thead>\n",
       "    <tr style=\"text-align: right;\">\n",
       "      <th></th>\n",
       "      <th>POP</th>\n",
       "      <th>predicted deaths</th>\n",
       "    </tr>\n",
       "  </thead>\n",
       "  <tbody>\n",
       "    <tr>\n",
       "      <th>0</th>\n",
       "      <td>0</td>\n",
       "      <td>1.602670</td>\n",
       "    </tr>\n",
       "    <tr>\n",
       "      <th>1</th>\n",
       "      <td>1000</td>\n",
       "      <td>3.627988</td>\n",
       "    </tr>\n",
       "    <tr>\n",
       "      <th>2</th>\n",
       "      <td>2000</td>\n",
       "      <td>5.653305</td>\n",
       "    </tr>\n",
       "    <tr>\n",
       "      <th>3</th>\n",
       "      <td>3000</td>\n",
       "      <td>7.678623</td>\n",
       "    </tr>\n",
       "    <tr>\n",
       "      <th>4</th>\n",
       "      <td>4000</td>\n",
       "      <td>9.703941</td>\n",
       "    </tr>\n",
       "    <tr>\n",
       "      <th>5</th>\n",
       "      <td>5000</td>\n",
       "      <td>11.729258</td>\n",
       "    </tr>\n",
       "    <tr>\n",
       "      <th>6</th>\n",
       "      <td>6000</td>\n",
       "      <td>13.754576</td>\n",
       "    </tr>\n",
       "    <tr>\n",
       "      <th>7</th>\n",
       "      <td>7000</td>\n",
       "      <td>15.779894</td>\n",
       "    </tr>\n",
       "    <tr>\n",
       "      <th>8</th>\n",
       "      <td>8000</td>\n",
       "      <td>17.805211</td>\n",
       "    </tr>\n",
       "    <tr>\n",
       "      <th>9</th>\n",
       "      <td>9000</td>\n",
       "      <td>19.830529</td>\n",
       "    </tr>\n",
       "    <tr>\n",
       "      <th>10</th>\n",
       "      <td>10000</td>\n",
       "      <td>21.855847</td>\n",
       "    </tr>\n",
       "    <tr>\n",
       "      <th>11</th>\n",
       "      <td>11000</td>\n",
       "      <td>23.881164</td>\n",
       "    </tr>\n",
       "    <tr>\n",
       "      <th>12</th>\n",
       "      <td>12000</td>\n",
       "      <td>25.906482</td>\n",
       "    </tr>\n",
       "    <tr>\n",
       "      <th>13</th>\n",
       "      <td>13000</td>\n",
       "      <td>27.931800</td>\n",
       "    </tr>\n",
       "    <tr>\n",
       "      <th>14</th>\n",
       "      <td>14000</td>\n",
       "      <td>29.957117</td>\n",
       "    </tr>\n",
       "    <tr>\n",
       "      <th>15</th>\n",
       "      <td>15000</td>\n",
       "      <td>31.982435</td>\n",
       "    </tr>\n",
       "    <tr>\n",
       "      <th>16</th>\n",
       "      <td>16000</td>\n",
       "      <td>34.007753</td>\n",
       "    </tr>\n",
       "    <tr>\n",
       "      <th>17</th>\n",
       "      <td>17000</td>\n",
       "      <td>36.033070</td>\n",
       "    </tr>\n",
       "    <tr>\n",
       "      <th>18</th>\n",
       "      <td>18000</td>\n",
       "      <td>38.058388</td>\n",
       "    </tr>\n",
       "    <tr>\n",
       "      <th>19</th>\n",
       "      <td>19000</td>\n",
       "      <td>40.083705</td>\n",
       "    </tr>\n",
       "  </tbody>\n",
       "</table>\n",
       "</div>"
      ],
      "text/plain": [
       "      POP  predicted deaths\n",
       "0       0          1.602670\n",
       "1    1000          3.627988\n",
       "2    2000          5.653305\n",
       "3    3000          7.678623\n",
       "4    4000          9.703941\n",
       "5    5000         11.729258\n",
       "6    6000         13.754576\n",
       "7    7000         15.779894\n",
       "8    8000         17.805211\n",
       "9    9000         19.830529\n",
       "10  10000         21.855847\n",
       "11  11000         23.881164\n",
       "12  12000         25.906482\n",
       "13  13000         27.931800\n",
       "14  14000         29.957117\n",
       "15  15000         31.982435\n",
       "16  16000         34.007753\n",
       "17  17000         36.033070\n",
       "18  18000         38.058388\n",
       "19  19000         40.083705"
      ]
     },
     "execution_count": 19,
     "metadata": {},
     "output_type": "execute_result"
    }
   ],
   "source": [
    "# Insert a new column called \"predicted deaths\" with the predictions\n",
    "predict_df[\"predicted deaths\"] = model.predict(predict_df)\n",
    "predict_df"
   ]
  },
  {
   "cell_type": "code",
   "execution_count": 20,
   "id": "ca0b47f5",
   "metadata": {},
   "outputs": [
    {
     "data": {
      "text/plain": [
       "<Axes: xlabel='POP', ylabel='DTH_CUM_CP'>"
      ]
     },
     "execution_count": 20,
     "metadata": {},
     "output_type": "execute_result"
    },
    {
     "data": {
      "image/png": "[encoded data removed]",
      "text/plain": [
       "<Figure size 640x480 with 1 Axes>"
      ]
     },
     "metadata": {},
     "output_type": "display_data"
    }
   ],
   "source": [
    "# Create a line plot to visualize relationship between \"POP\" and \"predicted deaths\"\n",
    "ax = predict_df.plot.line(x=\"POP\", y=\"predicted deaths\", color=\"r\")\n",
    "# Create a scatter plot to visualize relationship between \"POP\" and \"DTH_CUM_CP\"\n",
    "df.plot.scatter(x=\"POP\", y=\"DTH_CUM_CP\", ax=ax, color=\"k\", alpha=0.05)"
   ]
  },
  {
   "cell_type": "markdown",
   "id": "3bb2d3f8",
   "metadata": {},
   "source": [
    "### How can we get a formula for the relationship?\n",
    "\n",
    "- `y=mx+c`, where `y` is our predictions and `x` are the features used for the fit\n",
    "    - Slope of the line (`m`) given by `model.coef_[0]`\n",
    "    - Intercept of the line (`c`) given by `model.intercept_`"
   ]
  },
  {
   "cell_type": "markdown",
   "id": "a31d19b3",
   "metadata": {},
   "source": [
    "Model coefficients"
   ]
  },
  {
   "cell_type": "code",
   "execution_count": 21,
   "id": "c894c1b1",
   "metadata": {},
   "outputs": [
    {
     "data": {
      "text/plain": [
       "array([0.00202532])"
      ]
     },
     "execution_count": 21,
     "metadata": {},
     "output_type": "execute_result"
    }
   ],
   "source": [
    "model.coef_"
   ]
  },
  {
   "cell_type": "code",
   "execution_count": 22,
   "id": "4850a47e",
   "metadata": {},
   "outputs": [
    {
     "data": {
      "text/plain": [
       "np.float64(0.00202531765994764)"
      ]
     },
     "execution_count": 22,
     "metadata": {},
     "output_type": "execute_result"
    }
   ],
   "source": [
    "# Slope of the line\n",
    "model.coef_[0]"
   ]
  },
  {
   "cell_type": "code",
   "execution_count": 23,
   "id": "32690085",
   "metadata": {},
   "outputs": [
    {
     "data": {
      "text/plain": [
       "np.float64(1.6026699609658888)"
      ]
     },
     "execution_count": 23,
     "metadata": {},
     "output_type": "execute_result"
    }
   ],
   "source": [
    "# Intercept of the line\n",
    "model.intercept_"
   ]
  },
  {
   "cell_type": "code",
   "execution_count": 24,
   "id": "cfbcee12",
   "metadata": {},
   "outputs": [
    {
     "name": "stdout",
     "output_type": "stream",
     "text": [
      "deaths ~= 0.002 * population + 1.6027\n"
     ]
    }
   ],
   "source": [
    "print(f\"deaths ~= {round(model.coef_[0], 4)} * population + {round(model.intercept_, 4)}\")"
   ]
  },
  {
   "cell_type": "markdown",
   "id": "738ccba5",
   "metadata": {},
   "source": [
    "### How well does our model fit the data?\n",
    "- explained variance score\n",
    "- R^2 (\"r squared\")"
   ]
  },
  {
   "cell_type": "markdown",
   "id": "91e4af81",
   "metadata": {},
   "source": [
    "#### `sklearn.metrics.explained_variance_score(y_true, y_pred)`\n",
    "- requires `import sklearn`\n",
    "- calculates the explained variance score given:\n",
    "    - y_true: actual death values in our example\n",
    "    - y_pred: prediction of deaths in our example\n",
    "- documentation: https://scikit-learn.org/stable/modules/generated/sklearn.metrics.explained_variance_score.html"
   ]
  },
  {
   "cell_type": "code",
   "execution_count": 25,
   "id": "286e2569",
   "metadata": {},
   "outputs": [
    {
     "data": {
      "text/plain": [
       "(['POP'], 'DTH_CUM_CP')"
      ]
     },
     "execution_count": 25,
     "metadata": {},
     "output_type": "execute_result"
    }
   ],
   "source": [
    "xcols, ycol"
   ]
  },
  {
   "cell_type": "code",
   "execution_count": 26,
   "id": "bb36ca0f",
   "metadata": {},
   "outputs": [
    {
     "data": {
      "text/plain": [
       "array([10.66799181,  8.62647161, 12.86546147, ...,  9.7606495 ,\n",
       "       15.96419749,  8.59001589])"
      ]
     },
     "execution_count": 26,
     "metadata": {},
     "output_type": "execute_result"
    }
   ],
   "source": [
    "# Let's now make predictions for the known data\n",
    "predictions = model.predict(df[xcols])\n",
    "predictions"
   ]
  },
  {
   "cell_type": "code",
   "execution_count": 27,
   "id": "92dadb4c",
   "metadata": {},
   "outputs": [
    {
     "data": {
      "text/plain": [
       "0.19407871463171344"
      ]
     },
     "execution_count": 27,
     "metadata": {},
     "output_type": "execute_result"
    }
   ],
   "source": [
    "sklearn.metrics.explained_variance_score(df[ycol], predictions)"
   ]
  },
  {
   "cell_type": "markdown",
   "id": "ebd81950",
   "metadata": {},
   "source": [
    "#### Explained variance score\n",
    "\n",
    "- `explained_variance_score = (known_var - explained_variance) / known_var`\n",
    "    - where `known_var = y_true.var()` and `explained_variance = (y_true - y_pred).var()`"
   ]
  },
  {
   "cell_type": "markdown",
   "id": "36bc3bb5",
   "metadata": {},
   "source": [
    "What is the variation in known deaths?"
   ]
  },
  {
   "cell_type": "code",
   "execution_count": 28,
   "id": "55a3dfcd",
   "metadata": {},
   "outputs": [
    {
     "data": {
      "text/plain": [
       "np.float64(64.45856160704695)"
      ]
     },
     "execution_count": 28,
     "metadata": {},
     "output_type": "execute_result"
    }
   ],
   "source": [
    "# Compute variance of \"DTH_CUM_CP\" column\n",
    "known_var = df[ycol].var()\n",
    "known_var"
   ]
  },
  {
   "cell_type": "code",
   "execution_count": 29,
   "id": "c33a6fb1",
   "metadata": {},
   "outputs": [
    {
     "data": {
      "text/plain": [
       "np.float64(51.94852682334216)"
      ]
     },
     "execution_count": 29,
     "metadata": {},
     "output_type": "execute_result"
    }
   ],
   "source": [
    "# explained_variance\n",
    "explained_variance = (df[ycol] - predictions).var()   \n",
    "explained_variance"
   ]
  },
  {
   "cell_type": "code",
   "execution_count": 30,
   "id": "dfb076b1",
   "metadata": {},
   "outputs": [
    {
     "data": {
      "text/plain": [
       "np.float64(0.19407871463171342)"
      ]
     },
     "execution_count": 30,
     "metadata": {},
     "output_type": "execute_result"
    }
   ],
   "source": [
    "# explained_variance score\n",
    "explained_variance_score = (known_var - explained_variance) / known_var\n",
    "explained_variance_score"
   ]
  },
  {
   "cell_type": "code",
   "execution_count": 31,
   "id": "73a55a32",
   "metadata": {},
   "outputs": [
    {
     "data": {
      "text/plain": [
       "0.19407871463171344"
      ]
     },
     "execution_count": 31,
     "metadata": {},
     "output_type": "execute_result"
    }
   ],
   "source": [
    "# For comparison here is the explained variance score from sklearn\n",
    "sklearn.metrics.explained_variance_score(df[ycol], predictions)"
   ]
  },
  {
   "cell_type": "markdown",
   "id": "547452da",
   "metadata": {},
   "source": [
    "#### `sklearn.metrics.r2_score(y_true, y_pred)`\n",
    "\n",
    "- requires `import sklearn`\n",
    "- calculates the explained variance score given:\n",
    "    - y_true: actual death values in our example\n",
    "    - y_pred: prediction of deaths in our example\n",
    "- documentation: https://scikit-learn.org/stable/modules/generated/sklearn.metrics.r2_score.html "
   ]
  },
  {
   "cell_type": "code",
   "execution_count": 32,
   "id": "d16ba67b",
   "metadata": {},
   "outputs": [
    {
     "data": {
      "text/plain": [
       "0.19407871463171344"
      ]
     },
     "execution_count": 32,
     "metadata": {},
     "output_type": "execute_result"
    }
   ],
   "source": [
    "sklearn.metrics.r2_score(df[ycol], predictions)"
   ]
  },
  {
   "cell_type": "markdown",
   "id": "6e60fed7",
   "metadata": {},
   "source": [
    "#### R^2 score (aka coefficient of determination) approximation\n",
    "\n",
    "- `r2_score = (known_var - r2_val) / known_var`\n",
    "    - where `known_var = y_true.var()` and `r2_val = ((y_true - y_pred) ** 2).mean()`"
   ]
  },
  {
   "cell_type": "code",
   "execution_count": 33,
   "id": "d34ea427",
   "metadata": {},
   "outputs": [
    {
     "data": {
      "text/plain": [
       "np.float64(51.911207479359874)"
      ]
     },
     "execution_count": 33,
     "metadata": {},
     "output_type": "execute_result"
    }
   ],
   "source": [
    "# r2_val\n",
    "r2_val = ((df[ycol] - predictions) ** 2).mean()\n",
    "r2_val"
   ]
  },
  {
   "cell_type": "code",
   "execution_count": 34,
   "id": "b1c3574b",
   "metadata": {},
   "outputs": [
    {
     "data": {
      "text/plain": [
       "np.float64(0.1946576810723516)"
      ]
     },
     "execution_count": 34,
     "metadata": {},
     "output_type": "execute_result"
    }
   ],
   "source": [
    "r2_score = (known_var - r2_val) / known_var\n",
    "r2_score # there might be minor rounding off differences"
   ]
  },
  {
   "cell_type": "markdown",
   "id": "adc33af9",
   "metadata": {},
   "source": [
    "#### `model.score(X, y)`\n",
    "- invokes `predict` method for calculating predictions (`y`) based on features (`X`) and compares the predictions with true values of y"
   ]
  },
  {
   "cell_type": "code",
   "execution_count": 35,
   "id": "b3bde089",
   "metadata": {},
   "outputs": [
    {
     "data": {
      "text/plain": [
       "0.19407871463171344"
      ]
     },
     "execution_count": 35,
     "metadata": {},
     "output_type": "execute_result"
    }
   ],
   "source": [
    "model.score(df[xcols], df[ycol])  "
   ]
  },
  {
   "cell_type": "markdown",
   "id": "1768f9a9",
   "metadata": {},
   "source": [
    "#### Did our model learn, or just memorize (that is, \"overfit\")?\n",
    "\n",
    "- Example: https://www.mathworks.com/discovery/overfitting.html\n",
    "- Split data into train and test"
   ]
  },
  {
   "cell_type": "code",
   "execution_count": 36,
   "id": "87a77fb4",
   "metadata": {},
   "outputs": [
    {
     "data": {
      "text/plain": [
       "696"
      ]
     },
     "execution_count": 36,
     "metadata": {},
     "output_type": "execute_result"
    }
   ],
   "source": [
    "# Split the data into two equal parts\n",
    "len(df) // 2"
   ]
  },
  {
   "cell_type": "code",
   "execution_count": 37,
   "id": "bdd7cad0",
   "metadata": {},
   "outputs": [
    {
     "data": {
      "text/plain": [
       "(696, 696)"
      ]
     },
     "execution_count": 37,
     "metadata": {},
     "output_type": "execute_result"
    }
   ],
   "source": [
    "# Manual way of splitting train and test data\n",
    "train, test = df.iloc[:len(df)//2], df.iloc[len(df)//2:]\n",
    "len(train), len(test)"
   ]
  },
  {
   "cell_type": "markdown",
   "id": "2f45dd74",
   "metadata": {},
   "source": [
    "Problem with manual splitting is, we need to make sure that the data is not sorted in some way."
   ]
  },
  {
   "cell_type": "markdown",
   "id": "3a781391",
   "metadata": {},
   "source": [
    "#### `train_test_split(<dataframe>, test_size=<val>)`\n",
    "\n",
    "- requires `from sklearn.model_selection import train_test_split`\n",
    "- shuffles the data and then splits based on 75%-25% split between train and test\n",
    "    - produces new train and test data every single time\n",
    "- `test_size` parameter can take two kind of values:\n",
    "    - actual number of rows that we want in test data\n",
    "    - fractional number representing the ratio of train versus test data\n",
    "    - default value is `0.25`\n",
    "- documentation: https://scikit-learn.org/stable/modules/generated/sklearn.model_selection.train_test_split.html"
   ]
  },
  {
   "cell_type": "code",
   "execution_count": 38,
   "id": "1d3a86c9",
   "metadata": {},
   "outputs": [
    {
     "data": {
      "text/plain": [
       "(1044, 348)"
      ]
     },
     "execution_count": 38,
     "metadata": {},
     "output_type": "execute_result"
    }
   ],
   "source": [
    "train, test = train_test_split(df)\n",
    "len(train), len(test)"
   ]
  },
  {
   "cell_type": "code",
   "execution_count": 39,
   "id": "49f7dfe8",
   "metadata": {},
   "outputs": [
    {
     "data": {
      "text/plain": [
       "(1272, 120)"
      ]
     },
     "execution_count": 39,
     "metadata": {},
     "output_type": "execute_result"
    }
   ],
   "source": [
    "# Test size using row count\n",
    "train, test = train_test_split(df, test_size=120)\n",
    "len(train), len(test)"
   ]
  },
  {
   "cell_type": "code",
   "execution_count": 40,
   "id": "1a29cf9d",
   "metadata": {},
   "outputs": [
    {
     "data": {
      "text/plain": [
       "(696, 696)"
      ]
     },
     "execution_count": 40,
     "metadata": {},
     "output_type": "execute_result"
    }
   ],
   "source": [
    "# Test size using fraction\n",
    "train, test = train_test_split(df, test_size=0.5)\n",
    "len(train), len(test)"
   ]
  },
  {
   "cell_type": "code",
   "execution_count": 41,
   "id": "7934e9ee",
   "metadata": {},
   "outputs": [
    {
     "data": {
      "text/html": [
       "<div>\n",
       "<style scoped>\n",
       "    .dataframe tbody tr th:only-of-type {\n",
       "        vertical-align: middle;\n",
       "    }\n",
       "\n",
       "    .dataframe tbody tr th {\n",
       "        vertical-align: top;\n",
       "    }\n",
       "\n",
       "    .dataframe thead th {\n",
       "        text-align: right;\n",
       "    }\n",
       "</style>\n",
       "<table border=\"1\" class=\"dataframe\">\n",
       "  <thead>\n",
       "    <tr style=\"text-align: right;\">\n",
       "      <th></th>\n",
       "      <th>RptDt</th>\n",
       "      <th>GEOID</th>\n",
       "      <th>GEOName</th>\n",
       "      <th>POS_CUM_CP</th>\n",
       "      <th>POS_NEW_CP</th>\n",
       "      <th>POS_7DAYAVG_CP</th>\n",
       "      <th>DTH_CUM_CP</th>\n",
       "      <th>DTH_NEW_CP</th>\n",
       "      <th>DTH_7DAYAVG_CP</th>\n",
       "      <th>DTH_OVER_30DAYS_CP</th>\n",
       "      <th>...</th>\n",
       "      <th>HOSP_NO_CP</th>\n",
       "      <th>HOSP_UNK_CP</th>\n",
       "      <th>Date</th>\n",
       "      <th>POP</th>\n",
       "      <th>POP_MOE</th>\n",
       "      <th>OBJECTID</th>\n",
       "      <th>GEO</th>\n",
       "      <th>ShapeSTArea</th>\n",
       "      <th>ShapeSTLength</th>\n",
       "      <th>geometry</th>\n",
       "    </tr>\n",
       "  </thead>\n",
       "  <tbody>\n",
       "    <tr>\n",
       "      <th>969</th>\n",
       "      <td>2022-04-07 19:00:00+00:00</td>\n",
       "      <td>55133202001</td>\n",
       "      <td>None</td>\n",
       "      <td>1385</td>\n",
       "      <td>2</td>\n",
       "      <td>0.43</td>\n",
       "      <td>11</td>\n",
       "      <td>0</td>\n",
       "      <td>0.0</td>\n",
       "      <td>0</td>\n",
       "      <td>...</td>\n",
       "      <td>544</td>\n",
       "      <td>776</td>\n",
       "      <td>2022-04-06 06:00:00+00:00</td>\n",
       "      <td>5304</td>\n",
       "      <td>170.0</td>\n",
       "      <td>2722</td>\n",
       "      <td>Census tract</td>\n",
       "      <td>1.020793e+08</td>\n",
       "      <td>52620.533152</td>\n",
       "      <td>POLYGON ((-88.19889 42.93016, -88.19907 42.930...</td>\n",
       "    </tr>\n",
       "    <tr>\n",
       "      <th>745</th>\n",
       "      <td>2022-04-07 19:00:00+00:00</td>\n",
       "      <td>55025001502</td>\n",
       "      <td>None</td>\n",
       "      <td>1802</td>\n",
       "      <td>0</td>\n",
       "      <td>0.57</td>\n",
       "      <td>4</td>\n",
       "      <td>0</td>\n",
       "      <td>0.0</td>\n",
       "      <td>0</td>\n",
       "      <td>...</td>\n",
       "      <td>788</td>\n",
       "      <td>971</td>\n",
       "      <td>2022-04-06 06:00:00+00:00</td>\n",
       "      <td>4649</td>\n",
       "      <td>696.0</td>\n",
       "      <td>2497</td>\n",
       "      <td>Census tract</td>\n",
       "      <td>2.022733e+07</td>\n",
       "      <td>28638.142402</td>\n",
       "      <td>POLYGON ((-89.33611 43.04708, -89.33616 43.047...</td>\n",
       "    </tr>\n",
       "    <tr>\n",
       "      <th>710</th>\n",
       "      <td>2022-04-07 19:00:00+00:00</td>\n",
       "      <td>55035000900</td>\n",
       "      <td>None</td>\n",
       "      <td>1380</td>\n",
       "      <td>0</td>\n",
       "      <td>0.29</td>\n",
       "      <td>7</td>\n",
       "      <td>0</td>\n",
       "      <td>0.0</td>\n",
       "      <td>0</td>\n",
       "      <td>...</td>\n",
       "      <td>1194</td>\n",
       "      <td>150</td>\n",
       "      <td>2022-04-06 06:00:00+00:00</td>\n",
       "      <td>5124</td>\n",
       "      <td>339.0</td>\n",
       "      <td>2455</td>\n",
       "      <td>Census tract</td>\n",
       "      <td>1.454884e+07</td>\n",
       "      <td>15866.538287</td>\n",
       "      <td>POLYGON ((-91.52691 44.79723, -91.52705 44.797...</td>\n",
       "    </tr>\n",
       "    <tr>\n",
       "      <th>980</th>\n",
       "      <td>2022-04-07 19:00:00+00:00</td>\n",
       "      <td>55133200803</td>\n",
       "      <td>None</td>\n",
       "      <td>1223</td>\n",
       "      <td>1</td>\n",
       "      <td>0.71</td>\n",
       "      <td>11</td>\n",
       "      <td>0</td>\n",
       "      <td>0.0</td>\n",
       "      <td>0</td>\n",
       "      <td>...</td>\n",
       "      <td>551</td>\n",
       "      <td>621</td>\n",
       "      <td>2022-04-06 06:00:00+00:00</td>\n",
       "      <td>4389</td>\n",
       "      <td>183.0</td>\n",
       "      <td>2733</td>\n",
       "      <td>Census tract</td>\n",
       "      <td>1.714392e+07</td>\n",
       "      <td>20855.638758</td>\n",
       "      <td>POLYGON ((-88.13552 43.10463, -88.13574 43.104...</td>\n",
       "    </tr>\n",
       "    <tr>\n",
       "      <th>1108</th>\n",
       "      <td>2022-04-07 19:00:00+00:00</td>\n",
       "      <td>55087011900</td>\n",
       "      <td>None</td>\n",
       "      <td>2326</td>\n",
       "      <td>2</td>\n",
       "      <td>0.43</td>\n",
       "      <td>9</td>\n",
       "      <td>0</td>\n",
       "      <td>0.0</td>\n",
       "      <td>0</td>\n",
       "      <td>...</td>\n",
       "      <td>1105</td>\n",
       "      <td>1168</td>\n",
       "      <td>2022-04-06 06:00:00+00:00</td>\n",
       "      <td>8513</td>\n",
       "      <td>241.0</td>\n",
       "      <td>2862</td>\n",
       "      <td>Census tract</td>\n",
       "      <td>1.683152e+07</td>\n",
       "      <td>22550.426126</td>\n",
       "      <td>POLYGON ((-88.28794 44.29778, -88.28930 44.297...</td>\n",
       "    </tr>\n",
       "  </tbody>\n",
       "</table>\n",
       "<p>5 rows × 90 columns</p>\n",
       "</div>"
      ],
      "text/plain": [
       "                         RptDt        GEOID GEOName  POS_CUM_CP  POS_NEW_CP  \\\n",
       "969  2022-04-07 19:00:00+00:00  55133202001    None        1385           2   \n",
       "745  2022-04-07 19:00:00+00:00  55025001502    None        1802           0   \n",
       "710  2022-04-07 19:00:00+00:00  55035000900    None        1380           0   \n",
       "980  2022-04-07 19:00:00+00:00  55133200803    None        1223           1   \n",
       "1108 2022-04-07 19:00:00+00:00  55087011900    None        2326           2   \n",
       "\n",
       "      POS_7DAYAVG_CP  DTH_CUM_CP  DTH_NEW_CP  DTH_7DAYAVG_CP  \\\n",
       "969             0.43          11           0             0.0   \n",
       "745             0.57           4           0             0.0   \n",
       "710             0.29           7           0             0.0   \n",
       "980             0.71          11           0             0.0   \n",
       "1108            0.43           9           0             0.0   \n",
       "\n",
       "      DTH_OVER_30DAYS_CP  ...  HOSP_NO_CP HOSP_UNK_CP  \\\n",
       "969                    0  ...         544         776   \n",
       "745                    0  ...         788         971   \n",
       "710                    0  ...        1194         150   \n",
       "980                    0  ...         551         621   \n",
       "1108                   0  ...        1105        1168   \n",
       "\n",
       "                          Date   POP POP_MOE  OBJECTID           GEO  \\\n",
       "969  2022-04-06 06:00:00+00:00  5304   170.0      2722  Census tract   \n",
       "745  2022-04-06 06:00:00+00:00  4649   696.0      2497  Census tract   \n",
       "710  2022-04-06 06:00:00+00:00  5124   339.0      2455  Census tract   \n",
       "980  2022-04-06 06:00:00+00:00  4389   183.0      2733  Census tract   \n",
       "1108 2022-04-06 06:00:00+00:00  8513   241.0      2862  Census tract   \n",
       "\n",
       "       ShapeSTArea  ShapeSTLength  \\\n",
       "969   1.020793e+08   52620.533152   \n",
       "745   2.022733e+07   28638.142402   \n",
       "710   1.454884e+07   15866.538287   \n",
       "980   1.714392e+07   20855.638758   \n",
       "1108  1.683152e+07   22550.426126   \n",
       "\n",
       "                                               geometry  \n",
       "969   POLYGON ((-88.19889 42.93016, -88.19907 42.930...  \n",
       "745   POLYGON ((-89.33611 43.04708, -89.33616 43.047...  \n",
       "710   POLYGON ((-91.52691 44.79723, -91.52705 44.797...  \n",
       "980   POLYGON ((-88.13552 43.10463, -88.13574 43.104...  \n",
       "1108  POLYGON ((-88.28794 44.29778, -88.28930 44.297...  \n",
       "\n",
       "[5 rows x 90 columns]"
      ]
     },
     "execution_count": 41,
     "metadata": {},
     "output_type": "execute_result"
    }
   ],
   "source": [
    "# Running this cell twice will give you two different train datasets\n",
    "train, test = train_test_split(df)\n",
    "train.head()"
   ]
  },
  {
   "cell_type": "code",
   "execution_count": 42,
   "id": "0fe05a2e",
   "metadata": {},
   "outputs": [
    {
     "data": {
      "text/plain": [
       "0.1890259716369358"
      ]
     },
     "execution_count": 42,
     "metadata": {},
     "output_type": "execute_result"
    }
   ],
   "source": [
    "train, test = train_test_split(df)\n",
    "\n",
    "# Let's use the train and the test data\n",
    "model = LinearRegression()\n",
    "# Fit using training data\n",
    "model.fit(train[xcols], train[ycol])\n",
    "# Predict using test data\n",
    "y = model.predict(test[xcols])\n",
    "# We can use score directly as it automatically invokes predict\n",
    "model.score(test[xcols], test[ycol])"
   ]
  },
  {
   "cell_type": "markdown",
   "id": "e0f0e21b",
   "metadata": {},
   "source": [
    "Running the above cell again will give you entirely different model and score."
   ]
  },
  {
   "cell_type": "markdown",
   "id": "003b1c50",
   "metadata": {},
   "source": [
    "#### How can we minimize noise due to random train/test splits?\n",
    "\n",
    "### Cross validation: `cross_val_score(estimator, X, y)`\n",
    "\n",
    "- requires `from sklearn.model_selection import cross_val_score`\n",
    "-  do many different train/test splits of the values, fitting and scoring the model across each combination\n",
    "- cross validation documentation: https://scikit-learn.org/stable/modules/cross_validation.html\n",
    "- function documentation: https://scikit-learn.org/stable/modules/generated/sklearn.model_selection.cross_val_score.html"
   ]
  },
  {
   "cell_type": "code",
   "execution_count": 43,
   "id": "bfa17fce",
   "metadata": {},
   "outputs": [
    {
     "data": {
      "text/plain": [
       "array([0.07012292, 0.21429514, 0.20410546, 0.2248992 , 0.15740372])"
      ]
     },
     "execution_count": 43,
     "metadata": {},
     "output_type": "execute_result"
    }
   ],
   "source": [
    "train, test = train_test_split(df)\n",
    "\n",
    "model = LinearRegression()\n",
    "scores = cross_val_score(model, train[xcols], train[ycol])\n",
    "scores"
   ]
  },
  {
   "cell_type": "code",
   "execution_count": 44,
   "id": "284f776f",
   "metadata": {},
   "outputs": [
    {
     "data": {
      "text/plain": [
       "np.float64(0.174165287507886)"
      ]
     },
     "execution_count": 44,
     "metadata": {},
     "output_type": "execute_result"
    }
   ],
   "source": [
    "# Compute mean of the scores\n",
    "scores.mean()"
   ]
  },
  {
   "cell_type": "markdown",
   "id": "53c9d4d4",
   "metadata": {},
   "source": [
    "#### How can we compare models?\n",
    "- model 1: POP => DEATHS\n",
    "- model 2: CASES (POS_CUM_CP) => DEATHS"
   ]
  },
  {
   "cell_type": "code",
   "execution_count": 45,
   "id": "ffd9791b",
   "metadata": {},
   "outputs": [],
   "source": [
    "model1 = LinearRegression()\n",
    "model2 = LinearRegression()\n",
    "model1_scores = cross_val_score(model1, train[[\"POP\"]], train[ycol])\n",
    "model2_scores = cross_val_score(model2, train[[\"POS_CUM_CP\"]], train[ycol])"
   ]
  },
  {
   "cell_type": "code",
   "execution_count": 46,
   "id": "60f0bf73",
   "metadata": {},
   "outputs": [
    {
     "data": {
      "text/plain": [
       "np.float64(0.174165287507886)"
      ]
     },
     "execution_count": 46,
     "metadata": {},
     "output_type": "execute_result"
    }
   ],
   "source": [
    "model1_scores.mean()"
   ]
  },
  {
   "cell_type": "code",
   "execution_count": 47,
   "id": "e3070bf6",
   "metadata": {},
   "outputs": [
    {
     "data": {
      "text/plain": [
       "np.float64(0.21987385132566423)"
      ]
     },
     "execution_count": 47,
     "metadata": {},
     "output_type": "execute_result"
    }
   ],
   "source": [
    "model2_scores.mean()"
   ]
  },
  {
   "cell_type": "markdown",
   "id": "dced0919",
   "metadata": {},
   "source": [
    "Which of these two models do you think will perform better? Probably model2."
   ]
  },
  {
   "cell_type": "code",
   "execution_count": 48,
   "id": "dfedd8d4",
   "metadata": {},
   "outputs": [
    {
     "data": {
      "text/plain": [
       "<Axes: >"
      ]
     },
     "execution_count": 48,
     "metadata": {},
     "output_type": "execute_result"
    },
    {
     "data": {
      "image/png": "[encoded data removed]",
      "text/plain": [
       "<Figure size 300x300 with 1 Axes>"
      ]
     },
     "metadata": {},
     "output_type": "display_data"
    }
   ],
   "source": [
    "means = pd.Series({\"model1\": model1_scores.mean(),\n",
    "                   \"model2\": model2_scores.mean()})\n",
    "means.plot.bar(figsize=(3, 3))"
   ]
  },
  {
   "cell_type": "markdown",
   "id": "312aa001",
   "metadata": {},
   "source": [
    "How do we know the above difference is not noise? Let's calculate standard deviation and display error bars on the bar plot."
   ]
  },
  {
   "cell_type": "code",
   "execution_count": 49,
   "id": "5123c3a9",
   "metadata": {},
   "outputs": [
    {
     "data": {
      "text/plain": [
       "np.float64(0.05689730045595458)"
      ]
     },
     "execution_count": 49,
     "metadata": {},
     "output_type": "execute_result"
    }
   ],
   "source": [
    "model1_scores.std()"
   ]
  },
  {
   "cell_type": "code",
   "execution_count": 50,
   "id": "230b9dc9",
   "metadata": {},
   "outputs": [
    {
     "data": {
      "text/plain": [
       "np.float64(0.05370281608551512)"
      ]
     },
     "execution_count": 50,
     "metadata": {},
     "output_type": "execute_result"
    }
   ],
   "source": [
    "model2_scores.std()"
   ]
  },
  {
   "cell_type": "code",
   "execution_count": 51,
   "id": "484c7af9",
   "metadata": {},
   "outputs": [
    {
     "data": {
      "text/plain": [
       "model1    0.056897\n",
       "model2    0.053703\n",
       "dtype: float64"
      ]
     },
     "execution_count": 51,
     "metadata": {},
     "output_type": "execute_result"
    }
   ],
   "source": [
    "err = pd.Series({\"model1\": model1_scores.std(),\n",
    "                 \"model2\": model2_scores.std()})\n",
    "err"
   ]
  },
  {
   "cell_type": "code",
   "execution_count": 52,
   "id": "233cd91d",
   "metadata": {},
   "outputs": [
    {
     "data": {
      "text/plain": [
       "<Axes: >"
      ]
     },
     "execution_count": 52,
     "metadata": {},
     "output_type": "execute_result"
    },
    {
     "data": {
      "image/png": "[encoded data removed]",
      "text/plain": [
       "<Figure size 300x300 with 1 Axes>"
      ]
     },
     "metadata": {},
     "output_type": "display_data"
    }
   ],
   "source": [
    "# Plot error bar by passing argument to paramenter yerr\n",
    "means.plot.bar(figsize=(3, 3), yerr=err)"
   ]
  },
  {
   "cell_type": "markdown",
   "id": "c3b68db6",
   "metadata": {},
   "source": [
    "Pick a winner and run it one more time against test data."
   ]
  },
  {
   "cell_type": "markdown",
   "id": "09f5bce9",
   "metadata": {},
   "source": [
    "#### How can we use multiple x variables (multiple regression)?"
   ]
  },
  {
   "cell_type": "code",
   "execution_count": 53,
   "id": "2538534d",
   "metadata": {},
   "outputs": [
    {
     "data": {
      "text/plain": [
       "0.660007480861994"
      ]
     },
     "execution_count": 53,
     "metadata": {},
     "output_type": "execute_result"
    }
   ],
   "source": [
    "model = LinearRegression()\n",
    "xcols = ['POS_0_9_CP', 'POS_10_19_CP', 'POS_20_29_CP', 'POS_30_39_CP',\n",
    "       'POS_40_49_CP', 'POS_50_59_CP', 'POS_60_69_CP', 'POS_70_79_CP',\n",
    "       'POS_80_89_CP', 'POS_90_CP']\n",
    "ycol = \"DTH_CUM_CP\"\n",
    "\n",
    "model.fit(train[xcols], train[ycol])\n",
    "model.score(test[xcols], test[ycol]) "
   ]
  },
  {
   "cell_type": "markdown",
   "id": "92e4c272",
   "metadata": {},
   "source": [
    "#### How can we interpret what features the model is relying on?"
   ]
  },
  {
   "cell_type": "code",
   "execution_count": 54,
   "id": "68e3d21a",
   "metadata": {},
   "outputs": [
    {
     "data": {
      "text/plain": [
       "array([-0.027375  , -0.00264412,  0.00090363,  0.01304184,  0.01709085,\n",
       "       -0.01083205,  0.00913038,  0.0162557 ,  0.17532156,  0.31658891])"
      ]
     },
     "execution_count": 54,
     "metadata": {},
     "output_type": "execute_result"
    }
   ],
   "source": [
    "model.coef_"
   ]
  },
  {
   "cell_type": "code",
   "execution_count": 55,
   "id": "44bd5b07",
   "metadata": {},
   "outputs": [
    {
     "data": {
      "text/plain": [
       "<Axes: >"
      ]
     },
     "execution_count": 55,
     "metadata": {},
     "output_type": "execute_result"
    },
    {
     "data": {
      "image/png": "[encoded data removed]",
      "text/plain": [
       "<Figure size 300x200 with 1 Axes>"
      ]
     },
     "metadata": {},
     "output_type": "display_data"
    }
   ],
   "source": [
    "pd.Series(model.coef_, index=xcols).plot.bar(figsize=(3, 2))"
   ]
  },
  {
   "cell_type": "code",
   "execution_count": null,
   "id": "fae647cb-5d8a-4f96-8998-a8167d8f5b44",
   "metadata": {},
   "outputs": [],
   "source": []
  }
 ],
 "metadata": {
  "kernelspec": {
   "display_name": "Python 3 (ipykernel)",
   "language": "python",
   "name": "python3"
  },
  "language_info": {
   "codemirror_mode": {
    "name": "ipython",
    "version": 3
   },
   "file_extension": ".py",
   "mimetype": "text/x-python",
   "name": "python",
   "nbconvert_exporter": "python",
   "pygments_lexer": "ipython3",
   "version": "3.10.12"
  }
 },
 "nbformat": 4,
 "nbformat_minor": 5
}
