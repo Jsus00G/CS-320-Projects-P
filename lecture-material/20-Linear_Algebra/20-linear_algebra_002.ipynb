{
 "cells": [
  {
   "cell_type": "markdown",
   "id": "1986bd55",
   "metadata": {
    "tags": []
   },
   "source": [
    "# Linear Algebra\n",
    "\n",
    "- Installation requirements: `pip3 install rasterio Pillow`"
   ]
  },
  {
   "cell_type": "code",
   "execution_count": null,
   "id": "e6f50cc3",
   "metadata": {},
   "outputs": [],
   "source": [
    "import os\n",
    "import pandas as pd\n",
    "import matplotlib.pyplot as plt\n",
    "import numpy as np\n",
    "\n",
    "# new import statements\n",
    "from sklearn.linear_model import LinearRegression"
   ]
  },
  {
   "cell_type": "markdown",
   "id": "7736923a",
   "metadata": {},
   "source": [
    "### Where do numpy arrays show up in ML?\n",
    "\n",
    "- A `DataFrame` is just a matrix wihout column names or row indices"
   ]
  },
  {
   "cell_type": "code",
   "execution_count": null,
   "id": "327c8314",
   "metadata": {},
   "outputs": [],
   "source": [
    "df = pd.DataFrame([[0, 2, 1], [2, 3, 4], [8, 5, 6]], columns=[\"x1\", \"x2\", \"y\"])\n",
    "df"
   ]
  },
  {
   "cell_type": "markdown",
   "id": "c6af6a3e",
   "metadata": {},
   "source": [
    "`df.values` gives us a `numpy.ndarray` of all the values.\n",
    "`nd` stands for n-dimensional:\n",
    "- 2-dimensional for matrix\n",
    "- 1-dimensional for vector"
   ]
  },
  {
   "cell_type": "code",
   "execution_count": null,
   "id": "4b416b92",
   "metadata": {},
   "outputs": [],
   "source": [
    "print(type(df.values))\n",
    "df.values"
   ]
  },
  {
   "cell_type": "code",
   "execution_count": null,
   "id": "156f0722",
   "metadata": {},
   "outputs": [],
   "source": [
    "model = LinearRegression()\n",
    "model.fit(df[[\"x1\", \"x2\"]], df[\"y\"])\n",
    "model.coef_"
   ]
  },
  {
   "cell_type": "code",
   "execution_count": null,
   "id": "069a423e",
   "metadata": {},
   "outputs": [],
   "source": [
    "model.predict(df[[\"x1\", \"x2\"]])"
   ]
  },
  {
   "cell_type": "markdown",
   "id": "30e8f41d",
   "metadata": {},
   "source": [
    "#### How does `predict` actually work?\n",
    "\n",
    "- Matrix multiplication with coefficients (`@`) and add intercept"
   ]
  },
  {
   "cell_type": "code",
   "execution_count": null,
   "id": "5809ea1b",
   "metadata": {},
   "outputs": [],
   "source": [
    "df[[\"x1\", \"x2\"]].values @ model.coef_ + model.intercept_"
   ]
  },
  {
   "cell_type": "markdown",
   "id": "dcd299a3",
   "metadata": {},
   "source": [
    "### How to create numpy arrays from scratch?\n",
    "\n",
    "- requires `import numpy as np`\n",
    "    - `np.array(<object>)`: creates numpy array from object instance; documentation: https://numpy.org/doc/stable/reference/generated/numpy.array.html\n",
    "    - `np.ones(<shape>)`: creates an array of ones; documentation: https://numpy.org/doc/stable/reference/generated/numpy.ones.html\n",
    "    - `np.zeros(<shape>)`: creates an array of zeros; documentation: https://numpy.org/doc/stable/reference/generated/numpy.zeros.html"
   ]
  },
  {
   "cell_type": "code",
   "execution_count": null,
   "id": "cae8622e",
   "metadata": {},
   "outputs": [],
   "source": [
    "# Creating numpy array using np.array\n",
    "[7, 8, 9]"
   ]
  },
  {
   "cell_type": "code",
   "execution_count": null,
   "id": "a3a7c724",
   "metadata": {},
   "outputs": [],
   "source": [
    "# Creating numpy array of 8 1's\n"
   ]
  },
  {
   "cell_type": "code",
   "execution_count": null,
   "id": "64d5a747",
   "metadata": {},
   "outputs": [],
   "source": [
    "# Creating numpy array of 8 0's\n"
   ]
  },
  {
   "cell_type": "markdown",
   "id": "77dba590",
   "metadata": {},
   "source": [
    "#### Review: `range()`"
   ]
  },
  {
   "cell_type": "code",
   "execution_count": null,
   "id": "c9d01064",
   "metadata": {},
   "outputs": [],
   "source": [
    "# 0 to exclusive end\n",
    "# range(END)\n",
    "list(range(10))"
   ]
  },
  {
   "cell_type": "code",
   "execution_count": null,
   "id": "625055f6",
   "metadata": {},
   "outputs": [],
   "source": [
    "# inclusive start to exclusive end\n",
    "# range(START, END)\n",
    "list(range(-4, 10))"
   ]
  },
  {
   "cell_type": "code",
   "execution_count": null,
   "id": "138db7bd",
   "metadata": {},
   "outputs": [],
   "source": [
    "# inclusive start to exclusive end with a step between values\n",
    "# default STEP is 1\n",
    "# range(START, END, STEP)\n",
    "list(range(-4, 10, 2))"
   ]
  },
  {
   "cell_type": "code",
   "execution_count": null,
   "id": "2ad2439f",
   "metadata": {},
   "outputs": [],
   "source": [
    "# range cannot have floats for the STEP\n",
    "list(range(-4, 10, 0.5))"
   ]
  },
  {
   "cell_type": "markdown",
   "id": "82d9884b",
   "metadata": {},
   "source": [
    "#### Back to `numpy`\n",
    "- `np.arange([start, ]stop, [step, ])`: gives us an array based on range; documentation: https://numpy.org/doc/stable/reference/generated/numpy.arange.html"
   ]
  },
  {
   "cell_type": "code",
   "execution_count": null,
   "id": "c7546ba3",
   "metadata": {},
   "outputs": [],
   "source": [
    "# array range\n",
    "np.arange(-4, 10, 0.5)   "
   ]
  },
  {
   "cell_type": "markdown",
   "id": "3b2907d7",
   "metadata": {},
   "source": [
    "#### Review: Slicing\n",
    "\n",
    "- `seq_object[<START>:<exclusive_END>:<STEP>]`\n",
    "    - `<START>` is optional; default is index 0\n",
    "    - `<END>` is optional; default is `len` of the sequence\n",
    "- slicing creates a brand new object instance"
   ]
  },
  {
   "cell_type": "code",
   "execution_count": null,
   "id": "dc6c1b73",
   "metadata": {},
   "outputs": [],
   "source": [
    "# REVIEW: Python slicing of lists\n",
    "a = [7, 8, 9, 10]\n",
    "# slice out 8 and 10\n",
    "b = a[1::2] \n",
    "b"
   ]
  },
  {
   "cell_type": "code",
   "execution_count": null,
   "id": "0fc53657",
   "metadata": {},
   "outputs": [],
   "source": [
    "b[1] = 100\n",
    "b"
   ]
  },
  {
   "cell_type": "code",
   "execution_count": null,
   "id": "1fb36b9f",
   "metadata": {},
   "outputs": [],
   "source": [
    "# original object instance doesn't change\n",
    "a"
   ]
  },
  {
   "cell_type": "markdown",
   "id": "a79b7bb6",
   "metadata": {},
   "source": [
    "Slicing is slow because of creating a new object instance."
   ]
  },
  {
   "cell_type": "markdown",
   "id": "ce7a536a",
   "metadata": {},
   "source": [
    "#### How to slice `numpy` arrays? \n",
    "- Unlike regular slicing `numpy` slicing is very efficient - doesn't do a copy"
   ]
  },
  {
   "cell_type": "code",
   "execution_count": null,
   "id": "290899b7",
   "metadata": {},
   "outputs": [],
   "source": [
    "a = np.array([7, 8, 9, 10])\n",
    "# slice out 8 and 10\n",
    "b = a[1::2]  \n",
    "b"
   ]
  },
  {
   "cell_type": "code",
   "execution_count": null,
   "id": "34d9d044",
   "metadata": {},
   "outputs": [],
   "source": [
    "b[1] = 100\n",
    "a"
   ]
  },
  {
   "cell_type": "markdown",
   "id": "27341ca0",
   "metadata": {},
   "source": [
    "How can you ensure that changes to a slice don't affect original `numpy.array`? Use `copy` method."
   ]
  },
  {
   "cell_type": "code",
   "execution_count": null,
   "id": "fe625eae",
   "metadata": {},
   "outputs": [],
   "source": [
    "a = np.array([7, 8, 9, 10])\n",
    "b = a.copy() # copy everything instead of sharing\n",
    "b = a[1::2] \n",
    "b[1] = 100\n",
    "b, a"
   ]
  },
  {
   "cell_type": "markdown",
   "id": "b5b407e8",
   "metadata": {},
   "source": [
    "#### Creating Multi-Dimensional Arrays\n",
    "\n",
    "- using nested data structures like list of lists\n",
    "- `shape` gives us the dimension of the `numpy.array`\n",
    "- `len()` gives the first dimension, that is `shape[0]`"
   ]
  },
  {
   "cell_type": "code",
   "execution_count": null,
   "id": "c44b5951",
   "metadata": {},
   "outputs": [],
   "source": [
    "a = np.array([1, 2, 3])\n",
    "a, len(a)"
   ]
  },
  {
   "cell_type": "markdown",
   "id": "99456855",
   "metadata": {},
   "source": [
    "How many numbers are there in the below `tuple`?"
   ]
  },
  {
   "cell_type": "code",
   "execution_count": null,
   "id": "8b9fe7e2",
   "metadata": {},
   "outputs": [],
   "source": [
    "# shape of numpy array\n"
   ]
  },
  {
   "cell_type": "markdown",
   "id": "40b1d392",
   "metadata": {},
   "source": [
    "One number in this `tuple`, and it is 3."
   ]
  },
  {
   "cell_type": "code",
   "execution_count": null,
   "id": "96716ca6",
   "metadata": {},
   "outputs": [],
   "source": [
    "# 2-D array using list of lists\n",
    "b = np.array([[1, 2, 3], [4, 5, 6]])\n",
    "b"
   ]
  },
  {
   "cell_type": "code",
   "execution_count": null,
   "id": "3053945b",
   "metadata": {},
   "outputs": [],
   "source": [
    "b.shape"
   ]
  },
  {
   "cell_type": "markdown",
   "id": "7e08dd1a",
   "metadata": {},
   "source": [
    "2 dimensional (because two numbers are there in this `tuple`). sizes 2 and 3 along those dimensions."
   ]
  },
  {
   "cell_type": "code",
   "execution_count": null,
   "id": "2340a5e6",
   "metadata": {},
   "outputs": [],
   "source": [
    "# gives shape[0]\n",
    "len(b)"
   ]
  },
  {
   "cell_type": "markdown",
   "id": "ed5979bc",
   "metadata": {},
   "source": [
    "#### How to reshape a `numpy.array`?\n",
    "\n",
    "- `<obj>.reshape(<newshape>)`: reshapes the dimension of the array; documentation: https://numpy.org/doc/stable/reference/generated/numpy.reshape.html"
   ]
  },
  {
   "cell_type": "code",
   "execution_count": null,
   "id": "f3d08197",
   "metadata": {},
   "outputs": [],
   "source": [
    "b"
   ]
  },
  {
   "cell_type": "code",
   "execution_count": null,
   "id": "b7d18682",
   "metadata": {},
   "outputs": [],
   "source": [
    "# Use .reshape to change the dimensions to 3 x 2\n"
   ]
  },
  {
   "cell_type": "code",
   "execution_count": null,
   "id": "2189e09b",
   "metadata": {},
   "outputs": [],
   "source": [
    "# Use .reshape to change to 1-dimensional array\n"
   ]
  },
  {
   "cell_type": "markdown",
   "id": "5588c5f8",
   "metadata": {},
   "source": [
    "We cannot add/remove values while reshaping."
   ]
  },
  {
   "cell_type": "code",
   "execution_count": null,
   "id": "75106197",
   "metadata": {},
   "outputs": [],
   "source": [
    "b.reshape(5)"
   ]
  },
  {
   "cell_type": "code",
   "execution_count": null,
   "id": "6bb8c765",
   "metadata": {},
   "outputs": [],
   "source": [
    "b.reshape(7)"
   ]
  },
  {
   "cell_type": "markdown",
   "id": "3d56dad4",
   "metadata": {},
   "source": [
    "-1 means whatever size is the necessary shape for the remaining values. Enables us to just control one of the dimensions."
   ]
  },
  {
   "cell_type": "code",
   "execution_count": null,
   "id": "f3c16ff5",
   "metadata": {},
   "outputs": [],
   "source": [
    "# Use .reshape to change the dimensions to 3 x something valid\n"
   ]
  },
  {
   "cell_type": "code",
   "execution_count": null,
   "id": "22cc87bc",
   "metadata": {},
   "outputs": [],
   "source": [
    "# Use .reshape to change the dimensions to 1-dimensionl using -1\n"
   ]
  },
  {
   "cell_type": "markdown",
   "id": "1b02eb22",
   "metadata": {},
   "source": [
    "Generate a 10*10 with numbers from 0 to 99."
   ]
  },
  {
   "cell_type": "code",
   "execution_count": null,
   "id": "87ca1111",
   "metadata": {},
   "outputs": [],
   "source": [
    "# Use arange and then reshape it to 10 x something valid\n"
   ]
  },
  {
   "cell_type": "markdown",
   "id": "01e7bf19",
   "metadata": {},
   "source": [
    "### Vocabulary\n",
    "- scalar: 0 dimensional array\n",
    "- vector: 1 dimensional array\n",
    "- matrix: 2 dimensional array\n",
    "- tensor: n dimensional (0, 1, 2, 3, ...) array "
   ]
  },
  {
   "cell_type": "markdown",
   "id": "63ca66d0",
   "metadata": {},
   "source": [
    "### Images as Tensors\n",
    "\n",
    "- `wget` command:\n",
    "    - `wget <url> -O <local file name>`"
   ]
  },
  {
   "cell_type": "code",
   "execution_count": null,
   "id": "9469b3b8",
   "metadata": {},
   "outputs": [],
   "source": [
    "# Only run this cell once\n",
    "!wget \"https://upload.wikimedia.org/wikipedia/commons/f/f2/Coccinella_magnifica01.jpg\" -O bug.jpg"
   ]
  },
  {
   "cell_type": "markdown",
   "id": "b9d16352",
   "metadata": {},
   "source": [
    "#### How to read an image file?\n",
    "\n",
    "- required `import matplotlib.pyplot as plt`\n",
    "    - `plt.imread(<fname>)`: reads an image file into a 3-dimensional array --- rows(pixels), columns(pixels), colors (red/green/blue)\n",
    "    - `plt.imshow(<array>, cmap=<color map>)`: displays the image"
   ]
  },
  {
   "cell_type": "code",
   "execution_count": null,
   "id": "6269ce42",
   "metadata": {},
   "outputs": [],
   "source": [
    "a = plt.imread(\"bug.jpg\")\n",
    "type(a)"
   ]
  },
  {
   "cell_type": "code",
   "execution_count": null,
   "id": "9f455a42",
   "metadata": {},
   "outputs": [],
   "source": [
    "# 3-dimensional array\n",
    "# rows(pixels), columns(pixels), colors (red/green/blue)\n",
    "a.shape"
   ]
  },
  {
   "cell_type": "code",
   "execution_count": null,
   "id": "44973823",
   "metadata": {},
   "outputs": [],
   "source": [
    "plt.imshow(a)"
   ]
  },
  {
   "cell_type": "code",
   "execution_count": null,
   "id": "e973dd28",
   "metadata": {},
   "outputs": [],
   "source": [
    "a \n",
    "# each inner array has 3-color representation R, G, B\n",
    "# two color scales: floats (0.0 to 1.0) OR ints (0 to 255)"
   ]
  },
  {
   "cell_type": "markdown",
   "id": "59023dad",
   "metadata": {},
   "source": [
    "#### GOAL: crop down just to the bug using slicing\n",
    "\n",
    "- `<array>[ROW SLICE, COLUMN SLICE, COLOR SLICE]`"
   ]
  },
  {
   "cell_type": "code",
   "execution_count": null,
   "id": "4a1f059f",
   "metadata": {},
   "outputs": [],
   "source": [
    "plt.imshow(a[???, ???, :])"
   ]
  },
  {
   "cell_type": "markdown",
   "id": "c41c6a04",
   "metadata": {},
   "source": [
    "#### GOAL: show clearly where RED is high on the image\n",
    "- two formats:\n",
    "    - 3D (row, column, color)\n",
    "    - 2D (row, column) => black/white (red/blue)"
   ]
  },
  {
   "cell_type": "code",
   "execution_count": null,
   "id": "9924cb83",
   "metadata": {},
   "outputs": [],
   "source": [
    "a.shape"
   ]
  },
  {
   "cell_type": "markdown",
   "id": "21c34e89",
   "metadata": {},
   "source": [
    "Pull out only layer 0, which is the red layer.\n",
    "- 0 is red\n",
    "- 1 is green\n",
    "- 2 is blue\n",
    "\n",
    "Use index only for the color dimension and slices for row and column dimensions"
   ]
  },
  {
   "cell_type": "code",
   "execution_count": null,
   "id": "50b32a7a",
   "metadata": {},
   "outputs": [],
   "source": [
    "a[:, :, 0].shape "
   ]
  },
  {
   "cell_type": "code",
   "execution_count": null,
   "id": "0d4c8b80",
   "metadata": {},
   "outputs": [],
   "source": [
    "# instead of using black and white, \n",
    "# it is just assigning some color for light and dark\n",
    "plt.imshow(a[:, :, 0])"
   ]
  },
  {
   "cell_type": "code",
   "execution_count": null,
   "id": "71efa2de",
   "metadata": {},
   "outputs": [],
   "source": [
    "# better to use grayscale\n",
    "plt.imshow(a[:, :, 0], ???)"
   ]
  },
  {
   "cell_type": "markdown",
   "id": "9bad669a",
   "metadata": {},
   "source": [
    "Wherever there was red, the image is bright. The bug is very bright because of that. There are other places in the image that are bright but were not red. This is because when we mix RGB, we get white. Any color that was light will also have a lot of RED.\n",
    "\n",
    "This could be a pre-processing step for some ML algorithm that can identify RED bugs. "
   ]
  },
  {
   "cell_type": "markdown",
   "id": "e8a4f511",
   "metadata": {},
   "source": [
    "#### GOAL: show a grayscale that considers the average of all colors\n",
    "\n",
    "- `<array>.mean(axis=<val>)`:\n",
    "    - `axis` should be 0 for 1st dimension, 1 for 2nd dimension, 2 for 3rd dimension"
   ]
  },
  {
   "cell_type": "code",
   "execution_count": null,
   "id": "0235c6b7",
   "metadata": {},
   "outputs": [],
   "source": [
    "# average over all the numbers\n",
    "# gives a measure of how bright the image is overall\n",
    "a.mean()"
   ]
  },
  {
   "cell_type": "code",
   "execution_count": null,
   "id": "78e5988f",
   "metadata": {},
   "outputs": [],
   "source": [
    "a.shape"
   ]
  },
  {
   "cell_type": "code",
   "execution_count": null,
   "id": "de0a1eae",
   "metadata": {},
   "outputs": [],
   "source": [
    "# average over each column and color combination\n",
    "a.mean(axis=0).shape"
   ]
  },
  {
   "cell_type": "code",
   "execution_count": null,
   "id": "c658655d",
   "metadata": {},
   "outputs": [],
   "source": [
    "# average over each row and color combination\n",
    "a.mean(axis=1).shape"
   ]
  },
  {
   "cell_type": "code",
   "execution_count": null,
   "id": "85656235",
   "metadata": {},
   "outputs": [],
   "source": [
    "# average over each row and column combination\n",
    "a.mean(axis=2).shape"
   ]
  },
  {
   "cell_type": "code",
   "execution_count": null,
   "id": "a57d5077",
   "metadata": {},
   "outputs": [],
   "source": [
    "plt.imshow(a.mean(axis=2), cmap=\"gray\")"
   ]
  },
  {
   "cell_type": "markdown",
   "id": "66d7dcef",
   "metadata": {},
   "source": [
    "This could also be a pre-processing step for some ML algorithm that expects black and white images."
   ]
  },
  {
   "cell_type": "markdown",
   "id": "82d66d7a",
   "metadata": {},
   "source": [
    "### Vector Multiplication: Overview\n",
    "\n",
    "#### Elementwise Multiplication\n",
    "\n",
    "$\\begin{bmatrix}\n",
    "1 \\\\ 2 \\\\ 3\n",
    "\\end{bmatrix}\n",
    "*\n",
    "\\begin{bmatrix}\n",
    "4 \\\\ 5 \\\\ 6\n",
    "\\end{bmatrix}$\n",
    "\n",
    "$\\begin{bmatrix}\n",
    "1 \\\\ 2 \\\\ 3\n",
    "\\end{bmatrix}\n",
    "*\n",
    "\\begin{bmatrix}\n",
    "4 & 5 & 6\n",
    "\\end{bmatrix}$\n",
    "\n",
    "### Dot Product\n",
    "\n",
    "$\\begin{bmatrix}\n",
    "1 & 2 & 3\n",
    "\\end{bmatrix}\n",
    "\\cdot\n",
    "\\begin{bmatrix}\n",
    "4 \\\\ 5 \\\\ 6\n",
    "\\end{bmatrix}$\n",
    "\n",
    "$\\begin{bmatrix}\n",
    "1 \\\\ 2 \\\\ 3\n",
    "\\end{bmatrix}\n",
    "\\cdot\n",
    "\\begin{bmatrix}\n",
    "4 & 5 & 6\n",
    "\\end{bmatrix}$"
   ]
  },
  {
   "cell_type": "code",
   "execution_count": null,
   "id": "61dca7b3",
   "metadata": {},
   "outputs": [],
   "source": [
    "# Use .reshape to change the dimensions to something valid x 1 \n",
    "# vertical shape\n",
    "v1 = np.array([1, 2, 3])\n",
    "v1"
   ]
  },
  {
   "cell_type": "code",
   "execution_count": null,
   "id": "f4a3167b",
   "metadata": {},
   "outputs": [],
   "source": [
    "v2 = np.array([4, 5, 6]).reshape(-1, 1)\n",
    "v2"
   ]
  },
  {
   "cell_type": "markdown",
   "id": "888d7d1b",
   "metadata": {},
   "source": [
    "#### Elementwise Multiplication\n",
    "\n",
    "$\\begin{bmatrix}\n",
    "1 \\\\ 2 \\\\ 3\n",
    "\\end{bmatrix}\n",
    "*\n",
    "\\begin{bmatrix}\n",
    "4 \\\\ 5 \\\\ 6\n",
    "\\end{bmatrix}$\n",
    "\\=\n",
    "$\\begin{bmatrix}\n",
    "4 \\\\ 10 \\\\ 18\n",
    "\\end{bmatrix}$"
   ]
  },
  {
   "cell_type": "code",
   "execution_count": null,
   "id": "9c7b9d31",
   "metadata": {},
   "outputs": [],
   "source": [
    "v1 * v2   # [1*4, 2*5, 3*6]"
   ]
  },
  {
   "cell_type": "markdown",
   "id": "2bd28f4f",
   "metadata": {},
   "source": [
    "#### Transpose\n",
    "\n",
    "- flips the x and y"
   ]
  },
  {
   "cell_type": "code",
   "execution_count": null,
   "id": "c973a6d9",
   "metadata": {},
   "outputs": [],
   "source": [
    "v2"
   ]
  },
  {
   "cell_type": "code",
   "execution_count": null,
   "id": "db61f49e",
   "metadata": {},
   "outputs": [],
   "source": [
    "v2.T # horizontal"
   ]
  },
  {
   "cell_type": "code",
   "execution_count": null,
   "id": "a95fc59a",
   "metadata": {},
   "outputs": [],
   "source": [
    "v2.T.T # vertical"
   ]
  },
  {
   "cell_type": "code",
   "execution_count": null,
   "id": "1d11b30c",
   "metadata": {},
   "outputs": [],
   "source": [
    "v1.shape"
   ]
  },
  {
   "cell_type": "code",
   "execution_count": null,
   "id": "278c5332",
   "metadata": {},
   "outputs": [],
   "source": [
    "v2.T.shape"
   ]
  },
  {
   "cell_type": "markdown",
   "id": "f9314ce6-aad0-4a5e-a03d-b5d4b8f9de3d",
   "metadata": {},
   "source": [
    "#### Elementwise Multiplication\n",
    "\n",
    "$\\begin{bmatrix}\n",
    "1 \\\\ 2 \\\\ 3\n",
    "\\end{bmatrix}\n",
    "*\n",
    "\\begin{bmatrix}\n",
    "4 & 5 & 6\n",
    "\\end{bmatrix}$\n",
    "\\=\n",
    "?"
   ]
  },
  {
   "cell_type": "code",
   "execution_count": null,
   "id": "8c4bb10f",
   "metadata": {},
   "outputs": [],
   "source": [
    "v1 * v2.T # how is this working?"
   ]
  },
  {
   "cell_type": "markdown",
   "id": "ce6ee037-9479-4313-8c85-df7e75d8918b",
   "metadata": {},
   "source": [
    "### Broadcast\n",
    "\n",
    "Two use cases:\n",
    "1. \"stretch\" 1 => N along any dimension to make shapes compatible\n",
    "2. add dimensions of size 1 to the beginning of a shape"
   ]
  },
  {
   "cell_type": "markdown",
   "id": "13b3d4cd-b1c2-41ba-aeb1-548a180b0a9b",
   "metadata": {},
   "source": [
    "Element-wise operation between `v1 * v2.T` will automatically \"Broadcast\" v1 to 3 x 3 (stretching the second dimension) and \"Broadcast\" v2.T to 3 x 3 (stretching the first dimension)."
   ]
  },
  {
   "cell_type": "code",
   "execution_count": null,
   "id": "4578b5d0-b511-4277-ac8b-edb738c22cd7",
   "metadata": {},
   "outputs": [],
   "source": [
    "v1.shape"
   ]
  },
  {
   "cell_type": "code",
   "execution_count": null,
   "id": "1344b009-c62f-462e-ba20-613275e3f31d",
   "metadata": {},
   "outputs": [],
   "source": [
    "v2.T.shape"
   ]
  },
  {
   "cell_type": "markdown",
   "id": "03cc16fe-ddd8-495c-8f88-af491bbd0f25",
   "metadata": {},
   "source": [
    "How can we manually replicate that? \n",
    "\n",
    "#### `np.concatenate([a1, a2, ...], axis=0)`.\n",
    "- `a1, a2, …`: sequence of arrays\n",
    "- `axis`: the dimension along with we want to join the arrays\n",
    "    - default value is 0, which is for row dimension (down)\n",
    "    - value of 1 is for column dimension (across)"
   ]
  },
  {
   "cell_type": "code",
   "execution_count": null,
   "id": "9cf0b4c5-9b2d-44df-ae1c-964fdf3f0991",
   "metadata": {},
   "outputs": [],
   "source": [
    "v1"
   ]
  },
  {
   "cell_type": "code",
   "execution_count": null,
   "id": "0f02a463-c802-4c71-bf04-22ed704e5078",
   "metadata": {},
   "outputs": [],
   "source": [
    "v1.shape"
   ]
  },
  {
   "cell_type": "code",
   "execution_count": null,
   "id": "4df19236-3d86-46b5-9702-80963b4707eb",
   "metadata": {},
   "outputs": [],
   "source": [
    "# Broadcast v1 to 3 x 3 (stretching the second dimension)\n",
    "v1_broadcast = \n",
    "v1_broadcast"
   ]
  },
  {
   "cell_type": "code",
   "execution_count": null,
   "id": "2496189e-29a1-458c-ac97-3c68a18e4106",
   "metadata": {},
   "outputs": [],
   "source": [
    "v2.T"
   ]
  },
  {
   "cell_type": "code",
   "execution_count": null,
   "id": "ed1d5db1-ee94-4d30-84e9-4b991f4c52d5",
   "metadata": {},
   "outputs": [],
   "source": [
    "v2.T.shape"
   ]
  },
  {
   "cell_type": "code",
   "execution_count": null,
   "id": "9cf1fe4f-3846-4312-a14b-48acb83fdacb",
   "metadata": {},
   "outputs": [],
   "source": [
    "# Broadcast v2.T to 3 x 3 (stretching the second dimension)\n",
    "v2t_broadcast = \n",
    "v2t_broadcast"
   ]
  },
  {
   "cell_type": "code",
   "execution_count": null,
   "id": "a2917d2c-7e82-4134-b91d-b4dcb2c2f13a",
   "metadata": {},
   "outputs": [],
   "source": [
    "v1_broadcast * v2t_broadcast # same as v1 * v2.T"
   ]
  },
  {
   "cell_type": "code",
   "execution_count": null,
   "id": "d076bc12-0023-4c1f-8487-75f804a61057",
   "metadata": {},
   "outputs": [],
   "source": [
    "v1 * v2.T"
   ]
  },
  {
   "cell_type": "markdown",
   "id": "9ca5d5eb-d3dd-417b-b871-dc6efb3c2966",
   "metadata": {},
   "source": [
    "#### Generate a multiplication table from 1 to 10"
   ]
  },
  {
   "cell_type": "code",
   "execution_count": null,
   "id": "91570a33-f578-4547-b26d-e5cf3c2d87bc",
   "metadata": {},
   "outputs": [],
   "source": [
    "# 1. generate a range of numbers from 1 to 10\n",
    "# 2. reshape that to a vertical numpy array\n",
    "digits = \n",
    "digits"
   ]
  },
  {
   "cell_type": "code",
   "execution_count": null,
   "id": "5c46433c-a4b2-4946-857f-228eb9f9dc55",
   "metadata": {},
   "outputs": [],
   "source": [
    "digits * digits.T"
   ]
  },
  {
   "cell_type": "code",
   "execution_count": null,
   "id": "09452fd8-e225-4a01-a891-4cc03c559c64",
   "metadata": {},
   "outputs": [],
   "source": [
    "# Convert the multiplication table into a DataFrame\n"
   ]
  },
  {
   "cell_type": "markdown",
   "id": "4b8bf928-d85c-4817-9819-f66e7c0105c9",
   "metadata": {},
   "source": [
    "#### Back to bug example\n",
    "\n",
    "Let's do more complex broadcasting example"
   ]
  },
  {
   "cell_type": "code",
   "execution_count": null,
   "id": "29e739e6-5fce-4367-ab0f-d0a809a3b9f9",
   "metadata": {},
   "outputs": [],
   "source": [
    "# Read \"bug.jpg\" into a numpy array\n",
    "a = \n",
    "a.shape"
   ]
  },
  {
   "cell_type": "code",
   "execution_count": null,
   "id": "56fe8d69-8a33-4b0b-bffe-a8016c8e93b0",
   "metadata": {},
   "outputs": [],
   "source": [
    "# Display \"bug.jpg\"\n",
    "plt.imshow(a)"
   ]
  },
  {
   "cell_type": "markdown",
   "id": "9fec8809-a32e-4466-b7df-b16e9489caaf",
   "metadata": {},
   "source": [
    "#### GOAL: create a fade effect (full color on the left, to black on the right)\n",
    "\n",
    "- To achieve this, we need to:\n",
    "    1. multiply the left most columns with numbers close to 1's (retains the original color)\n",
    "    2. the rightmost columns with numbers close to 0's (0 will give us black color)\n",
    "    3. the middle columns with numbers close to 0.5's"
   ]
  },
  {
   "cell_type": "code",
   "execution_count": null,
   "id": "50e52114-3e64-4395-9c2c-65bb8ef46078",
   "metadata": {},
   "outputs": [],
   "source": [
    "a.shape"
   ]
  },
  {
   "cell_type": "code",
   "execution_count": null,
   "id": "681c7d5d-3308-4299-9dbe-f993c9ffe859",
   "metadata": {},
   "outputs": [],
   "source": [
    "# Create an array called fade with 2521 numbers\n",
    "fade = \n",
    "print(fade.shape)\n",
    "fade\n",
    "# How many dimensions does fade have? 1"
   ]
  },
  {
   "cell_type": "code",
   "execution_count": null,
   "id": "f6fdb073-78fd-451a-985f-cac8835fd871",
   "metadata": {},
   "outputs": [],
   "source": [
    "a.shape"
   ]
  },
  {
   "cell_type": "markdown",
   "id": "09d8bc07-79bc-48aa-98ac-6904acd2bc86",
   "metadata": {},
   "source": [
    "How can we multiply `a` and `fade`? That is how do we `reshape` `fade`?"
   ]
  },
  {
   "cell_type": "markdown",
   "id": "950e479c-a1aa-4beb-b1e8-756cb32a65fb",
   "metadata": {},
   "source": [
    "Can we reshape fade to 1688 x 2521 x 3?"
   ]
  },
  {
   "cell_type": "code",
   "execution_count": null,
   "id": "8fe7a385-0f53-4183-aea8-cb8461ca3bbf",
   "metadata": {},
   "outputs": [],
   "source": []
  },
  {
   "cell_type": "markdown",
   "id": "1c75f601-1906-4768-b7f3-ea247299ba71",
   "metadata": {},
   "source": [
    "The answer is no - because `reshape` can never add new values / delete values. Meaning after `reshape`, we need to exactly have 2521 values."
   ]
  },
  {
   "cell_type": "code",
   "execution_count": null,
   "id": "eec5aabe-2749-468a-a76d-de4e8f5f8df4",
   "metadata": {},
   "outputs": [],
   "source": [
    "# Keep in mind that we need to multiple each column by a number, so which dimension should\n",
    "# be 2521?"
   ]
  },
  {
   "cell_type": "code",
   "execution_count": null,
   "id": "ee3dc975-749d-4077-b47b-36e101ff1901",
   "metadata": {},
   "outputs": [],
   "source": [
    "# Let's multiple a by reshaped fade\n",
    "plt.imshow(???)"
   ]
  },
  {
   "cell_type": "markdown",
   "id": "7abfc514-1130-4844-9df9-439d783d2f73",
   "metadata": {},
   "source": [
    "Why doesn't this work? Remember pixels can be either represented using the values 0 to 255 or 0 to 1. `a` has the scale 0 to 255 and `fade.reshape(...)` has the scale 0 to 1."
   ]
  },
  {
   "cell_type": "code",
   "execution_count": null,
   "id": "d0f07972-a874-4764-93f1-a56ebbf84136",
   "metadata": {},
   "outputs": [],
   "source": [
    "plt.imshow(a * fade.reshape(1, 2521, 1))"
   ]
  },
  {
   "cell_type": "markdown",
   "id": "1a027c40-5602-4bea-85ec-84c74a0cab3a",
   "metadata": {},
   "source": [
    "### Broadcast\n",
    "\n",
    "Two use cases:\n",
    "1. \"stretch\" 1 => N along any dimension to make shapes compatible\n",
    "2. add dimensions of size 1 to the beginning of a shape"
   ]
  },
  {
   "cell_type": "code",
   "execution_count": null,
   "id": "25ca7735-b6c3-4524-8336-70173cfc5be1",
   "metadata": {},
   "outputs": [],
   "source": [
    "a.shape"
   ]
  },
  {
   "cell_type": "code",
   "execution_count": null,
   "id": "0f6dd991-1644-4ad6-b702-4e8c0b74e0c0",
   "metadata": {},
   "outputs": [],
   "source": [
    "plt.imshow(a / 255.0 * fade.reshape(2521, 1))\n",
    "# BROADCAST: (2521, 1) => (1, 2521, 1) => (1688, 2521, 3)"
   ]
  },
  {
   "cell_type": "markdown",
   "id": "e96bd769-07ea-461e-8af1-91216adbd2ab",
   "metadata": {},
   "source": [
    "### Dot Product\n",
    "\n",
    "$\\begin{bmatrix}\n",
    "1 & 2 & 3\n",
    "\\end{bmatrix}\n",
    "\\cdot\n",
    "\\begin{bmatrix}\n",
    "4 \\\\ 5 \\\\ 6\n",
    "\\end{bmatrix}$"
   ]
  },
  {
   "cell_type": "code",
   "execution_count": null,
   "id": "888f3726-cc86-4fff-bd3c-22183a1d5178",
   "metadata": {},
   "outputs": [],
   "source": [
    "v1"
   ]
  },
  {
   "cell_type": "code",
   "execution_count": null,
   "id": "bedf9d2e-6ec1-41a3-ab2e-23b56239a0cb",
   "metadata": {},
   "outputs": [],
   "source": [
    "v2"
   ]
  },
  {
   "cell_type": "code",
   "execution_count": null,
   "id": "5c8bb73e-181a-452b-b19e-4b03f7bfc05a",
   "metadata": {},
   "outputs": [],
   "source": [
    "v1 * v2   # 1*4, 2*5, 3*6"
   ]
  },
  {
   "cell_type": "code",
   "execution_count": null,
   "id": "625b136c-7b5e-46cf-89d9-450d3a55ae77",
   "metadata": {},
   "outputs": [],
   "source": [
    "v1.T"
   ]
  },
  {
   "cell_type": "code",
   "execution_count": null,
   "id": "4b580956-9b7f-4b40-b658-9ee2383d3284",
   "metadata": {},
   "outputs": [],
   "source": [
    "v2"
   ]
  },
  {
   "cell_type": "markdown",
   "id": "b1d9e5bb-308f-4540-a9bc-2964f0917823",
   "metadata": {},
   "source": [
    "#### `np.dot(a1, a2)` or `a1 @ a2`"
   ]
  },
  {
   "cell_type": "code",
   "execution_count": null,
   "id": "5114c384-2836-4ab0-85df-e2910ab53f3c",
   "metadata": {},
   "outputs": [],
   "source": [
    "   # 1*4 + 2*5 + 3*6"
   ]
  },
  {
   "cell_type": "code",
   "execution_count": null,
   "id": "df408d79-0192-46d3-9448-9286cec11288",
   "metadata": {},
   "outputs": [],
   "source": []
  },
  {
   "cell_type": "markdown",
   "id": "1235fb92-417c-4d37-aba0-d470bddb9627",
   "metadata": {},
   "source": [
    "#### `.item()` gives you just the values"
   ]
  },
  {
   "cell_type": "code",
   "execution_count": null,
   "id": "1bd3ce8b-25fb-414f-9c8a-3de0296c058d",
   "metadata": {},
   "outputs": [],
   "source": [
    "(v1.T @ v2)???   # pulls out the only number in the results"
   ]
  },
  {
   "cell_type": "code",
   "execution_count": null,
   "id": "cbf53598-a5c0-425f-912b-5bf84b18a4d6",
   "metadata": {},
   "outputs": [],
   "source": [
    "np.dot(v1.T, v2)???"
   ]
  },
  {
   "cell_type": "markdown",
   "id": "80cccae4-cd93-4892-b50d-1f4043f1bdc0",
   "metadata": {},
   "source": [
    "### Problem 1: Predicting with dot product (given `X` and `c`, compute `y`)\n",
    "\n",
    "1. use case for dot product:\n",
    "    - `y = Xc + b`\n",
    "2. one's column\n",
    "3. matrix dot vector\n",
    "\n",
    "$\\begin{bmatrix}\n",
    "1 & 2 \\\\ 3 & 4\\\\\n",
    "\\end{bmatrix}\n",
    "\\cdot\n",
    "\\begin{bmatrix}\n",
    "10 \\\\ 1 \\\\\n",
    "\\end{bmatrix}$"
   ]
  },
  {
   "cell_type": "code",
   "execution_count": null,
   "id": "8a919579-d326-40b3-b23c-3fcbd3bd5515",
   "metadata": {},
   "outputs": [],
   "source": [
    "houses = pd.DataFrame([[2, 1, 1985],\n",
    "                       [3, 1, 1998],\n",
    "                       [4, 3, 2005],\n",
    "                       [4, 2, 2020]],\n",
    "                      columns=[\"beds\", \"baths\", \"year\"])\n",
    "houses"
   ]
  },
  {
   "cell_type": "code",
   "execution_count": null,
   "id": "c71dd669-c100-4276-9c54-561c44464273",
   "metadata": {},
   "outputs": [],
   "source": [
    "def predict_price(house):\n",
    "    \"\"\"\n",
    "    Takes row (as Series) as argument,\n",
    "    returns estimated price (in thousands)\n",
    "    \"\"\"\n",
    "    return ((house[\"beds\"]*42.3) + (house[\"baths\"]*10) + \n",
    "            (house[\"year\"]*1.67) - 3213)\n",
    "\n",
    "predict_price(houses.iloc[0])"
   ]
  },
  {
   "cell_type": "code",
   "execution_count": null,
   "id": "0b8a0450-107f-4d9f-923b-36a9e25db13e",
   "metadata": {},
   "outputs": [],
   "source": [
    "# How do we convert a DataFrame into a numpy array?\n",
    "X = houses.values\n",
    "X"
   ]
  },
  {
   "cell_type": "markdown",
   "id": "a25f1791-2dc0-4e3e-b0ba-f98f3732fb6d",
   "metadata": {},
   "source": [
    "Simplifying intercept addition by including intercept inside `c` vector."
   ]
  },
  {
   "cell_type": "code",
   "execution_count": null,
   "id": "df4189c0-abe8-46a2-ba34-78ca02c9e513",
   "metadata": {},
   "outputs": [],
   "source": [
    "# Extract just first row of data\n",
    "house0 = \n",
    "house0"
   ]
  },
  {
   "cell_type": "code",
   "execution_count": null,
   "id": "b11d0efe-bb32-4f77-bb86-ad288463ece5",
   "metadata": {},
   "outputs": [],
   "source": [
    "# Create a vertical array (3 x 1) with the co-efficients\n",
    "c = np.array([42.3, 10, 1.67])???\n",
    "c"
   ]
  },
  {
   "cell_type": "code",
   "execution_count": null,
   "id": "8b868c72-f7f5-44cd-bb5c-36c481538528",
   "metadata": {},
   "outputs": [],
   "source": [
    "# horizontal @ vertical\n"
   ]
  },
  {
   "cell_type": "markdown",
   "id": "b66a48cf-b798-4780-a2d5-9c4c1f90e115",
   "metadata": {},
   "source": [
    "`y = Xc + b`"
   ]
  },
  {
   "cell_type": "code",
   "execution_count": null,
   "id": "75caf9a6-24ca-4937-beac-a4b59bc77e92",
   "metadata": {},
   "outputs": [],
   "source": []
  },
  {
   "cell_type": "markdown",
   "id": "4be72add-6d7d-4b4f-af13-b893f6049c5d",
   "metadata": {},
   "source": [
    "Let's add the intercept to the c vector for ease."
   ]
  },
  {
   "cell_type": "code",
   "execution_count": null,
   "id": "a00c33f4-ad7e-4521-b290-2bd3c70c92d3",
   "metadata": {},
   "outputs": [],
   "source": [
    "c = np.array([42.3, 10, 1.67, ???]).reshape(-1, 1)\n",
    "c"
   ]
  },
  {
   "cell_type": "markdown",
   "id": "60f89b9a-1e02-4b9f-b56e-e53a7def7853",
   "metadata": {},
   "source": [
    "If we directly try dot product now, it won't work because of difference in dimensions."
   ]
  },
  {
   "cell_type": "code",
   "execution_count": null,
   "id": "6b5c4a83-8ed7-4687-9ba7-e329a1040bcb",
   "metadata": {},
   "outputs": [],
   "source": [
    "house0 @ c"
   ]
  },
  {
   "cell_type": "code",
   "execution_count": null,
   "id": "3272d20d-aaf6-4146-a2c8-b9be2b06aadc",
   "metadata": {},
   "outputs": [],
   "source": [
    "house0.shape"
   ]
  },
  {
   "cell_type": "code",
   "execution_count": null,
   "id": "e66e9b8b-5b45-421b-a210-92ec5e35f6b5",
   "metadata": {},
   "outputs": [],
   "source": [
    "c.shape"
   ]
  },
  {
   "cell_type": "markdown",
   "id": "f5af551e-8c23-4b69-acab-7ce9aae10705",
   "metadata": {},
   "source": [
    "#### One's column\n",
    "\n",
    "- Solution, add a 1's column to `X` using `np.concatenate`"
   ]
  },
  {
   "cell_type": "code",
   "execution_count": null,
   "id": "d0c60b46-2676-4e4f-9cc1-c53275a82834",
   "metadata": {},
   "outputs": [],
   "source": [
    "# How can we generate an array of 1's using numpy?\n",
    "ones_column = \n",
    "ones_column"
   ]
  },
  {
   "cell_type": "code",
   "execution_count": null,
   "id": "558b07ba-f9de-4433-8e6c-ea7838c40bab",
   "metadata": {},
   "outputs": [],
   "source": [
    "X = \n",
    "X"
   ]
  },
  {
   "cell_type": "code",
   "execution_count": null,
   "id": "6db69a59-5d4c-40f8-9353-8ad6d9b10e8a",
   "metadata": {},
   "outputs": [],
   "source": [
    "# Let's extract house0 again\n",
    "house0 = X[0:1, :]\n",
    "house0"
   ]
  },
  {
   "cell_type": "code",
   "execution_count": null,
   "id": "07823945-0edd-491e-b2ff-f65a4fc9ce0d",
   "metadata": {},
   "outputs": [],
   "source": [
    "# Let's try house0 @ c now\n",
    "house0 @ c"
   ]
  },
  {
   "cell_type": "code",
   "execution_count": null,
   "id": "4b49e326-f02d-4fb9-bdf2-75e3361fde58",
   "metadata": {},
   "outputs": [],
   "source": [
    "# Extracting each house and doing the prediction with dot product\n",
    "# Cumbersome\n",
    "house0 = X[0:1, :]\n",
    "print(house0 @ c)\n",
    "house1 = X[1:2, :]\n",
    "print(house1 @ c)\n",
    "house2 = X[2:3, :]\n",
    "print(house2 @ c)\n",
    "house3 = X[3:4, :]\n",
    "print(house3 @ c)"
   ]
  },
  {
   "cell_type": "markdown",
   "id": "5b5897c8-8c1d-4b3e-8cca-75eda891fc41",
   "metadata": {},
   "source": [
    "### `@` use cases\n",
    "\n",
    "loops over each row of the firt array and computes dot product, which is ROW @ COEFs, that is, `X @ c`"
   ]
  },
  {
   "cell_type": "markdown",
   "id": "f5603be4-be3d-4807-a619-d52c25bf5b5f",
   "metadata": {},
   "source": [
    "### Problem 2: Fitting with `np.linalg.solve` (given `X` and `y`, find `c`)"
   ]
  },
  {
   "cell_type": "markdown",
   "id": "08af46b3-aba3-4c7a-a44b-ebf3628ca1fd",
   "metadata": {},
   "source": [
    "**Above:** we estimated house prices using a linear model based on the dot product as follows:\n",
    "\n",
    "$Xc = y$\n",
    "\n",
    "* $X$ (known) is a matrix with house features (from DataFrame)\n",
    "* $c$ (known) is a vector of coefficients (our model parameters)\n",
    "* $y$ (computed) are the prices\n",
    "\n",
    "**Below:** what if X and y are known, and we want to find c?"
   ]
  },
  {
   "cell_type": "code",
   "execution_count": null,
   "id": "2fa96f0e-dd51-4fcf-8179-14ea8fa7174d",
   "metadata": {},
   "outputs": [],
   "source": [
    "houses = pd.DataFrame([[2, 1, 1985, 196.55],\n",
    "                       [3, 1, 1998, 260.56],\n",
    "                       [4, 3, 2005, 334.55],\n",
    "                       [4, 2, 2020, 349.60]],\n",
    "                      columns=[\"beds\", \"baths\", \"year\", \"price\"])\n",
    "houses"
   ]
  },
  {
   "cell_type": "markdown",
   "id": "3de66f6d-d4a3-468e-8bf4-dd5b4e25fe9b",
   "metadata": {},
   "source": [
    "If we assume price is linearly based on the features, with this equation:\n",
    "\n",
    "* $beds*c_0 + baths*c_1 + year*c_2 + 1*c_3 = price$\n",
    "\n",
    "Then we get four equations:\n",
    "\n",
    "* $2*c_0 + 1*c_1 + 1985*c_2 + 1*c_3 = 196.55$\n",
    "* $3*c_0 + 1*c_1 + 1998*c_2 + 1*c_3 = 260.56$\n",
    "* $4*c_0 + 3*c_1 + 2005*c_2 + 1*c_3 = 334.55$\n",
    "* $4*c_0 + 2*c_1 + 2020*c_2 + 1*c_3 = 349.60$"
   ]
  },
  {
   "cell_type": "markdown",
   "id": "dcf13c4f-19ca-407d-b77a-ed8c61f93a1b",
   "metadata": {},
   "source": [
    "#### `c = np.linalg.solve(X, y)`\n",
    "\n",
    "- documentation: https://numpy.org/doc/stable/reference/generated/numpy.linalg.solve.html"
   ]
  },
  {
   "cell_type": "code",
   "execution_count": null,
   "id": "5f9c7dce-ea8b-44a0-b0eb-fad83520b48b",
   "metadata": {},
   "outputs": [],
   "source": [
    "# Add a column of 1s to this DataFrame\n",
    "\n",
    "houses"
   ]
  },
  {
   "cell_type": "code",
   "execution_count": null,
   "id": "8468b1ad-1a2b-4132-b0cb-3ef6b3328933",
   "metadata": {},
   "outputs": [],
   "source": [
    "# Extract X ---> features: [\"beds\", \"baths\", \"year\", \"ones\"]\n",
    "X = \n",
    "X"
   ]
  },
  {
   "cell_type": "code",
   "execution_count": null,
   "id": "231303b8-7a1f-4e06-b03b-e5bc276acf10",
   "metadata": {},
   "outputs": [],
   "source": [
    "# Extract y ---> prediction value: [\"price\"]\n",
    "# Unlike predict method argument, we need a DataFrame here, \n",
    "# Reason: so that we can convert that into numpy array\n",
    "y = \n",
    "y"
   ]
  },
  {
   "cell_type": "code",
   "execution_count": null,
   "id": "a3553797-ced5-419c-b047-d980bda156bf",
   "metadata": {},
   "outputs": [],
   "source": [
    "# Let's take a look at the co-efficients which we were using for our prediction\n",
    "c"
   ]
  },
  {
   "cell_type": "code",
   "execution_count": null,
   "id": "8c9e67f6-0280-45a4-b679-64785e7a507c",
   "metadata": {},
   "outputs": [],
   "source": [
    "c = \n",
    "c"
   ]
  },
  {
   "cell_type": "code",
   "execution_count": null,
   "id": "da20312a-6818-4270-ab67-12cc132661ab",
   "metadata": {},
   "outputs": [],
   "source": [
    "X @ c"
   ]
  },
  {
   "cell_type": "markdown",
   "id": "c56f9ceb-7d4d-4337-8c76-b090200c78f5",
   "metadata": {},
   "source": [
    "What is the predicted price of a 6-bedroom 5-bathroom house built in 2024?"
   ]
  },
  {
   "cell_type": "code",
   "execution_count": null,
   "id": "9ac4eabc-3de8-40d4-8882-e93e1d2fa053",
   "metadata": {},
   "outputs": [],
   "source": [
    "dream_house = np.array([[6, 5, 2024, 1]])\n",
    "dream_house"
   ]
  },
  {
   "cell_type": "code",
   "execution_count": null,
   "id": "747b5bc3-9d16-40f3-b383-3c7813654e58",
   "metadata": {},
   "outputs": [],
   "source": [
    "dream_house @ c"
   ]
  },
  {
   "cell_type": "markdown",
   "id": "19735d33-faed-43c3-90aa-18e19196c95d",
   "metadata": {},
   "source": [
    "### Two Perspectives on `Matrix @ vector`\n",
    "\n",
    "$\\begin{bmatrix}\n",
    "4&5\\\\6&7\\\\8&9\\\\\n",
    "\\end{bmatrix}\n",
    "\\cdot\n",
    "\\begin{bmatrix}\n",
    "2\\\\3\\\\\n",
    "\\end{bmatrix}\n",
    "= ????\n",
    "$"
   ]
  },
  {
   "cell_type": "code",
   "execution_count": null,
   "id": "40fac498-ceb6-4ee1-a309-d146fa48f1cb",
   "metadata": {},
   "outputs": [],
   "source": [
    "X = np.array([[4, 5], [6, 7], [8, 9]])\n",
    "c = np.array([2, 3]).reshape(-1, 1)\n",
    "X @ c"
   ]
  },
  {
   "cell_type": "markdown",
   "id": "d12b88c0-1320-4010-bda7-d2e8a7d7b063",
   "metadata": {},
   "source": [
    "### Row Picture\n",
    "\n",
    "Do dot product one row at a time.\n",
    "\n",
    "$\\begin{bmatrix}\n",
    "4&5\\\\6&7\\\\8&9\\\\\n",
    "\\end{bmatrix}\n",
    "\\cdot\n",
    "\\begin{bmatrix}\n",
    "2\\\\3\\\\\n",
    "\\end{bmatrix}\n",
    "=\n",
    "\\begin{bmatrix}\n",
    "(4*2)+(5*3)\\\\\n",
    "(6*2)+(7*3)\\\\\n",
    "(8*2)+(9*3)\\\\\n",
    "\\end{bmatrix}\n",
    "=\n",
    "\\begin{bmatrix}\n",
    "23\\\\\n",
    "33\\\\\n",
    "43\\\\\n",
    "\\end{bmatrix}\n",
    "$"
   ]
  },
  {
   "cell_type": "code",
   "execution_count": null,
   "id": "e5105005-1659-4ea2-8232-15055ac0210e",
   "metadata": {},
   "outputs": [],
   "source": [
    "def row_dot_product(X, c):\n",
    "    \"\"\"\n",
    "    function that performs same action as @ operator\n",
    "    \"\"\"\n",
    "    result = []\n",
    "    print(X)\n",
    "    print(c)\n",
    "    # loop over each row index of X\n",
    "    \n",
    "        # extract each row using slicing\n",
    "        # why slicing? we want two dimensional array\n",
    "        \n",
    "        # DOT PRODUCT the row with c\n",
    "        \n",
    "    # convert result into a vertical numpy array\n",
    "    \n",
    "    \n",
    "row_dot_product(X, c)"
   ]
  },
  {
   "cell_type": "code",
   "execution_count": null,
   "id": "fdc28784-f9fc-43f4-9be6-4c50928f4b6d",
   "metadata": {},
   "outputs": [],
   "source": [
    "X.shape"
   ]
  },
  {
   "cell_type": "markdown",
   "id": "607abb76-0838-44f2-8424-62e4d0132557",
   "metadata": {},
   "source": [
    "### Column Picture\n",
    "\n",
    "$\\begin{bmatrix}\n",
    "c_0&c_1&c_2\\\\\n",
    "\\end{bmatrix}\n",
    "\\cdot\n",
    "\\begin{bmatrix}\n",
    "x\\\\y\\\\z\\\\\n",
    "\\end{bmatrix}\n",
    "=(c_0*x) + (c_1*y) + (c_2*z)\n",
    "$\n",
    "\n",
    "Dot product takes a **linear combination** of columns.\n",
    "\n",
    "$\\begin{bmatrix}\n",
    "4&5\\\\6&7\\\\8&9\\\\\n",
    "\\end{bmatrix}\n",
    "\\cdot\n",
    "\\begin{bmatrix}\n",
    "2\\\\3\\\\\n",
    "\\end{bmatrix}\n",
    "=\n",
    "\\begin{bmatrix}\n",
    "4\\\\6\\\\8\\\\\n",
    "\\end{bmatrix}*2\n",
    "+\n",
    "\\begin{bmatrix}\n",
    "5\\\\7\\\\9\\\\\n",
    "\\end{bmatrix}*3\n",
    "=\n",
    "\\begin{bmatrix}\n",
    "23\\\\\n",
    "33\\\\\n",
    "43\\\\\n",
    "\\end{bmatrix}\n",
    "$"
   ]
  },
  {
   "cell_type": "code",
   "execution_count": null,
   "id": "b315be8c-1161-40ad-82ba-e363ca898e35",
   "metadata": {},
   "outputs": [],
   "source": [
    "def col_dot_product(X, c):\n",
    "    \"\"\"\n",
    "    same result as row_dot_product above, \n",
    "    but different definition / code\n",
    "    \"\"\"\n",
    "    # initialize a vertical vector of zeros\n",
    "    \n",
    "    # loop over each col index of X\n",
    "    \n",
    "        # extract each column using slicing\n",
    "        \n",
    "        # extract weight for the column using indexing\n",
    "        \n",
    "        # add weighted column to total\n",
    "        \n",
    "    return total\n",
    "    \n",
    "col_dot_product(X, c)"
   ]
  },
  {
   "cell_type": "code",
   "execution_count": null,
   "id": "276d90aa-1d55-4573-b03c-a5ae1043273e",
   "metadata": {},
   "outputs": [],
   "source": [
    "X.shape"
   ]
  },
  {
   "cell_type": "code",
   "execution_count": null,
   "id": "a39bff4b-7665-4882-a0bd-8a47df934760",
   "metadata": {},
   "outputs": [],
   "source": [
    "# Create a vertical vector / array containing 3 0's\n"
   ]
  },
  {
   "cell_type": "markdown",
   "id": "12856b3e-7455-4358-b084-a1c41b242bd3",
   "metadata": {},
   "source": [
    "### Part 1: Column Space of a Matrix\n",
    "\n",
    "Definition: the *column space* of a matrix is the set of all linear combinations of that matrix's columns."
   ]
  },
  {
   "cell_type": "code",
   "execution_count": null,
   "id": "c64b17f1-dce9-4f8e-b85a-5718445154ba",
   "metadata": {},
   "outputs": [],
   "source": [
    "A = np.array([\n",
    "    [1, 100],\n",
    "    [2, 10],\n",
    "    [3, 0]\n",
    "])\n",
    "B = np.array([\n",
    "    [1, 0],\n",
    "    [0, 2],\n",
    "    [0, 3],\n",
    "    [0, 0]\n",
    "])"
   ]
  },
  {
   "cell_type": "code",
   "execution_count": null,
   "id": "73dd0bc6-3332-43b4-bd63-223eb7450b49",
   "metadata": {},
   "outputs": [],
   "source": [
    "# this is in the column space of A (it's a weighted mix of the columns)\n",
    "A @ np.array([1, 1]).reshape(-1, 1)"
   ]
  },
  {
   "cell_type": "code",
   "execution_count": null,
   "id": "23914764-5f3d-4acb-9019-63d5f5a916e7",
   "metadata": {},
   "outputs": [],
   "source": [
    "# this is in the column space of A (it's a weighted mix of the columns)\n",
    "A @ np.array([-1, 0]).reshape(-1, 1)"
   ]
  },
  {
   "cell_type": "code",
   "execution_count": null,
   "id": "2106723e-7af2-44c1-a7e7-b476cc3a72bc",
   "metadata": {},
   "outputs": [],
   "source": [
    "# this is in the column space of A (it's a weighted mix of the columns)\n",
    "A @ np.array([0, 2]).reshape(-1, 1)"
   ]
  },
  {
   "cell_type": "code",
   "execution_count": null,
   "id": "a891486d-7b37-4339-86a4-2b2611e0b373",
   "metadata": {},
   "outputs": [],
   "source": [
    "# this is in the column space of A (it's a weighted mix of the columns)\n",
    "A @ np.array([0, 0]).reshape(-1, 1)"
   ]
  },
  {
   "cell_type": "markdown",
   "id": "60751385-1b9e-4132-97a5-dd94e2337432",
   "metadata": {},
   "source": [
    "A right-sized zero vector will always be in the column space."
   ]
  },
  {
   "cell_type": "markdown",
   "id": "05cd01fd-036a-4896-a90a-6005ae6162ad",
   "metadata": {},
   "source": [
    "What vectors are in the column space of B?\n",
    "\n",
    "$B = \\begin{bmatrix}\n",
    "1&0\\\\\n",
    "0&2\\\\\n",
    "0&3\\\\\n",
    "0&0\\\\\n",
    "\\end{bmatrix}$\n",
    "\n",
    "$a=\\begin{bmatrix}\n",
    "2\\\\\n",
    "2\\\\\n",
    "3\\\\\n",
    "0\n",
    "\\end{bmatrix}, b=\\begin{bmatrix}\n",
    "0\\\\\n",
    "0\\\\\n",
    "0\\\\\n",
    "1\n",
    "\\end{bmatrix}, c=\\begin{bmatrix}\n",
    "-10\\\\\n",
    "0\\\\\n",
    "0\\\\\n",
    "0\n",
    "\\end{bmatrix}, d=\\begin{bmatrix}\n",
    "0\\\\\n",
    "-2\\\\\n",
    "3\\\\\n",
    "0\n",
    "\\end{bmatrix}, e=\\begin{bmatrix}\n",
    "-1\\\\\n",
    "2\\\\\n",
    "3\\\\\n",
    "0\n",
    "\\end{bmatrix}$"
   ]
  },
  {
   "cell_type": "code",
   "execution_count": null,
   "id": "3ea6b4fb-7840-4bfa-8d64-f22523d81676",
   "metadata": {},
   "outputs": [],
   "source": [
    "c = np.array([-1, 1]).reshape(-1, 1) # coef\n",
    "B @ c"
   ]
  },
  {
   "cell_type": "markdown",
   "id": "1ce0f9a0-92df-4772-bd8d-8305ed44fcaf",
   "metadata": {},
   "source": [
    "### Solution\n",
    "- in the column space of B: \n",
    "    - \n",
    "    -\n",
    "    -\n",
    "- not in the column space: \n",
    "    - \n",
    "    - "
   ]
  },
  {
   "cell_type": "markdown",
   "id": "35c7a1e9-1ae8-4f52-8324-dbfdbae542a9",
   "metadata": {},
   "source": [
    "### Part 2: When can we solve for c?\n",
    "\n",
    "Suppose $Xc = y$.\n",
    "\n",
    "$X$ and $y$ are known, and we want to solve for $c$.\n",
    "\n",
    "When does `c = np.linalg.solve(X, y)` work?\n",
    "\n",
    "#### Fruit Sales Example\n",
    "\n",
    "##### Data\n",
    "\n",
    "* `10 apples and 0 bananas sold for $7`\n",
    "* `2 apples and 8 bananas sold for $5`\n",
    "* `4 apples and 4 bananas sold for $5`\n",
    "\n",
    "##### Equations\n",
    "\n",
    "* `10*apple + basket = 7`\n",
    "* `2*apple + 8*banana + basket = 5`\n",
    "* `4*apple + 4*banana + basket = 5`"
   ]
  },
  {
   "cell_type": "markdown",
   "id": "3ec9c040-8a64-4bda-8028-41925e9b195a",
   "metadata": {},
   "source": [
    "#### There is a solution for the system of equations and `np.linalg.solve` can find it."
   ]
  },
  {
   "cell_type": "code",
   "execution_count": null,
   "id": "4a610e71-6949-42ab-b48d-3d8aef7ef1f3",
   "metadata": {},
   "outputs": [],
   "source": [
    "X = np.array([\n",
    "    [10, 0, 1],\n",
    "    [2, 8, 1],\n",
    "    [4, 4, 1],\n",
    "])\n",
    "y = np.array([7, 5, 5]).reshape(-1, 1)\n",
    "\n",
    "c = np.linalg.solve(X, y)\n",
    "c"
   ]
  },
  {
   "cell_type": "code",
   "execution_count": null,
   "id": "0c53f30d-3d06-468d-ab23-f99725973b0d",
   "metadata": {},
   "outputs": [],
   "source": [
    "X"
   ]
  },
  {
   "cell_type": "code",
   "execution_count": null,
   "id": "5d7b119c-52e4-4d5f-9e5f-239e54ebd55f",
   "metadata": {},
   "outputs": [],
   "source": [
    "# Solve for 4, 4, 1\n"
   ]
  },
  {
   "cell_type": "code",
   "execution_count": null,
   "id": "82f408fd-c3b8-4e86-9157-caf960ae7772",
   "metadata": {},
   "outputs": [],
   "source": [
    "# Solve for 5, 5, 1\n"
   ]
  },
  {
   "cell_type": "markdown",
   "id": "b07acc64-9e8b-49ad-a1e5-348588a80b49",
   "metadata": {},
   "source": [
    "#### There is a solution for $c$ (in $Xc = y$), even if `np.linalg.solve` can't find it.\n",
    "\n",
    "- mathematically solvable"
   ]
  },
  {
   "cell_type": "code",
   "execution_count": null,
   "id": "8cd0e3c4-9685-4eac-b0f1-2f3bf21e820e",
   "metadata": {},
   "outputs": [],
   "source": [
    "X = np.array([\n",
    "    [10, 0, 1],\n",
    "    [2, 8, 1],\n",
    "    [4, 4, 1],\n",
    "    # adding the new combination\n",
    "    ???\n",
    "])\n",
    "y = np.array([7, 5, 5, ???]).reshape(-1, 1)\n",
    "\n",
    "c = np.linalg.solve(X, y)\n",
    "c"
   ]
  },
  {
   "cell_type": "markdown",
   "id": "33162599-5289-4500-be7f-c6d0847c31d2",
   "metadata": {},
   "source": [
    "### Equivalent statements\n",
    "\n",
    "* there is a solution for the system of equations and `np.linalg.solve` can find it\n",
    "* there is a solution for $c$ (in $Xc = y$), even if `np.linalg.solve` can't find it\n",
    "* $y$ is in the column space of $X$"
   ]
  },
  {
   "cell_type": "markdown",
   "id": "49da4b33-0b58-4809-a040-b69672b66b0e",
   "metadata": {},
   "source": [
    "### Problem with most tables\n",
    "\n",
    "More rows than columns in our dataset means more equations than variables.\n",
    "\n",
    "This *usually* means that:\n",
    "\n",
    "The equations aren't solvable, and y isn't in the column space of X."
   ]
  },
  {
   "cell_type": "code",
   "execution_count": null,
   "id": "4e11a08c-b93e-4e76-8e37-b555543ee785",
   "metadata": {},
   "outputs": [],
   "source": [
    "X"
   ]
  },
  {
   "cell_type": "code",
   "execution_count": null,
   "id": "810c53db-9eae-4c79-b78a-e6e134961553",
   "metadata": {},
   "outputs": [],
   "source": [
    "y"
   ]
  },
  {
   "cell_type": "markdown",
   "id": "b63d53e6-f41d-44ac-adaf-346b8fcac49c",
   "metadata": {},
   "source": [
    "Dot product both sides by `X.T` ---> this will usually make it solvable."
   ]
  },
  {
   "cell_type": "code",
   "execution_count": null,
   "id": "c64d6251-42b3-4007-8b4c-c22a994e3061",
   "metadata": {},
   "outputs": [],
   "source": [
    "c = np.linalg.solve(X, y)\n",
    "c"
   ]
  },
  {
   "cell_type": "markdown",
   "id": "a5fe9ee2-1c38-4caa-8999-206541ad1b32",
   "metadata": {},
   "source": [
    "What is special about dot product of a matrix with its transpose? Resultant shape is always a square."
   ]
  },
  {
   "cell_type": "code",
   "execution_count": null,
   "id": "1808f6a9-c87f-4cc9-9c0e-550bba77781e",
   "metadata": {},
   "outputs": [],
   "source": [
    "(X.T @ X).shape"
   ]
  },
  {
   "cell_type": "markdown",
   "id": "27c8b68d-cbb2-4fea-a4ff-71ab617831c3",
   "metadata": {},
   "source": [
    "**IMPORTANT**: We are not going to discuss how dot product works between two matrices. That is beyond the scope of CS320."
   ]
  },
  {
   "cell_type": "markdown",
   "id": "4ae340ed-0e56-4571-baac-3e987319fc0c",
   "metadata": {},
   "source": [
    "### Part 3: Projection Matrix\n",
    "\n",
    "Say X and y are known, but we can't solve for c because X has more rows than columns:\n",
    "\n",
    "### <font color='red'>$Xc = y$</font>\n",
    "\n",
    "We can, however, usually (unless there are multiple equally good solutions) solve the following, which we get by multiplying both sides by $X^T$:\n",
    "\n",
    "### <font color='red'>$X^TXc = X^Ty$</font>\n",
    "\n",
    "If we can find a c to make the above true, we can multiple both sides by $(X^TX)^{-1}$ (which generally exists unless X columns are redundant) to get this equation:\n",
    "\n",
    "$(X^TX)^{-1}X^TXc = (X^TX)^{-1}X^Ty$\n",
    "\n",
    "Simplify:\n",
    "\n",
    "$c = (X^TX)^{-1}X^Ty$\n",
    "\n",
    "Multiply both sides by X:\n",
    "\n",
    "### <font color='red'>$Xc = X(X^TX)^{-1}X^Ty$</font>\n",
    "\n",
    "### Note we started with an unsolveable $Xc = ????$ problem but multiplied $y$ by something to get a different $Xc = ????$ that is solveable.\n",
    "\n",
    "Define <font color=\"red\">$P = X(X^TX)^{-1}X^T$</font>.  This is a **projection matrix**.  If you multiply a vector by $P$, you get back another vector of the same size, with two properties:\n",
    "\n",
    "1. it will be in the column space of $X$\n",
    "2. the new vector will be as \"close\" as possible to the original vector\n",
    "\n",
    "Note: computing P is generally very expensive.\n",
    "\n",
    "### Fruit Sales Example"
   ]
  },
  {
   "cell_type": "code",
   "execution_count": null,
   "id": "dca43c5c-031c-4903-a5bc-d88b32886e38",
   "metadata": {},
   "outputs": [],
   "source": [
    "X = np.array([\n",
    "    [10, 0, 1],\n",
    "    [2, 8, 1],\n",
    "    [4, 4, 1],\n",
    "    [10, 4, 1],\n",
    "    [10, 4, 1]\n",
    "])\n",
    "y = np.array([7, 5, 5, 8, 8.5]).reshape(-1, 1)\n",
    "y"
   ]
  },
  {
   "cell_type": "markdown",
   "id": "fa640f42-bda2-40e4-ac25-287f16c9b559",
   "metadata": {},
   "source": [
    "Let's compute $P = X(X^TX)^{-1}X^T$.\n",
    "\n",
    "- **IMPORTANT**: We are not going to discuss how inverse works. That is beyond the scope of CS320.\n",
    "\n",
    "### `np.linalg.inv(a)`\n",
    "\n",
    "- computes the (multiplicative) inverse of a matrix.\n",
    "- documentation: https://numpy.org/doc/stable/reference/generated/numpy.linalg.inv.html"
   ]
  },
  {
   "cell_type": "code",
   "execution_count": null,
   "id": "37ce8352-3750-45cc-9349-d0d382cd68aa",
   "metadata": {},
   "outputs": [],
   "source": [
    "P = \n",
    "P"
   ]
  },
  {
   "cell_type": "code",
   "execution_count": null,
   "id": "cb0b9324-b3b3-4f15-ac3c-4551aa9a077f",
   "metadata": {},
   "outputs": [],
   "source": [
    "X"
   ]
  },
  {
   "cell_type": "code",
   "execution_count": null,
   "id": "9bfeba5b-0ff1-4995-b4ca-44803877cbb8",
   "metadata": {},
   "outputs": [],
   "source": [
    "y"
   ]
  },
  {
   "cell_type": "markdown",
   "id": "63507f75-1a9b-41bf-9144-607d6dd16223",
   "metadata": {},
   "source": [
    "The new vector will be as \"close\" as possible to the original vector."
   ]
  },
  {
   "cell_type": "code",
   "execution_count": null,
   "id": "e74b56db-6e96-4257-b70c-3eefa3e5684c",
   "metadata": {},
   "outputs": [],
   "source": [
    "P @ y"
   ]
  },
  {
   "cell_type": "markdown",
   "id": "4f4a2903-d227-45c1-9101-27aab326872d",
   "metadata": {},
   "source": [
    "#### Scatter plot visualization"
   ]
  },
  {
   "cell_type": "markdown",
   "id": "28fbbe1e-7884-441f-87dc-af8682e64f28",
   "metadata": {},
   "source": [
    "**IMPORTANT**: We are not going to discuss how `np.random.normal` works. You can look up the documentation if you are interested."
   ]
  },
  {
   "cell_type": "code",
   "execution_count": null,
   "id": "3fb5af2c-6a68-4c7b-9a5f-745a29e54e66",
   "metadata": {},
   "outputs": [],
   "source": [
    "x = np.random.normal(5, 2, size=(10, 1))\n",
    "y = 2*x + np.random.normal(size=x.shape)\n",
    "df = pd.DataFrame({\"x\": x.reshape(-1), \"y\": y.reshape(-1)})\n",
    "df"
   ]
  },
  {
   "cell_type": "code",
   "execution_count": null,
   "id": "7d19f3b2-c571-45ec-9f1b-e010ee87ff97",
   "metadata": {},
   "outputs": [],
   "source": [
    "df.plot.scatter(x=\"x\", y=\"y\", figsize=(3, 2))"
   ]
  },
  {
   "cell_type": "code",
   "execution_count": null,
   "id": "e5a09bb5-1481-46e2-9f87-cb68c1bbb0dd",
   "metadata": {},
   "outputs": [],
   "source": [
    "# Extract X ---> features: [\"x\"]\n",
    "X = ???\n",
    "X"
   ]
  },
  {
   "cell_type": "code",
   "execution_count": null,
   "id": "79b69eb8-3431-465d-aa43-2e0f6aa5260b",
   "metadata": {},
   "outputs": [],
   "source": [
    "P = X @ np.linalg.inv(X.T @ X) @ X.T\n",
    "P"
   ]
  },
  {
   "cell_type": "code",
   "execution_count": null,
   "id": "330df35b-0409-4f3c-8cc9-fab95737e5df",
   "metadata": {},
   "outputs": [],
   "source": [
    "# Extract y ---> prediction value: [\"y\"]\n",
    "df[\"p\"] = P @ ???\n",
    "df"
   ]
  },
  {
   "cell_type": "code",
   "execution_count": null,
   "id": "38a62615-16c8-4a2f-a4fa-fae15719b463",
   "metadata": {},
   "outputs": [],
   "source": [
    "ax = df.plot.scatter(x=\"x\", y=\"y\", figsize=(3, 2), color=\"k\")\n",
    "df.plot.scatter(x=\"x\", y=\"p\", color=\"r\", ax=ax)"
   ]
  },
  {
   "cell_type": "markdown",
   "id": "e8748114-0ef4-45a5-97e7-d3e33dc1dafc",
   "metadata": {},
   "source": [
    "### Euclidean Distance between columns\n",
    "\n",
    "- how close is the new vector (`P @ y`) to the original vector (`y`)?\n",
    "- $dist$ = $\\sqrt{(x2 - x1)^2 + (y2 - y1)^2}$"
   ]
  },
  {
   "cell_type": "code",
   "execution_count": null,
   "id": "b55cca0a-a2e1-4d0c-bed7-c3823c20751d",
   "metadata": {},
   "outputs": [],
   "source": [
    "coords = pd.DataFrame({\n",
    "    \"v1\": [1, 8],\n",
    "    \"v2\": [4, 12],\n",
    "}, index=[\"x\", \"y\"])\n",
    "coords"
   ]
  },
  {
   "cell_type": "code",
   "execution_count": null,
   "id": "fbeb004d-8bd4-41c8-81f9-5ee3ae342880",
   "metadata": {},
   "outputs": [],
   "source": [
    "# distance between v1 and v2 is 5\n"
   ]
  },
  {
   "cell_type": "code",
   "execution_count": null,
   "id": "793c1a04-9dd3-4635-bd80-c90dcbccda5b",
   "metadata": {},
   "outputs": [],
   "source": [
    "# this is the smallest possible distance between y and p, such\n",
    "# that X @ c = p is solveable\n",
    "((df[\"y\"] - df[\"p\"]) ** 2).sum() ** 0.5"
   ]
  },
  {
   "cell_type": "markdown",
   "id": "92c0eb37-5d41-4d06-bba8-765bbad3f4c4",
   "metadata": {},
   "source": [
    "### Lab review"
   ]
  },
  {
   "cell_type": "code",
   "execution_count": null,
   "id": "5bc169db-7270-476a-80aa-6c172174b51c",
   "metadata": {},
   "outputs": [],
   "source": [
    "# As an exception, I am providing all the relevant import statements in this cell\n",
    "import numpy as np\n",
    "import rasterio\n",
    "from rasterio.mask import mask\n",
    "from shapely.geometry import box\n",
    "import geopandas as gpd\n",
    "\n",
    "land = rasterio.open(\"zip://land.zip!wi.tif\")\n",
    "# a = land.read()\n",
    "window = gpd.GeoSeries([box(-89.5, 43, -89.2, 43.2)]).set_crs(\"epsg:4326\").to_crs(land.crs)\n",
    "plt.imshow(mask(land, window, crop=True)[0][0])"
   ]
  },
  {
   "cell_type": "code",
   "execution_count": null,
   "id": "b4155269-7c0e-4162-b54c-2a14cc672c57",
   "metadata": {},
   "outputs": [],
   "source": []
  }
 ],
 "metadata": {
  "kernelspec": {
   "display_name": "Python 3 (ipykernel)",
   "language": "python",
   "name": "python3"
  },
  "language_info": {
   "codemirror_mode": {
    "name": "ipython",
    "version": 3
   },
   "file_extension": ".py",
   "mimetype": "text/x-python",
   "name": "python",
   "nbconvert_exporter": "python",
   "pygments_lexer": "ipython3",
   "version": "3.10.12"
  }
 },
 "nbformat": 4,
 "nbformat_minor": 5
}
