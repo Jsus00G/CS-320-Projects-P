{
 "cells": [
  {
   "cell_type": "markdown",
   "id": "d684d88e-e96d-4392-b4d6-92d3f1669b32",
   "metadata": {},
   "source": [
    "# Binary Search Trees"
   ]
  },
  {
   "cell_type": "markdown",
   "id": "2aa18ada-5f6a-4ea1-99ae-cb15cfd014bf",
   "metadata": {},
   "source": [
    "### Review **tree** terminology:\n",
    "- **root**: any node with no parents\n",
    "- **leaf**: any node with no children\n",
    "- **tree**: DAG (directed acyclic graph) with exactly one **root** node and all other nodes have exactly one parent"
   ]
  },
  {
   "cell_type": "code",
   "execution_count": null,
   "id": "66ba808a",
   "metadata": {},
   "outputs": [],
   "source": [
    "from graphviz import Graph, Digraph\n",
    "import random\n",
    "import math"
   ]
  },
  {
   "cell_type": "markdown",
   "id": "8b758d75",
   "metadata": {},
   "source": [
    "### Is this a tree? If not, how do we make it into a tree?"
   ]
  },
  {
   "cell_type": "code",
   "execution_count": null,
   "id": "d62b95dc-9f28-4e6e-a3a0-e0aac6e6eb3b",
   "metadata": {},
   "outputs": [],
   "source": [
    "g = Graph()\n",
    "g.edge(\"1\", \"2\", label=\"left\")\n",
    "g.edge(\"1\", \"3\", label=\"right\")\n",
    "g"
   ]
  },
  {
   "cell_type": "markdown",
   "id": "aa0f43f8",
   "metadata": {},
   "source": [
    "### Special cases of trees\n",
    "- **Linked list**: a tree, where each node has *at most* one child\n",
    "- **Binary tree**:  a tree, where each has *at most* two children"
   ]
  },
  {
   "cell_type": "markdown",
   "id": "ad9cb499-9f5f-418e-bc94-e32ea92ca053",
   "metadata": {},
   "source": [
    "### Review: recursive functions\n",
    "1. *Category 1*: functions that do some action (for example: printing, appending, etc.,)\n",
    "2. *Category 2*: functions that return some computation"
   ]
  },
  {
   "cell_type": "markdown",
   "id": "a6b914b2",
   "metadata": {},
   "source": [
    "## Binary tree"
   ]
  },
  {
   "cell_type": "code",
   "execution_count": null,
   "id": "847dc240-ca01-4f1a-a4d7-13fed4fe3995",
   "metadata": {},
   "outputs": [],
   "source": [
    "# TODO: define Node class\n",
    "    \n",
    "\n",
    "    # Category 1: functions that do some action\n",
    "    def dump(self):\n",
    "        \"\"\"\n",
    "        prints out name of every node in the tree with some basic formatting\n",
    "        \"\"\"\n",
    "        pass\n",
    "            \n",
    "    # Category 2: functions that return some computation\n",
    "    def search(self, target):\n",
    "        \"\"\"\n",
    "        returns True/False, if target is somewhere in the tree\n",
    "        \"\"\"\n",
    "        pass\n",
    "        # TODO: what is the simplest example in this case?\n",
    "\n"
   ]
  },
  {
   "cell_type": "markdown",
   "id": "e81ed3ef",
   "metadata": {},
   "source": [
    "### Let's come up with testcases for `search(...)`"
   ]
  },
  {
   "cell_type": "code",
   "execution_count": null,
   "id": "c5248d0a",
   "metadata": {},
   "outputs": [],
   "source": [
    "print(node1.search()) # should be \n",
    "print(node1.search()) # should be \n",
    "print(node1.search()) # should be \n",
    "print(node1.search()) # should be\n",
    "print(node1.search()) # should be "
   ]
  },
  {
   "cell_type": "markdown",
   "id": "c05e82e7",
   "metadata": {},
   "source": [
    "#### How many times is search(...) called, in the worst case?  \n",
    "- Assume tree has *N* nodes.  \n",
    "- Complexity is: ???"
   ]
  },
  {
   "cell_type": "markdown",
   "id": "a8dd4937-73cd-4846-a3dc-846d3254a6f7",
   "metadata": {},
   "source": [
    "### Code folding notebook extension\n",
    "\n",
    "- Go to \"jupyterlab\" > \"Settings\" > \"Advanced Settings Editor\" > \"Notebook\" > \"Rulers\" > enable \"Code Folding\" (there should be three such settings)."
   ]
  },
  {
   "cell_type": "markdown",
   "id": "94b31568-2070-495c-8a70-54a12ad9f2dd",
   "metadata": {},
   "source": [
    "## Binary Search Tree\n",
    "\n",
    "- special case of *Binary trees*\n",
    "- **BST rule**: any node's value is bigger than every value in its left subtree, and smaller than every value in its right subtree\n",
    "- TODO: write a method to add values to a BST, while preserving the BST rule\n",
    "- TODO: modify the search method of binary tree to make it suitable for BST (better complexity than O(N)\n",
    "- TODO: write a method to find height of a BST"
   ]
  },
  {
   "cell_type": "code",
   "execution_count": null,
   "id": "894a39d2-5e3b-4178-bc1b-dedf0b5a86c0",
   "metadata": {},
   "outputs": [],
   "source": [
    "class BSTNode:\n",
    "    def __init__(self, label):\n",
    "        self.label = label\n",
    "        self.left = None\n",
    "        self.right = None\n",
    "    \n",
    "    # Category 1: functions that do some action\n",
    "    def dump(self, prefix=\"\", suffix=\"\"):\n",
    "        \"\"\"\n",
    "        prints out name of every node in the tree with some basic formatting\n",
    "        \"\"\"\n",
    "        print(prefix, self.label, suffix)\n",
    "        if self.left != None:\n",
    "            self.left.dump(prefix+\"\\t\", \"(LEFT)\")\n",
    "        if self.right != None:\n",
    "            self.right.dump(prefix+\"\\t\", \"(RIGHT)\")\n",
    "            \n",
    "    # Category 2: functions that return some computation\n",
    "    def search(self, target):\n",
    "        \"\"\"\n",
    "        returns True/False, if target is somewhere in the tree\n",
    "        \"\"\"\n",
    "        if target == self.label:\n",
    "            return True\n",
    "\n",
    "        if self.left != None:\n",
    "            if self.left.search(target):\n",
    "                return True\n",
    "        \n",
    "        if self.right != None:\n",
    "            if self.right.search(target):\n",
    "                return True\n",
    "        \n",
    "        return False\n",
    "    \n",
    "    def add(self, label):\n",
    "        \"\"\"\n",
    "        Finds the correct spot for label and adds a new node with it.\n",
    "        Assumes that tree already contains at least one node -> TODO: discuss why?\n",
    "        Raises ValueError if label is already on the tree.\n",
    "        \"\"\"\n",
    "        pass\n",
    "            \n",
    "\n",
    "    def height(self):\n",
    "        \"\"\"\n",
    "        Calculates height of the BST.\n",
    "        Height: the number of nodes on the longest root-to-leaf path (including the root)\n",
    "        \"\"\"\n",
    "        pass"
   ]
  },
  {
   "cell_type": "markdown",
   "id": "1d6935d8",
   "metadata": {},
   "source": [
    "### Does this tree satisfy BST rule? If not, which node violates it and how can we fix its position?\n",
    "- Let's not displace other children node to find a new spot for the node in violation of BST rule."
   ]
  },
  {
   "cell_type": "code",
   "execution_count": null,
   "id": "7047d184",
   "metadata": {},
   "outputs": [],
   "source": [
    "root = BSTNode(10)\n",
    "root.left = BSTNode(2)\n",
    "root.left.left = BSTNode(1)\n",
    "root.left.right = BSTNode(4)\n",
    "root.left.right.left = BSTNode(3)\n",
    "root.right = BSTNode(15)\n",
    "root.right.left = BSTNode(12)\n",
    "root.right.right = BSTNode(19)\n",
    "root.right.left.left = BSTNode(8)\n",
    "root.dump()"
   ]
  },
  {
   "cell_type": "markdown",
   "id": "1d56266b",
   "metadata": {},
   "source": [
    "### BST after fix"
   ]
  },
  {
   "cell_type": "code",
   "execution_count": null,
   "id": "dfbfc6e8",
   "metadata": {},
   "outputs": [],
   "source": []
  },
  {
   "cell_type": "markdown",
   "id": "0b569d76-171d-4147-b9a9-99decc506f25",
   "metadata": {},
   "source": [
    "### Recursive `add` method\n",
    "- Manually creating a tree is cumbersome and subject to mistakes (violations of BST rule)\n",
    "-  Write a method to add values to a BST, while preserving the BST rule"
   ]
  },
  {
   "cell_type": "code",
   "execution_count": null,
   "id": "9e4d2609-709e-497f-988e-45dc765bc603",
   "metadata": {},
   "outputs": [],
   "source": [
    "# create a BST with the following list \n",
    "values = [10, 2, 1, 4, 8, 3, 15, 12, 19]\n"
   ]
  },
  {
   "cell_type": "markdown",
   "id": "a6978d3f-17d8-499b-9ea0-a46937741c7b",
   "metadata": {},
   "source": [
    "### Recursive `search` method\n",
    "-  modify the search method of binary tree to make it suitable for binary search tree"
   ]
  },
  {
   "cell_type": "markdown",
   "id": "77d45804",
   "metadata": {},
   "source": [
    "### Testcases for BST `search(...)`"
   ]
  },
  {
   "cell_type": "code",
   "execution_count": null,
   "id": "e2ef8e73",
   "metadata": {},
   "outputs": [],
   "source": [
    "print(root.search(10)) # should be \n",
    "print(root.search(11)) # should be \n",
    "print(root.search(19)) # should be \n",
    "print(root.search(5))  # should be "
   ]
  },
  {
   "cell_type": "markdown",
   "id": "6ae7786b",
   "metadata": {},
   "source": [
    "#### How many times is BST search(...) called, in the worst case?  \n",
    "- Assume tree has *N* nodes.  \n",
    "- Complexity is: ???"
   ]
  },
  {
   "cell_type": "markdown",
   "id": "420e3af1-4d97-460e-a5cc-a775f076d856",
   "metadata": {},
   "source": [
    "### Recursive `height` method\n",
    "\n",
    "- write a method to find hight of a BST\n",
    "- **Height**: the number of nodes on the longest root-to-leaf path (including the root)\n",
    "- left subtree has height 4, right subtree has height 6, my height = ?\n",
    "- left subtree has height 4, right subtree has height 4, my height = ?\n",
    "- left subtree has height 10, right subtree has height 0, my height = ?\n",
    "- left subtree has height of l, right subtree has height of r, my height = ?\n",
    "- What is the simplest case for height calculation?\n",
    "    - What are the values of l and r in that case?"
   ]
  },
  {
   "cell_type": "code",
   "execution_count": null,
   "id": "46f5726c-0da9-44a3-bfbc-a4419e538874",
   "metadata": {},
   "outputs": [],
   "source": [
    "# TODO: Let's implement and invoke the height method\n"
   ]
  },
  {
   "cell_type": "markdown",
   "id": "5bc861b4-d9f7-4196-af67-58daf3ecaf01",
   "metadata": {},
   "source": [
    "### Tree containing 100 values\n",
    "- let's use range(...) to produce a sequence of 100 integers\n",
    "- recall that range(...) returns a sequence in increasing order\n",
    "- what will be the height of this tree? **100**"
   ]
  },
  {
   "cell_type": "code",
   "execution_count": null,
   "id": "6c3d76af-7572-4de3-99d2-b8a4e74d31ce",
   "metadata": {},
   "outputs": [],
   "source": [
    "values = list(range(100))\n",
    "# Q: Is this tree balanced?\n",
    "# A: \n"
   ]
  },
  {
   "cell_type": "markdown",
   "id": "16b8b8b9-12e8-4187-8eab-b33b571bbd1c",
   "metadata": {},
   "source": [
    "#### Let's use `random` module `shuffle` function to randomly order the sequence of 100 numbers.\n",
    "- in-place re-ordering of numbers (just like `sort` method)"
   ]
  },
  {
   "cell_type": "code",
   "execution_count": null,
   "id": "5474fa4c-133e-43e0-aeef-5939e20de5da",
   "metadata": {},
   "outputs": [],
   "source": [
    "values = list(range(100))\n",
    "random.shuffle(values)\n",
    "# Q: Is this tree balanced?\n",
    "# A: depends on the shuffling, you can check using math.log2(N)\n",
    "\n",
    "root = BSTNode(values[0])\n",
    "for val in values[1:]:\n",
    "    root.add(val)\n",
    "    \n",
    "print(root.height())\n",
    "root.dump(\"\", \"(ROOT)\")"
   ]
  },
  {
   "cell_type": "code",
   "execution_count": null,
   "id": "81fbcd24-9804-4cbb-b6f5-815374212b41",
   "metadata": {},
   "outputs": [],
   "source": [
    "math.log2(100)"
   ]
  },
  {
   "cell_type": "markdown",
   "id": "e7c8573e-7c43-47e2-a848-bdf4969ff994",
   "metadata": {},
   "source": [
    "### Balanced BSTs / Self-balancing BSTs\n",
    "- not a covered topic for the purpose of this course\n",
    "- you can explore the below recursive function definition if you are interested\n",
    "- you are **not required** to know how to do this"
   ]
  },
  {
   "cell_type": "code",
   "execution_count": null,
   "id": "5cf4e48b-8f40-42d5-a015-1165a4f05fae",
   "metadata": {},
   "outputs": [],
   "source": [
    "# Recrusive function that\n",
    "def sorted_array_to_bst(nums, bst_nums):\n",
    "    \"\"\"\n",
    "    Produces best ordering nums (a list of sorted numbers),\n",
    "    for the purpose of creating a balanced BST.\n",
    "    Writes new ordering of numbers into bst_nums.\n",
    "    \"\"\"\n",
    "    if len(nums) == 0:\n",
    "        return None\n",
    "    elif len(nums) == 1:\n",
    "        bst_nums.append(nums[0])\n",
    "    else:\n",
    "        mid_index = len(nums)//2\n",
    "        bst_nums.append(nums[mid_index])\n",
    "        \n",
    "        # recurse left\n",
    "        left_val = sorted_array_to_bst(nums[:mid_index], bst_nums)\n",
    "        if left_val != None:\n",
    "            bst_nums.append(left_val)\n",
    "\n",
    "        # recurse right\n",
    "        right_val = sorted_array_to_bst(nums[mid_index+1:], bst_nums)\n",
    "        if right_val != None:\n",
    "            bst_nums.append(right_val)"
   ]
  },
  {
   "cell_type": "code",
   "execution_count": null,
   "id": "f3639bd4-ff7d-4c82-80c6-c353e8d8c5c3",
   "metadata": {},
   "outputs": [],
   "source": [
    "bst_nums = []\n",
    "sorted_array_to_bst(list(range(5)), bst_nums)\n",
    "bst_nums"
   ]
  },
  {
   "cell_type": "code",
   "execution_count": null,
   "id": "88e209a1-1a93-4224-8fc6-49742c0bcb5c",
   "metadata": {},
   "outputs": [],
   "source": [
    "bst_nums = []\n",
    "sorted_array_to_bst(list(range(100)), bst_nums)\n",
    "\n",
    "root = BSTNode(bst_nums[0])\n",
    "for val in bst_nums[1:]:\n",
    "    root.add(val)\n",
    "\n",
    "print(root.height())"
   ]
  },
  {
   "cell_type": "code",
   "execution_count": null,
   "id": "de32fe8e-9f06-492d-bedf-aa67b42ed890",
   "metadata": {},
   "outputs": [],
   "source": [
    "bst_nums = []\n",
    "sorted_array_to_bst(list(range(5)), bst_nums)\n",
    "\n",
    "root = BSTNode(bst_nums[0])\n",
    "for val in bst_nums[1:]:\n",
    "    root.add(val)\n",
    "\n",
    "print(root.height())\n",
    "root.dump(\"\", \"(ROOT)\")"
   ]
  },
  {
   "cell_type": "code",
   "execution_count": null,
   "id": "6c3319dc-4534-43c1-94c0-074c64f19238",
   "metadata": {},
   "outputs": [],
   "source": []
  }
 ],
 "metadata": {
  "kernelspec": {
   "display_name": "Python 3 (ipykernel)",
   "language": "python",
   "name": "python3"
  },
  "language_info": {
   "codemirror_mode": {
    "name": "ipython",
    "version": 3
   },
   "file_extension": ".py",
   "mimetype": "text/x-python",
   "name": "python",
   "nbconvert_exporter": "python",
   "pygments_lexer": "ipython3",
   "version": "3.10.12"
  }
 },
 "nbformat": 4,
 "nbformat_minor": 5
}
